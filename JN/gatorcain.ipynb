{
 "cells": [
  {
   "cell_type": "code",
   "execution_count": 1,
   "outputs": [],
   "source": [
    "import pandas as pd\n",
    "import numpy as np"
   ],
   "metadata": {
    "collapsed": false
   }
  },
  {
   "cell_type": "code",
   "execution_count": 2,
   "outputs": [],
   "source": [
    "data = pd.DataFrame({\n",
    "    'Name': [\n",
    "        'Irma',\n",
    "        'Ian',\n",
    "        'Wilma',\n",
    "        'Frances',\n",
    "        'Jeanne',\n",
    "        'Charley',\n",
    "        'Ivan',\n",
    "        'Michael'\n",
    "    ],\n",
    "    'IHP': [\n",
    "        1020976908.08,\n",
    "        917127545.87,\n",
    "        342259581.97,\n",
    "        411815685.98,\n",
    "        398618731.65,\n",
    "        208970753.97,\n",
    "        164509853.53,\n",
    "        149572302.29\n",
    "    ],\n",
    "    'Year': [\n",
    "        '2017-09-10',\n",
    "        '2022-09-29',\n",
    "        '2005-10-24',\n",
    "        '2004-09-04',\n",
    "        '2004-09-26',\n",
    "        '2004-08-13',\n",
    "        '2004-09-16',\n",
    "        '2018-10-11'\n",
    "    ],\n",
    "    'Wind speed kt': [\n",
    "        100,\n",
    "        125,\n",
    "        105,\n",
    "        90,\n",
    "        105,\n",
    "        130,\n",
    "        105,\n",
    "        140\n",
    "    ],\n",
    "    'Affected Counties': [\n",
    "        67,\n",
    "        77,\n",
    "        20,\n",
    "        67,\n",
    "        53,\n",
    "        67,\n",
    "        45,\n",
    "        18\n",
    "    ]\n",
    "}, columns=['Name', 'IHP', 'Year', 'Wind speed kt', 'Affected Counties', 'Rainfall', 'Building Code'])\n",
    "data.set_index('Name', inplace=True)"
   ],
   "metadata": {
    "collapsed": false
   }
  },
  {
   "cell_type": "code",
   "execution_count": 3,
   "outputs": [],
   "source": [
    "declarations = pd.read_csv('gatorcain_data/declarations_clean_data.csv')"
   ],
   "metadata": {
    "collapsed": false
   }
  },
  {
   "cell_type": "markdown",
   "source": [
    "# Get disaster Number"
   ],
   "metadata": {
    "collapsed": false
   }
  },
  {
   "cell_type": "code",
   "execution_count": 4,
   "outputs": [
    {
     "data": {
      "text/plain": "                          declarationDate  \\\ndisasterNumber                              \n1539            2004-08-13 00:00:00+00:00   \n1545            2004-09-04 00:00:00+00:00   \n1551            2004-09-16 00:00:00+00:00   \n1561            2004-09-26 00:00:00+00:00   \n1595            2005-07-10 00:00:00+00:00   \n1602            2005-08-28 00:00:00+00:00   \n1609            2005-10-24 00:00:00+00:00   \n1806            2008-10-27 00:00:00+00:00   \n4084            2012-10-18 00:00:00+00:00   \n4280            2016-09-28 00:00:00+00:00   \n4283            2016-10-08 00:00:00+00:00   \n4337            2017-09-10 00:00:00+00:00   \n4341            2017-09-27 00:00:00+00:00   \n4399            2018-10-11 00:00:00+00:00   \n4468            2019-10-21 00:00:00+00:00   \n4564            2020-09-23 00:00:00+00:00   \n4673            2022-09-29 00:00:00+00:00   \n4675            2022-09-30 00:00:00+00:00   \n4680            2022-12-13 00:00:00+00:00   \n\n                                           declarationTitle  \\\ndisasterNumber                                                \n1539            TROPICAL STORM BONNIE AND HURRICANE CHARLEY   \n1545                                      HURRICANE FRANCES   \n1551                                         HURRICANE IVAN   \n1561                                       HURRICANE JEANNE   \n1595                                       HURRICANE DENNIS   \n1602                                      HURRICANE KATRINA   \n1609                                        HURRICANE WILMA   \n1806                                       HURRICANE GUSTAV   \n4084                                        HURRICANE ISAAC   \n4280                                      HURRICANE HERMINE   \n4283                                      HURRICANE MATTHEW   \n4337                                         HURRICANE IRMA   \n4341             HURRICANE IRMA - SEMINOLE TRIBE OF FLORIDA   \n4399                                      HURRICANE MICHAEL   \n4468                                       HURRICANE DORIAN   \n4564                                        HURRICANE SALLY   \n4673                                          HURRICANE IAN   \n4675              HURRICANE IAN - SEMINOLE TRIBE OF FLORIDA   \n4680                                       HURRICANE NICOLE   \n\n                                                   designatedArea  \\\ndisasterNumber                                                      \n1539            Franklin (County),Wakulla (County),Hendry (Cou...   \n1545            Sarasota (County),Nassau (County),Okeechobee (...   \n1551            Jackson (County),Wakulla (County),Washington (...   \n1561            Marion (County),Hernando (County),Palm Beach (...   \n1595            Calhoun (County),Gadsden (County),Wakulla (Cou...   \n1602            Santa Rosa (County),Escambia (County),Miami-Da...   \n1609            Brevard (County),Hendry (County),DeSoto (Count...   \n1806            Santa Rosa (County),Gulf (County),Okaloosa (Co...   \n4084            Escambia (County),St. Lucie (County),Okaloosa ...   \n4280            Marion (County),Levy (County),Gadsden (County)...   \n4283            Brevard (County),Flagler (County),Lake (County...   \n4337            Liberty (County),Lee (County),Columbia (County...   \n4341            Big Cypress Indian Reservation,Hollywood India...   \n4399            Leon (County),Bay (County),Liberty (County),Ga...   \n4468            Broward (County),Nassau (County),Palm Beach (C...   \n4564            Calhoun (County),Gadsden (County),Gulf (County...   \n4673            Jefferson (County),Sumter (County),Gilchrist (...   \n4675            Big Cypress Indian Reservation,Brighton Indian...   \n4680            Hendry (County),Hernando (County),Bradford (Co...   \n\n                Affected Counties  \ndisasterNumber                     \n1539                           67  \n1545                           67  \n1551                           45  \n1561                           53  \n1595                           20  \n1602                           11  \n1609                           20  \n1806                            6  \n4084                           12  \n4280                           26  \n4283                           18  \n4337                           67  \n4341                            6  \n4399                           18  \n4468                           14  \n4564                           14  \n4673                           77  \n4675                            7  \n4680                           63  ",
      "text/html": "<div>\n<style scoped>\n    .dataframe tbody tr th:only-of-type {\n        vertical-align: middle;\n    }\n\n    .dataframe tbody tr th {\n        vertical-align: top;\n    }\n\n    .dataframe thead th {\n        text-align: right;\n    }\n</style>\n<table border=\"1\" class=\"dataframe\">\n  <thead>\n    <tr style=\"text-align: right;\">\n      <th></th>\n      <th>declarationDate</th>\n      <th>declarationTitle</th>\n      <th>designatedArea</th>\n      <th>Affected Counties</th>\n    </tr>\n    <tr>\n      <th>disasterNumber</th>\n      <th></th>\n      <th></th>\n      <th></th>\n      <th></th>\n    </tr>\n  </thead>\n  <tbody>\n    <tr>\n      <th>1539</th>\n      <td>2004-08-13 00:00:00+00:00</td>\n      <td>TROPICAL STORM BONNIE AND HURRICANE CHARLEY</td>\n      <td>Franklin (County),Wakulla (County),Hendry (Cou...</td>\n      <td>67</td>\n    </tr>\n    <tr>\n      <th>1545</th>\n      <td>2004-09-04 00:00:00+00:00</td>\n      <td>HURRICANE FRANCES</td>\n      <td>Sarasota (County),Nassau (County),Okeechobee (...</td>\n      <td>67</td>\n    </tr>\n    <tr>\n      <th>1551</th>\n      <td>2004-09-16 00:00:00+00:00</td>\n      <td>HURRICANE IVAN</td>\n      <td>Jackson (County),Wakulla (County),Washington (...</td>\n      <td>45</td>\n    </tr>\n    <tr>\n      <th>1561</th>\n      <td>2004-09-26 00:00:00+00:00</td>\n      <td>HURRICANE JEANNE</td>\n      <td>Marion (County),Hernando (County),Palm Beach (...</td>\n      <td>53</td>\n    </tr>\n    <tr>\n      <th>1595</th>\n      <td>2005-07-10 00:00:00+00:00</td>\n      <td>HURRICANE DENNIS</td>\n      <td>Calhoun (County),Gadsden (County),Wakulla (Cou...</td>\n      <td>20</td>\n    </tr>\n    <tr>\n      <th>1602</th>\n      <td>2005-08-28 00:00:00+00:00</td>\n      <td>HURRICANE KATRINA</td>\n      <td>Santa Rosa (County),Escambia (County),Miami-Da...</td>\n      <td>11</td>\n    </tr>\n    <tr>\n      <th>1609</th>\n      <td>2005-10-24 00:00:00+00:00</td>\n      <td>HURRICANE WILMA</td>\n      <td>Brevard (County),Hendry (County),DeSoto (Count...</td>\n      <td>20</td>\n    </tr>\n    <tr>\n      <th>1806</th>\n      <td>2008-10-27 00:00:00+00:00</td>\n      <td>HURRICANE GUSTAV</td>\n      <td>Santa Rosa (County),Gulf (County),Okaloosa (Co...</td>\n      <td>6</td>\n    </tr>\n    <tr>\n      <th>4084</th>\n      <td>2012-10-18 00:00:00+00:00</td>\n      <td>HURRICANE ISAAC</td>\n      <td>Escambia (County),St. Lucie (County),Okaloosa ...</td>\n      <td>12</td>\n    </tr>\n    <tr>\n      <th>4280</th>\n      <td>2016-09-28 00:00:00+00:00</td>\n      <td>HURRICANE HERMINE</td>\n      <td>Marion (County),Levy (County),Gadsden (County)...</td>\n      <td>26</td>\n    </tr>\n    <tr>\n      <th>4283</th>\n      <td>2016-10-08 00:00:00+00:00</td>\n      <td>HURRICANE MATTHEW</td>\n      <td>Brevard (County),Flagler (County),Lake (County...</td>\n      <td>18</td>\n    </tr>\n    <tr>\n      <th>4337</th>\n      <td>2017-09-10 00:00:00+00:00</td>\n      <td>HURRICANE IRMA</td>\n      <td>Liberty (County),Lee (County),Columbia (County...</td>\n      <td>67</td>\n    </tr>\n    <tr>\n      <th>4341</th>\n      <td>2017-09-27 00:00:00+00:00</td>\n      <td>HURRICANE IRMA - SEMINOLE TRIBE OF FLORIDA</td>\n      <td>Big Cypress Indian Reservation,Hollywood India...</td>\n      <td>6</td>\n    </tr>\n    <tr>\n      <th>4399</th>\n      <td>2018-10-11 00:00:00+00:00</td>\n      <td>HURRICANE MICHAEL</td>\n      <td>Leon (County),Bay (County),Liberty (County),Ga...</td>\n      <td>18</td>\n    </tr>\n    <tr>\n      <th>4468</th>\n      <td>2019-10-21 00:00:00+00:00</td>\n      <td>HURRICANE DORIAN</td>\n      <td>Broward (County),Nassau (County),Palm Beach (C...</td>\n      <td>14</td>\n    </tr>\n    <tr>\n      <th>4564</th>\n      <td>2020-09-23 00:00:00+00:00</td>\n      <td>HURRICANE SALLY</td>\n      <td>Calhoun (County),Gadsden (County),Gulf (County...</td>\n      <td>14</td>\n    </tr>\n    <tr>\n      <th>4673</th>\n      <td>2022-09-29 00:00:00+00:00</td>\n      <td>HURRICANE IAN</td>\n      <td>Jefferson (County),Sumter (County),Gilchrist (...</td>\n      <td>77</td>\n    </tr>\n    <tr>\n      <th>4675</th>\n      <td>2022-09-30 00:00:00+00:00</td>\n      <td>HURRICANE IAN - SEMINOLE TRIBE OF FLORIDA</td>\n      <td>Big Cypress Indian Reservation,Brighton Indian...</td>\n      <td>7</td>\n    </tr>\n    <tr>\n      <th>4680</th>\n      <td>2022-12-13 00:00:00+00:00</td>\n      <td>HURRICANE NICOLE</td>\n      <td>Hendry (County),Hernando (County),Bradford (Co...</td>\n      <td>63</td>\n    </tr>\n  </tbody>\n</table>\n</div>"
     },
     "execution_count": 4,
     "metadata": {},
     "output_type": "execute_result"
    }
   ],
   "source": [
    "declarations = declarations[declarations['declarationType'] == 'DR']\n",
    "declarations.set_index('disasterNumber', inplace=True)\n",
    "declarations['Affected Counties'] = declarations['designatedArea'].str.count(',') + 1\n",
    "declarations = declarations.drop('declarationType', axis=1)\n",
    "declarations"
   ],
   "metadata": {
    "collapsed": false
   }
  },
  {
   "cell_type": "markdown",
   "source": [
    "# Getting The number of claims per city"
   ],
   "metadata": {
    "collapsed": false
   }
  },
  {
   "cell_type": "markdown",
   "source": [
    "# Claims ihp sum per county"
   ],
   "metadata": {
    "collapsed": false
   }
  },
  {
   "cell_type": "code",
   "execution_count": 66,
   "outputs": [
    {
     "name": "stdout",
     "output_type": "stream",
     "text": [
      "14356737.84 31230442.14\n",
      "118113978.73 92792494.99\n",
      "106264061.92 223355515.32\n"
     ]
    }
   ],
   "source": [
    "broward_miami_claims = pd.read_csv('gatorcain_data/broward_miami_claims.csv')\n",
    "\n",
    "frances_claims = broward_miami_claims[broward_miami_claims['disasterNumber'] == 1545]\n",
    "\n",
    "# calc sum for broward\n",
    "broward_frances = frances_claims[frances_claims['county'] == 'Broward (County)']\n",
    "# calc sum for miami\n",
    "miami_frances = frances_claims[frances_claims['county'] != 'Broward (County)']\n",
    "\n",
    "print(broward_frances['ihpAmount'].sum(), miami_frances['ihpAmount'].sum())\n",
    "\n",
    "wilma_claims = broward_miami_claims[broward_miami_claims['disasterNumber'] == 1609]\n",
    "\n",
    "# calc sum for broward\n",
    "broward_wilma = wilma_claims[wilma_claims['county'] == 'Broward (County)']\n",
    "# calc sum for miami\n",
    "miami_wilma = wilma_claims[wilma_claims['county'] != 'Broward (County)']\n",
    "\n",
    "print(broward_wilma['ihpAmount'].sum(), miami_wilma['ihpAmount'].sum())\n",
    "\n",
    "irma_claims = broward_miami_claims[broward_miami_claims['disasterNumber'] == 4337]\n",
    "\n",
    "# calc sum for broward\n",
    "broward_irma = irma_claims[irma_claims['county'] == 'Broward (County)']\n",
    "# calc sum for miami\n",
    "miami_irma = irma_claims[irma_claims['county'] != 'Broward (County)']\n",
    "\n",
    "print(broward_irma['ihpAmount'].sum(), miami_irma['ihpAmount'].sum())"
   ],
   "metadata": {
    "collapsed": false
   }
  },
  {
   "cell_type": "code",
   "execution_count": 68,
   "outputs": [
    {
     "data": {
      "text/plain": "(178791, 6)"
     },
     "execution_count": 68,
     "metadata": {},
     "output_type": "execute_result"
    }
   ],
   "source": [
    "miami_irma.shape"
   ],
   "metadata": {
    "collapsed": false
   }
  },
  {
   "cell_type": "code",
   "execution_count": 70,
   "outputs": [
    {
     "data": {
      "text/plain": "(86034, 6)"
     },
     "execution_count": 70,
     "metadata": {},
     "output_type": "execute_result"
    }
   ],
   "source": [
    "broward_wilma.shape"
   ],
   "metadata": {
    "collapsed": false
   }
  },
  {
   "cell_type": "code",
   "execution_count": 71,
   "outputs": [
    {
     "data": {
      "text/plain": "MIAMI              150173\nFORT LAUDERDALE     29814\nHIALEAH             28692\nHOLLYWOOD           19211\nHOMESTEAD           18428\n                    ...  \nWeston                  1\nMIRA MAR                1\nSPRING HILL             1\nCARAL SPRING            1\nPEMBROKE PINE           1\nName: damagedCity, Length: 388, dtype: int64"
     },
     "execution_count": 71,
     "metadata": {},
     "output_type": "execute_result"
    }
   ],
   "source": [
    "broward_miami_claims['damagedCity'].value_counts()"
   ],
   "metadata": {
    "collapsed": false
   }
  },
  {
   "cell_type": "code",
   "execution_count": 72,
   "outputs": [
    {
     "ename": "KeyError",
     "evalue": "'POM BEACH'",
     "output_type": "error",
     "traceback": [
      "\u001B[1;31m---------------------------------------------------------------------------\u001B[0m",
      "\u001B[1;31mKeyError\u001B[0m                                  Traceback (most recent call last)",
      "Cell \u001B[1;32mIn[72], line 1\u001B[0m\n\u001B[1;32m----> 1\u001B[0m \u001B[43mbroward_miami_claims\u001B[49m\u001B[43m[\u001B[49m\u001B[38;5;124;43m'\u001B[39;49m\u001B[38;5;124;43mdamagedCity\u001B[39;49m\u001B[38;5;124;43m'\u001B[39;49m\u001B[43m]\u001B[49m\u001B[43m[\u001B[49m\u001B[38;5;124;43m'\u001B[39;49m\u001B[38;5;124;43mPOM BEACH\u001B[39;49m\u001B[38;5;124;43m'\u001B[39;49m\u001B[43m]\u001B[49m\n",
      "File \u001B[1;32mD:\\Users\\Rayhan\\PyCharmProjects\\DATA-SCIENCE-NOTEBOOKS\\venv\\lib\\site-packages\\pandas\\core\\series.py:981\u001B[0m, in \u001B[0;36mSeries.__getitem__\u001B[1;34m(self, key)\u001B[0m\n\u001B[0;32m    978\u001B[0m     \u001B[38;5;28;01mreturn\u001B[39;00m \u001B[38;5;28mself\u001B[39m\u001B[38;5;241m.\u001B[39m_values[key]\n\u001B[0;32m    980\u001B[0m \u001B[38;5;28;01melif\u001B[39;00m key_is_scalar:\n\u001B[1;32m--> 981\u001B[0m     \u001B[38;5;28;01mreturn\u001B[39;00m \u001B[38;5;28;43mself\u001B[39;49m\u001B[38;5;241;43m.\u001B[39;49m\u001B[43m_get_value\u001B[49m\u001B[43m(\u001B[49m\u001B[43mkey\u001B[49m\u001B[43m)\u001B[49m\n\u001B[0;32m    983\u001B[0m \u001B[38;5;28;01mif\u001B[39;00m is_hashable(key):\n\u001B[0;32m    984\u001B[0m     \u001B[38;5;66;03m# Otherwise index.get_value will raise InvalidIndexError\u001B[39;00m\n\u001B[0;32m    985\u001B[0m     \u001B[38;5;28;01mtry\u001B[39;00m:\n\u001B[0;32m    986\u001B[0m         \u001B[38;5;66;03m# For labels that don't resolve as scalars like tuples and frozensets\u001B[39;00m\n",
      "File \u001B[1;32mD:\\Users\\Rayhan\\PyCharmProjects\\DATA-SCIENCE-NOTEBOOKS\\venv\\lib\\site-packages\\pandas\\core\\series.py:1089\u001B[0m, in \u001B[0;36mSeries._get_value\u001B[1;34m(self, label, takeable)\u001B[0m\n\u001B[0;32m   1086\u001B[0m     \u001B[38;5;28;01mreturn\u001B[39;00m \u001B[38;5;28mself\u001B[39m\u001B[38;5;241m.\u001B[39m_values[label]\n\u001B[0;32m   1088\u001B[0m \u001B[38;5;66;03m# Similar to Index.get_value, but we do not fall back to positional\u001B[39;00m\n\u001B[1;32m-> 1089\u001B[0m loc \u001B[38;5;241m=\u001B[39m \u001B[38;5;28;43mself\u001B[39;49m\u001B[38;5;241;43m.\u001B[39;49m\u001B[43mindex\u001B[49m\u001B[38;5;241;43m.\u001B[39;49m\u001B[43mget_loc\u001B[49m\u001B[43m(\u001B[49m\u001B[43mlabel\u001B[49m\u001B[43m)\u001B[49m\n\u001B[0;32m   1090\u001B[0m \u001B[38;5;28;01mreturn\u001B[39;00m \u001B[38;5;28mself\u001B[39m\u001B[38;5;241m.\u001B[39mindex\u001B[38;5;241m.\u001B[39m_get_values_for_loc(\u001B[38;5;28mself\u001B[39m, loc, label)\n",
      "File \u001B[1;32mD:\\Users\\Rayhan\\PyCharmProjects\\DATA-SCIENCE-NOTEBOOKS\\venv\\lib\\site-packages\\pandas\\core\\indexes\\range.py:395\u001B[0m, in \u001B[0;36mRangeIndex.get_loc\u001B[1;34m(self, key, method, tolerance)\u001B[0m\n\u001B[0;32m    393\u001B[0m             \u001B[38;5;28;01mraise\u001B[39;00m \u001B[38;5;167;01mKeyError\u001B[39;00m(key) \u001B[38;5;28;01mfrom\u001B[39;00m \u001B[38;5;21;01merr\u001B[39;00m\n\u001B[0;32m    394\u001B[0m     \u001B[38;5;28mself\u001B[39m\u001B[38;5;241m.\u001B[39m_check_indexing_error(key)\n\u001B[1;32m--> 395\u001B[0m     \u001B[38;5;28;01mraise\u001B[39;00m \u001B[38;5;167;01mKeyError\u001B[39;00m(key)\n\u001B[0;32m    396\u001B[0m \u001B[38;5;28;01mreturn\u001B[39;00m \u001B[38;5;28msuper\u001B[39m()\u001B[38;5;241m.\u001B[39mget_loc(key, method\u001B[38;5;241m=\u001B[39mmethod, tolerance\u001B[38;5;241m=\u001B[39mtolerance)\n",
      "\u001B[1;31mKeyError\u001B[0m: 'POM BEACH'"
     ]
    }
   ],
   "source": [
    "broward_miami_claims.loc('damagedCity')"
   ],
   "metadata": {
    "collapsed": false
   }
  },
  {
   "cell_type": "code",
   "execution_count": 75,
   "outputs": [
    {
     "data": {
      "text/plain": "(12932, 6)"
     },
     "execution_count": 75,
     "metadata": {},
     "output_type": "execute_result"
    }
   ],
   "source": [
    "miami_frances.shape"
   ],
   "metadata": {
    "collapsed": false
   }
  },
  {
   "cell_type": "code",
   "execution_count": null,
   "outputs": [],
   "source": [],
   "metadata": {
    "collapsed": false
   }
  }
 ],
 "metadata": {
  "kernelspec": {
   "display_name": "Python 3",
   "language": "python",
   "name": "python3"
  },
  "language_info": {
   "codemirror_mode": {
    "name": "ipython",
    "version": 2
   },
   "file_extension": ".py",
   "mimetype": "text/x-python",
   "name": "python",
   "nbconvert_exporter": "python",
   "pygments_lexer": "ipython2",
   "version": "2.7.6"
  }
 },
 "nbformat": 4,
 "nbformat_minor": 0
}
