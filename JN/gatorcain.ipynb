{
 "cells": [
  {
   "cell_type": "code",
   "execution_count": 1,
   "outputs": [],
   "source": [
    "import pandas as pd\n",
    "import numpy as np"
   ],
   "metadata": {
    "collapsed": false
   }
  },
  {
   "cell_type": "code",
   "execution_count": 2,
   "outputs": [],
   "source": [
    "data = pd.DataFrame({\n",
    "    'Name': [\n",
    "        'Irma',\n",
    "        'Ian',\n",
    "        'Wilma',\n",
    "        'Frances',\n",
    "        'Jeanne',\n",
    "        'Charley',\n",
    "        'Ivan',\n",
    "        'Michael'\n",
    "    ],\n",
    "    'IHP': [\n",
    "        1020976908.08,\n",
    "        917127545.87,\n",
    "        342259581.97,\n",
    "        411815685.98,\n",
    "        398618731.65,\n",
    "        208970753.97,\n",
    "        164509853.53,\n",
    "        149572302.29\n",
    "    ],\n",
    "    'Year': [\n",
    "        '2017-09-10',\n",
    "        '2022-09-29',\n",
    "        '2005-10-24',\n",
    "        '2004-09-04',\n",
    "        '2004-09-26',\n",
    "        '2004-08-13',\n",
    "        '2004-09-16',\n",
    "        '2018-10-11'\n",
    "    ],\n",
    "    'Wind speed kt': [\n",
    "        100,\n",
    "        125,\n",
    "        105,\n",
    "        90,\n",
    "        105,\n",
    "        130,\n",
    "        105,\n",
    "        140\n",
    "    ],\n",
    "    'Affected Counties': [\n",
    "        67,\n",
    "        77,\n",
    "        20,\n",
    "        67,\n",
    "        53,\n",
    "        67,\n",
    "        45,\n",
    "        18\n",
    "    ]\n",
    "}, columns=['Name', 'IHP', 'Year', 'Wind speed kt', 'Affected Counties', 'Rainfall', 'Building Code'])\n",
    "data.set_index('Name', inplace=True)"
   ],
   "metadata": {
    "collapsed": false
   }
  },
  {
   "cell_type": "code",
   "execution_count": 3,
   "outputs": [],
   "source": [
    "declarations = pd.read_csv('gatorcain_data/declarations_clean_data.csv')"
   ],
   "metadata": {
    "collapsed": false
   }
  },
  {
   "cell_type": "markdown",
   "source": [
    "# Get disaster Number"
   ],
   "metadata": {
    "collapsed": false
   }
  },
  {
   "cell_type": "code",
   "execution_count": 4,
   "outputs": [
    {
     "data": {
      "text/plain": "                          declarationDate  \\\ndisasterNumber                              \n1539            2004-08-13 00:00:00+00:00   \n1545            2004-09-04 00:00:00+00:00   \n1551            2004-09-16 00:00:00+00:00   \n1561            2004-09-26 00:00:00+00:00   \n1595            2005-07-10 00:00:00+00:00   \n1602            2005-08-28 00:00:00+00:00   \n1609            2005-10-24 00:00:00+00:00   \n1806            2008-10-27 00:00:00+00:00   \n4084            2012-10-18 00:00:00+00:00   \n4280            2016-09-28 00:00:00+00:00   \n4283            2016-10-08 00:00:00+00:00   \n4337            2017-09-10 00:00:00+00:00   \n4341            2017-09-27 00:00:00+00:00   \n4399            2018-10-11 00:00:00+00:00   \n4468            2019-10-21 00:00:00+00:00   \n4564            2020-09-23 00:00:00+00:00   \n4673            2022-09-29 00:00:00+00:00   \n4675            2022-09-30 00:00:00+00:00   \n4680            2022-12-13 00:00:00+00:00   \n\n                                           declarationTitle  \\\ndisasterNumber                                                \n1539            TROPICAL STORM BONNIE AND HURRICANE CHARLEY   \n1545                                      HURRICANE FRANCES   \n1551                                         HURRICANE IVAN   \n1561                                       HURRICANE JEANNE   \n1595                                       HURRICANE DENNIS   \n1602                                      HURRICANE KATRINA   \n1609                                        HURRICANE WILMA   \n1806                                       HURRICANE GUSTAV   \n4084                                        HURRICANE ISAAC   \n4280                                      HURRICANE HERMINE   \n4283                                      HURRICANE MATTHEW   \n4337                                         HURRICANE IRMA   \n4341             HURRICANE IRMA - SEMINOLE TRIBE OF FLORIDA   \n4399                                      HURRICANE MICHAEL   \n4468                                       HURRICANE DORIAN   \n4564                                        HURRICANE SALLY   \n4673                                          HURRICANE IAN   \n4675              HURRICANE IAN - SEMINOLE TRIBE OF FLORIDA   \n4680                                       HURRICANE NICOLE   \n\n                                                   designatedArea  \\\ndisasterNumber                                                      \n1539            Franklin (County),Wakulla (County),Hendry (Cou...   \n1545            Sarasota (County),Nassau (County),Okeechobee (...   \n1551            Jackson (County),Wakulla (County),Washington (...   \n1561            Marion (County),Hernando (County),Palm Beach (...   \n1595            Calhoun (County),Gadsden (County),Wakulla (Cou...   \n1602            Santa Rosa (County),Escambia (County),Miami-Da...   \n1609            Brevard (County),Hendry (County),DeSoto (Count...   \n1806            Santa Rosa (County),Gulf (County),Okaloosa (Co...   \n4084            Escambia (County),St. Lucie (County),Okaloosa ...   \n4280            Marion (County),Levy (County),Gadsden (County)...   \n4283            Brevard (County),Flagler (County),Lake (County...   \n4337            Liberty (County),Lee (County),Columbia (County...   \n4341            Big Cypress Indian Reservation,Hollywood India...   \n4399            Leon (County),Bay (County),Liberty (County),Ga...   \n4468            Broward (County),Nassau (County),Palm Beach (C...   \n4564            Calhoun (County),Gadsden (County),Gulf (County...   \n4673            Jefferson (County),Sumter (County),Gilchrist (...   \n4675            Big Cypress Indian Reservation,Brighton Indian...   \n4680            Hendry (County),Hernando (County),Bradford (Co...   \n\n                Affected Counties  \ndisasterNumber                     \n1539                           67  \n1545                           67  \n1551                           45  \n1561                           53  \n1595                           20  \n1602                           11  \n1609                           20  \n1806                            6  \n4084                           12  \n4280                           26  \n4283                           18  \n4337                           67  \n4341                            6  \n4399                           18  \n4468                           14  \n4564                           14  \n4673                           77  \n4675                            7  \n4680                           63  ",
      "text/html": "<div>\n<style scoped>\n    .dataframe tbody tr th:only-of-type {\n        vertical-align: middle;\n    }\n\n    .dataframe tbody tr th {\n        vertical-align: top;\n    }\n\n    .dataframe thead th {\n        text-align: right;\n    }\n</style>\n<table border=\"1\" class=\"dataframe\">\n  <thead>\n    <tr style=\"text-align: right;\">\n      <th></th>\n      <th>declarationDate</th>\n      <th>declarationTitle</th>\n      <th>designatedArea</th>\n      <th>Affected Counties</th>\n    </tr>\n    <tr>\n      <th>disasterNumber</th>\n      <th></th>\n      <th></th>\n      <th></th>\n      <th></th>\n    </tr>\n  </thead>\n  <tbody>\n    <tr>\n      <th>1539</th>\n      <td>2004-08-13 00:00:00+00:00</td>\n      <td>TROPICAL STORM BONNIE AND HURRICANE CHARLEY</td>\n      <td>Franklin (County),Wakulla (County),Hendry (Cou...</td>\n      <td>67</td>\n    </tr>\n    <tr>\n      <th>1545</th>\n      <td>2004-09-04 00:00:00+00:00</td>\n      <td>HURRICANE FRANCES</td>\n      <td>Sarasota (County),Nassau (County),Okeechobee (...</td>\n      <td>67</td>\n    </tr>\n    <tr>\n      <th>1551</th>\n      <td>2004-09-16 00:00:00+00:00</td>\n      <td>HURRICANE IVAN</td>\n      <td>Jackson (County),Wakulla (County),Washington (...</td>\n      <td>45</td>\n    </tr>\n    <tr>\n      <th>1561</th>\n      <td>2004-09-26 00:00:00+00:00</td>\n      <td>HURRICANE JEANNE</td>\n      <td>Marion (County),Hernando (County),Palm Beach (...</td>\n      <td>53</td>\n    </tr>\n    <tr>\n      <th>1595</th>\n      <td>2005-07-10 00:00:00+00:00</td>\n      <td>HURRICANE DENNIS</td>\n      <td>Calhoun (County),Gadsden (County),Wakulla (Cou...</td>\n      <td>20</td>\n    </tr>\n    <tr>\n      <th>1602</th>\n      <td>2005-08-28 00:00:00+00:00</td>\n      <td>HURRICANE KATRINA</td>\n      <td>Santa Rosa (County),Escambia (County),Miami-Da...</td>\n      <td>11</td>\n    </tr>\n    <tr>\n      <th>1609</th>\n      <td>2005-10-24 00:00:00+00:00</td>\n      <td>HURRICANE WILMA</td>\n      <td>Brevard (County),Hendry (County),DeSoto (Count...</td>\n      <td>20</td>\n    </tr>\n    <tr>\n      <th>1806</th>\n      <td>2008-10-27 00:00:00+00:00</td>\n      <td>HURRICANE GUSTAV</td>\n      <td>Santa Rosa (County),Gulf (County),Okaloosa (Co...</td>\n      <td>6</td>\n    </tr>\n    <tr>\n      <th>4084</th>\n      <td>2012-10-18 00:00:00+00:00</td>\n      <td>HURRICANE ISAAC</td>\n      <td>Escambia (County),St. Lucie (County),Okaloosa ...</td>\n      <td>12</td>\n    </tr>\n    <tr>\n      <th>4280</th>\n      <td>2016-09-28 00:00:00+00:00</td>\n      <td>HURRICANE HERMINE</td>\n      <td>Marion (County),Levy (County),Gadsden (County)...</td>\n      <td>26</td>\n    </tr>\n    <tr>\n      <th>4283</th>\n      <td>2016-10-08 00:00:00+00:00</td>\n      <td>HURRICANE MATTHEW</td>\n      <td>Brevard (County),Flagler (County),Lake (County...</td>\n      <td>18</td>\n    </tr>\n    <tr>\n      <th>4337</th>\n      <td>2017-09-10 00:00:00+00:00</td>\n      <td>HURRICANE IRMA</td>\n      <td>Liberty (County),Lee (County),Columbia (County...</td>\n      <td>67</td>\n    </tr>\n    <tr>\n      <th>4341</th>\n      <td>2017-09-27 00:00:00+00:00</td>\n      <td>HURRICANE IRMA - SEMINOLE TRIBE OF FLORIDA</td>\n      <td>Big Cypress Indian Reservation,Hollywood India...</td>\n      <td>6</td>\n    </tr>\n    <tr>\n      <th>4399</th>\n      <td>2018-10-11 00:00:00+00:00</td>\n      <td>HURRICANE MICHAEL</td>\n      <td>Leon (County),Bay (County),Liberty (County),Ga...</td>\n      <td>18</td>\n    </tr>\n    <tr>\n      <th>4468</th>\n      <td>2019-10-21 00:00:00+00:00</td>\n      <td>HURRICANE DORIAN</td>\n      <td>Broward (County),Nassau (County),Palm Beach (C...</td>\n      <td>14</td>\n    </tr>\n    <tr>\n      <th>4564</th>\n      <td>2020-09-23 00:00:00+00:00</td>\n      <td>HURRICANE SALLY</td>\n      <td>Calhoun (County),Gadsden (County),Gulf (County...</td>\n      <td>14</td>\n    </tr>\n    <tr>\n      <th>4673</th>\n      <td>2022-09-29 00:00:00+00:00</td>\n      <td>HURRICANE IAN</td>\n      <td>Jefferson (County),Sumter (County),Gilchrist (...</td>\n      <td>77</td>\n    </tr>\n    <tr>\n      <th>4675</th>\n      <td>2022-09-30 00:00:00+00:00</td>\n      <td>HURRICANE IAN - SEMINOLE TRIBE OF FLORIDA</td>\n      <td>Big Cypress Indian Reservation,Brighton Indian...</td>\n      <td>7</td>\n    </tr>\n    <tr>\n      <th>4680</th>\n      <td>2022-12-13 00:00:00+00:00</td>\n      <td>HURRICANE NICOLE</td>\n      <td>Hendry (County),Hernando (County),Bradford (Co...</td>\n      <td>63</td>\n    </tr>\n  </tbody>\n</table>\n</div>"
     },
     "execution_count": 4,
     "metadata": {},
     "output_type": "execute_result"
    }
   ],
   "source": [
    "declarations = declarations[declarations['declarationType'] == 'DR']\n",
    "declarations.set_index('disasterNumber', inplace=True)\n",
    "declarations['Affected Counties'] = declarations['designatedArea'].str.count(',') + 1\n",
    "declarations = declarations.drop('declarationType', axis=1)\n",
    "declarations"
   ],
   "metadata": {
    "collapsed": false
   }
  },
  {
   "cell_type": "markdown",
   "source": [
    "# Getting The number of claims per zip"
   ],
   "metadata": {
    "collapsed": false
   }
  },
  {
   "cell_type": "code",
   "execution_count": 5,
   "outputs": [
    {
     "data": {
      "text/plain": "         Irma  Ian  Wilma  Frances  Jeanne  Charley  Ivan  Michael\n32002     0.0  0.0    0.0      0.0     1.0      0.0   0.0      1.0\n32003  1285.0  1.0    0.0    133.0   138.0      0.0   8.0    138.0\n32004     0.0  2.0    0.0      0.0     0.0      0.0   0.0      0.0\n32007    10.0  1.0    0.0     35.0    19.0      0.0   0.0     19.0\n32008   687.0  0.0    0.0    147.0   190.0      2.0   0.0    190.0",
      "text/html": "<div>\n<style scoped>\n    .dataframe tbody tr th:only-of-type {\n        vertical-align: middle;\n    }\n\n    .dataframe tbody tr th {\n        vertical-align: top;\n    }\n\n    .dataframe thead th {\n        text-align: right;\n    }\n</style>\n<table border=\"1\" class=\"dataframe\">\n  <thead>\n    <tr style=\"text-align: right;\">\n      <th></th>\n      <th>Irma</th>\n      <th>Ian</th>\n      <th>Wilma</th>\n      <th>Frances</th>\n      <th>Jeanne</th>\n      <th>Charley</th>\n      <th>Ivan</th>\n      <th>Michael</th>\n    </tr>\n  </thead>\n  <tbody>\n    <tr>\n      <th>32002</th>\n      <td>0.0</td>\n      <td>0.0</td>\n      <td>0.0</td>\n      <td>0.0</td>\n      <td>1.0</td>\n      <td>0.0</td>\n      <td>0.0</td>\n      <td>1.0</td>\n    </tr>\n    <tr>\n      <th>32003</th>\n      <td>1285.0</td>\n      <td>1.0</td>\n      <td>0.0</td>\n      <td>133.0</td>\n      <td>138.0</td>\n      <td>0.0</td>\n      <td>8.0</td>\n      <td>138.0</td>\n    </tr>\n    <tr>\n      <th>32004</th>\n      <td>0.0</td>\n      <td>2.0</td>\n      <td>0.0</td>\n      <td>0.0</td>\n      <td>0.0</td>\n      <td>0.0</td>\n      <td>0.0</td>\n      <td>0.0</td>\n    </tr>\n    <tr>\n      <th>32007</th>\n      <td>10.0</td>\n      <td>1.0</td>\n      <td>0.0</td>\n      <td>35.0</td>\n      <td>19.0</td>\n      <td>0.0</td>\n      <td>0.0</td>\n      <td>19.0</td>\n    </tr>\n    <tr>\n      <th>32008</th>\n      <td>687.0</td>\n      <td>0.0</td>\n      <td>0.0</td>\n      <td>147.0</td>\n      <td>190.0</td>\n      <td>2.0</td>\n      <td>0.0</td>\n      <td>190.0</td>\n    </tr>\n  </tbody>\n</table>\n</div>"
     },
     "execution_count": 5,
     "metadata": {},
     "output_type": "execute_result"
    }
   ],
   "source": [
    "claims_by_zip = pd.read_csv('gatorcain_data/claims_by_zipcode.csv', index_col=0)\n",
    "claims_by_zip.head()"
   ],
   "metadata": {
    "collapsed": false
   }
  },
  {
   "cell_type": "markdown",
   "source": [
    "# Claims distribution"
   ],
   "metadata": {
    "collapsed": false
   }
  },
  {
   "cell_type": "code",
   "execution_count": 6,
   "outputs": [
    {
     "name": "stderr",
     "output_type": "stream",
     "text": [
      "C:\\Users\\marre\\AppData\\Local\\Temp\\ipykernel_9692\\3024469853.py:1: DtypeWarning: Columns (5) have mixed types. Specify dtype option on import or set low_memory=False.\n",
      "  fl_claims = pd.read_csv('gatorcain_data/hurricane_FL_data.csv')\n"
     ]
    },
    {
     "data": {
      "text/plain": "Miami-Dade (County)               800300\nBroward (County)                  542878\nPalm Beach (County)               452408\nOrange (County)                   370044\nLee (County)                      364516\n                                   ...  \nBig Cypress Indian Reservation       515\nBrighton Indian Reservation          462\nJefferson (County)                   164\nStatewide                              7\nSeminole Indian Trust Lands            2\nName: county, Length: 75, dtype: int64"
     },
     "execution_count": 6,
     "metadata": {},
     "output_type": "execute_result"
    }
   ],
   "source": [
    "fl_claims = pd.read_csv('gatorcain_data/hurricane_FL_data.csv')\n",
    "fl_claims = fl_claims.drop(['incidentType', 'damagedStateAbbreviation'], axis=1)\n",
    "fl_claims['county'].value_counts()"
   ],
   "metadata": {
    "collapsed": false
   }
  },
  {
   "cell_type": "code",
   "execution_count": 7,
   "outputs": [
    {
     "data": {
      "text/plain": "Miami-Dade (County)    259263\nBroward (County)       179388\nName: county, dtype: int64"
     },
     "execution_count": 7,
     "metadata": {},
     "output_type": "execute_result"
    }
   ],
   "source": [
    "broward_miami_claims = fl_claims[(fl_claims['county'] == 'Miami-Dade (County)') | (fl_claims['county'] == 'Broward (County)')]\n",
    "broward_miami_claims = broward_miami_claims[(broward_miami_claims['disasterNumber'] != 1607) & (broward_miami_claims['ihpAmount'] > 0)]\n",
    "broward_miami_claims['county'].value_counts()"
   ],
   "metadata": {
    "collapsed": false
   }
  },
  {
   "cell_type": "markdown",
   "source": [
    "# Calc IHP sum for miami & Broward for each hurricane"
   ],
   "metadata": {
    "collapsed": false
   }
  },
  {
   "cell_type": "code",
   "execution_count": 21,
   "outputs": [
    {
     "name": "stdout",
     "output_type": "stream",
     "text": [
      "14362974.16 31231560.08\n",
      "118113978.73 92793167.40999998\n",
      "106272310.11999999 223359605.32000005\n"
     ]
    }
   ],
   "source": [
    "frances_claims = broward_miami_claims[broward_miami_claims['disasterNumber'] == 1545]\n",
    "\n",
    "# calc sum for broward\n",
    "broward_frances_ihp = frances_claims[frances_claims['county'] == 'Broward (County)']\n",
    "# calc sum for miami\n",
    "miami_frances_ihp = frances_claims[frances_claims['county'] != 'Broward (County)']\n",
    "\n",
    "print(broward_frances_ihp['ihpAmount'].sum(), miami_frances_ihp['ihpAmount'].sum())\n",
    "\n",
    "wilma_claims = broward_miami_claims[broward_miami_claims['disasterNumber'] == 1609]\n",
    "\n",
    "# calc sum for broward\n",
    "broward_wilma_ihp = wilma_claims[wilma_claims['county'] == 'Broward (County)']\n",
    "# calc sum for miami\n",
    "miami_wilma_ihp = wilma_claims[wilma_claims['county'] != 'Broward (County)']\n",
    "\n",
    "print(broward_wilma_ihp['ihpAmount'].sum(), miami_wilma_ihp['ihpAmount'].sum())\n",
    "\n",
    "irma_claims = broward_miami_claims[broward_miami_claims['disasterNumber'] == 4337]\n",
    "\n",
    "# calc sum for broward\n",
    "broward_irma_ihp = irma_claims[irma_claims['county'] == 'Broward (County)']\n",
    "# calc sum for miami\n",
    "miami_irma_ihp = irma_claims[irma_claims['county'] != 'Broward (County)']\n",
    "\n",
    "print(broward_irma_ihp['ihpAmount'].sum(), miami_irma_ihp['ihpAmount'].sum())"
   ],
   "metadata": {
    "collapsed": false
   }
  },
  {
   "cell_type": "code",
   "execution_count": 8,
   "outputs": [
    {
     "data": {
      "text/plain": "Text(0.5, 1.0, 'Distribution of IHP Amounts for Hurricane Frances, Wilma, & Irma')"
     },
     "execution_count": 8,
     "metadata": {},
     "output_type": "execute_result"
    },
    {
     "data": {
      "text/plain": "<Figure size 640x480 with 1 Axes>",
      "image/png": "[encoded data removed]"
     },
     "metadata": {},
     "output_type": "display_data"
    }
   ],
   "source": [
    "import seaborn as sns\n",
    "import matplotlib.pyplot as plt\n",
    "\n",
    "sns.set_style('whitegrid')\n",
    "\n",
    "# Create a violin plot using seaborn\n",
    "sns.violinplot(data=broward_miami_claims, x='disasterNumber',y='ihpAmount', hue='county', split=True, scale='count', bw=0.2)\n",
    "\n",
    "# # Add axis labels and a title\n",
    "plt.ylabel('IHP Amount (USD$)')\n",
    "plt.title('Distribution of IHP Amounts for Hurricane Frances, Wilma, & Irma')"
   ],
   "metadata": {
    "collapsed": false
   }
  },
  {
   "cell_type": "code",
   "execution_count": 41,
   "outputs": [],
   "source": [
    "cols = ['incidentType', 'county', 'damagedStateAbbreviation', 'damagedZipCode',\n",
    "        'declarationDate', 'disasterNumber', 'ihpAmount', 'damagedCity']\n",
    "dtypes = {'incidentType': np.str_, 'county': np.str_, 'damagedStateAbbreviation': np.str_,\n",
    "          'damagedZipCode':np.str_, 'disasterNumber': np.int32,\n",
    "          'ihpAmount': np.str_, 'damagedCity': np.str_}\n",
    "\n",
    "claims = pd.read_csv('gatorcain_data/IndividualsAndHouseholdsProgramValidRegistrations.csv',\n",
    "                     usecols=cols, dtype=dtypes, parse_dates=['declarationDate'])\n",
    "\n",
    "fl_claims = claims[(claims['incidentType'] == 'Hurricane') & (claims['damagedStateAbbreviation'] == 'FL')]\n",
    "broward_miami_claims = fl_claims[(fl_claims['county'] == 'Miami-Dade (County)') | (fl_claims['county'] == 'Broward (County)')]\n",
    "broward_miami_claims = broward_miami_claims.drop(columns=['incidentType', 'damagedStateAbbreviation'])\n",
    "broward_miami_claims = broward_miami_claims.query(\"disasterNumber == 4337 or disasterNumber == 1545 or disasterNumber == 1609\")\n",
    "broward_miami_claims.to_csv('broward_miami_claims.csv', index=False)\n"
   ],
   "metadata": {
    "collapsed": false
   }
  },
  {
   "cell_type": "code",
   "execution_count": null,
   "outputs": [],
   "source": [],
   "metadata": {
    "collapsed": false
   }
  }
 ],
 "metadata": {
  "kernelspec": {
   "display_name": "Python 3",
   "language": "python",
   "name": "python3"
  },
  "language_info": {
   "codemirror_mode": {
    "name": "ipython",
    "version": 2
   },
   "file_extension": ".py",
   "mimetype": "text/x-python",
   "name": "python",
   "nbconvert_exporter": "python",
   "pygments_lexer": "ipython2",
   "version": "2.7.6"
  }
 },
 "nbformat": 4,
 "nbformat_minor": 0
}
