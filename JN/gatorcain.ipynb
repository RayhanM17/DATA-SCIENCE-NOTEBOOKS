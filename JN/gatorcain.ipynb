{
 "cells": [
  {
   "cell_type": "code",
   "execution_count": 2,
   "metadata": {
    "collapsed": true
   },
   "outputs": [],
   "source": [
    "import pandas as pd\n",
    "import numpy as np\n",
    "import requests"
   ]
  },
  {
   "cell_type": "code",
   "execution_count": 4,
   "outputs": [],
   "source": [
    "declarations = pd.read_csv(\n",
    "    'gatorcain_data/declarations_clean_data.csv'\n",
    ")\n",
    "declarations['declarationDate'] = pd.to_datetime(declarations['declarationDate'])"
   ],
   "metadata": {
    "collapsed": false
   }
  },
  {
   "cell_type": "code",
   "execution_count": 8,
   "outputs": [
    {
     "data": {
      "text/plain": "   disasterNumber declarationType           declarationDate  declarationTitle  \\\n0             106              DR 1960-09-12 00:00:00+00:00   HURRICANE DONNA   \n1             175              DR 1964-09-08 00:00:00+00:00    HURRICANE CLEO   \n2             176              DR 1964-09-10 00:00:00+00:00    HURRICANE DORA   \n3             209              DR 1965-09-14 00:00:00+00:00   HURRICANE BETSY   \n4             252              DR 1968-11-07 00:00:00+00:00  HURRICANE GLADYS   \n\n                                      designatedArea  \n0                                          Statewide  \n1                                          Statewide  \n2                                          Statewide  \n3  Monroe (County),Lee (County),Broward (County),...  \n4  Charlotte (County),Pinellas (County),Citrus (C...  ",
      "text/html": "<div>\n<style scoped>\n    .dataframe tbody tr th:only-of-type {\n        vertical-align: middle;\n    }\n\n    .dataframe tbody tr th {\n        vertical-align: top;\n    }\n\n    .dataframe thead th {\n        text-align: right;\n    }\n</style>\n<table border=\"1\" class=\"dataframe\">\n  <thead>\n    <tr style=\"text-align: right;\">\n      <th></th>\n      <th>disasterNumber</th>\n      <th>declarationType</th>\n      <th>declarationDate</th>\n      <th>declarationTitle</th>\n      <th>designatedArea</th>\n    </tr>\n  </thead>\n  <tbody>\n    <tr>\n      <th>0</th>\n      <td>106</td>\n      <td>DR</td>\n      <td>1960-09-12 00:00:00+00:00</td>\n      <td>HURRICANE DONNA</td>\n      <td>Statewide</td>\n    </tr>\n    <tr>\n      <th>1</th>\n      <td>175</td>\n      <td>DR</td>\n      <td>1964-09-08 00:00:00+00:00</td>\n      <td>HURRICANE CLEO</td>\n      <td>Statewide</td>\n    </tr>\n    <tr>\n      <th>2</th>\n      <td>176</td>\n      <td>DR</td>\n      <td>1964-09-10 00:00:00+00:00</td>\n      <td>HURRICANE DORA</td>\n      <td>Statewide</td>\n    </tr>\n    <tr>\n      <th>3</th>\n      <td>209</td>\n      <td>DR</td>\n      <td>1965-09-14 00:00:00+00:00</td>\n      <td>HURRICANE BETSY</td>\n      <td>Monroe (County),Lee (County),Broward (County),...</td>\n    </tr>\n    <tr>\n      <th>4</th>\n      <td>252</td>\n      <td>DR</td>\n      <td>1968-11-07 00:00:00+00:00</td>\n      <td>HURRICANE GLADYS</td>\n      <td>Charlotte (County),Pinellas (County),Citrus (C...</td>\n    </tr>\n  </tbody>\n</table>\n</div>"
     },
     "execution_count": 8,
     "metadata": {},
     "output_type": "execute_result"
    }
   ],
   "source": [
    "declarations.head()"
   ],
   "metadata": {
    "collapsed": false
   }
  },
  {
   "cell_type": "code",
   "execution_count": 9,
   "outputs": [
    {
     "name": "stdout",
     "output_type": "stream",
     "text": [
      "<class 'pandas.core.frame.DataFrame'>\n",
      "RangeIndex: 53 entries, 0 to 52\n",
      "Data columns (total 5 columns):\n",
      " #   Column            Non-Null Count  Dtype              \n",
      "---  ------            --------------  -----              \n",
      " 0   disasterNumber    53 non-null     int64              \n",
      " 1   declarationType   53 non-null     object             \n",
      " 2   declarationDate   53 non-null     datetime64[ns, UTC]\n",
      " 3   declarationTitle  53 non-null     object             \n",
      " 4   designatedArea    53 non-null     object             \n",
      "dtypes: datetime64[ns, UTC](1), int64(1), object(3)\n",
      "memory usage: 2.2+ KB\n"
     ]
    }
   ],
   "source": [
    "declarations.info()"
   ],
   "metadata": {
    "collapsed": false
   }
  },
  {
   "cell_type": "code",
   "execution_count": null,
   "outputs": [],
   "source": [],
   "metadata": {
    "collapsed": false
   }
  }
 ],
 "metadata": {
  "kernelspec": {
   "display_name": "Python 3",
   "language": "python",
   "name": "python3"
  },
  "language_info": {
   "codemirror_mode": {
    "name": "ipython",
    "version": 2
   },
   "file_extension": ".py",
   "mimetype": "text/x-python",
   "name": "python",
   "nbconvert_exporter": "python",
   "pygments_lexer": "ipython2",
   "version": "2.7.6"
  }
 },
 "nbformat": 4,
 "nbformat_minor": 0
}
