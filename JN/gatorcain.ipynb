{
 "cells": [
  {
   "cell_type": "code",
   "execution_count": 176,
   "outputs": [],
   "source": [
    "import pandas as pd\n",
    "import numpy as np"
   ],
   "metadata": {
    "collapsed": false
   }
  },
  {
   "cell_type": "code",
   "execution_count": 177,
   "outputs": [],
   "source": [
    "data = pd.DataFrame({\n",
    "    'Name': [\n",
    "        'Irma',\n",
    "        'Ian',\n",
    "        'Wilma',\n",
    "        'Frances',\n",
    "        'Jeanne',\n",
    "        'Charley',\n",
    "        'Ivan',\n",
    "        'Michael'\n",
    "    ],\n",
    "    'IHP': [\n",
    "        1020976908.08,\n",
    "        917127545.87,\n",
    "        342259581.97,\n",
    "        411815685.98,\n",
    "        398618731.65,\n",
    "        208970753.97,\n",
    "        164509853.53,\n",
    "        149572302.29\n",
    "    ],\n",
    "    'Year': [\n",
    "        '2017-09-10',\n",
    "        '2022-09-29',\n",
    "        '2005-10-24',\n",
    "        '2004-09-04',\n",
    "        '2004-09-26',\n",
    "        '2004-08-13',\n",
    "        '2004-09-16',\n",
    "        '2018-10-11'\n",
    "    ],\n",
    "    'Wind speed kt': [\n",
    "        100,\n",
    "        125,\n",
    "        105,\n",
    "        90,\n",
    "        105,\n",
    "        130,\n",
    "        105,\n",
    "        140\n",
    "    ],\n",
    "    'Affected Counties': [\n",
    "        67,\n",
    "        77,\n",
    "        20,\n",
    "        67,\n",
    "        53,\n",
    "        67,\n",
    "        45,\n",
    "        18\n",
    "    ]\n",
    "}, columns=['Name', 'IHP', 'Year', 'Wind speed kt', 'Affected Counties', 'Rainfall', 'Building Code'])\n",
    "data.set_index('Name', inplace=True)"
   ],
   "metadata": {
    "collapsed": false
   }
  },
  {
   "cell_type": "code",
   "execution_count": 178,
   "outputs": [],
   "source": [
    "declarations = pd.read_csv('gatorcain_data/declarations_clean_data.csv')"
   ],
   "metadata": {
    "collapsed": false
   }
  },
  {
   "cell_type": "markdown",
   "source": [
    "# Get disaster Number"
   ],
   "metadata": {
    "collapsed": false
   }
  },
  {
   "cell_type": "code",
   "execution_count": 179,
   "outputs": [
    {
     "data": {
      "text/plain": "                          declarationDate  \\\ndisasterNumber                              \n1539            2004-08-13 00:00:00+00:00   \n1545            2004-09-04 00:00:00+00:00   \n1551            2004-09-16 00:00:00+00:00   \n1561            2004-09-26 00:00:00+00:00   \n1595            2005-07-10 00:00:00+00:00   \n1602            2005-08-28 00:00:00+00:00   \n1609            2005-10-24 00:00:00+00:00   \n1806            2008-10-27 00:00:00+00:00   \n4084            2012-10-18 00:00:00+00:00   \n4280            2016-09-28 00:00:00+00:00   \n4283            2016-10-08 00:00:00+00:00   \n4337            2017-09-10 00:00:00+00:00   \n4341            2017-09-27 00:00:00+00:00   \n4399            2018-10-11 00:00:00+00:00   \n4468            2019-10-21 00:00:00+00:00   \n4564            2020-09-23 00:00:00+00:00   \n4673            2022-09-29 00:00:00+00:00   \n4675            2022-09-30 00:00:00+00:00   \n4680            2022-12-13 00:00:00+00:00   \n\n                                           declarationTitle  \\\ndisasterNumber                                                \n1539            TROPICAL STORM BONNIE AND HURRICANE CHARLEY   \n1545                                      HURRICANE FRANCES   \n1551                                         HURRICANE IVAN   \n1561                                       HURRICANE JEANNE   \n1595                                       HURRICANE DENNIS   \n1602                                      HURRICANE KATRINA   \n1609                                        HURRICANE WILMA   \n1806                                       HURRICANE GUSTAV   \n4084                                        HURRICANE ISAAC   \n4280                                      HURRICANE HERMINE   \n4283                                      HURRICANE MATTHEW   \n4337                                         HURRICANE IRMA   \n4341             HURRICANE IRMA - SEMINOLE TRIBE OF FLORIDA   \n4399                                      HURRICANE MICHAEL   \n4468                                       HURRICANE DORIAN   \n4564                                        HURRICANE SALLY   \n4673                                          HURRICANE IAN   \n4675              HURRICANE IAN - SEMINOLE TRIBE OF FLORIDA   \n4680                                       HURRICANE NICOLE   \n\n                                                   designatedArea  \\\ndisasterNumber                                                      \n1539            Franklin (County),Wakulla (County),Hendry (Cou...   \n1545            Sarasota (County),Nassau (County),Okeechobee (...   \n1551            Jackson (County),Wakulla (County),Washington (...   \n1561            Marion (County),Hernando (County),Palm Beach (...   \n1595            Calhoun (County),Gadsden (County),Wakulla (Cou...   \n1602            Santa Rosa (County),Escambia (County),Miami-Da...   \n1609            Brevard (County),Hendry (County),DeSoto (Count...   \n1806            Santa Rosa (County),Gulf (County),Okaloosa (Co...   \n4084            Escambia (County),St. Lucie (County),Okaloosa ...   \n4280            Marion (County),Levy (County),Gadsden (County)...   \n4283            Brevard (County),Flagler (County),Lake (County...   \n4337            Liberty (County),Lee (County),Columbia (County...   \n4341            Big Cypress Indian Reservation,Hollywood India...   \n4399            Leon (County),Bay (County),Liberty (County),Ga...   \n4468            Broward (County),Nassau (County),Palm Beach (C...   \n4564            Calhoun (County),Gadsden (County),Gulf (County...   \n4673            Jefferson (County),Sumter (County),Gilchrist (...   \n4675            Big Cypress Indian Reservation,Brighton Indian...   \n4680            Hendry (County),Hernando (County),Bradford (Co...   \n\n                Affected Counties  \ndisasterNumber                     \n1539                           67  \n1545                           67  \n1551                           45  \n1561                           53  \n1595                           20  \n1602                           11  \n1609                           20  \n1806                            6  \n4084                           12  \n4280                           26  \n4283                           18  \n4337                           67  \n4341                            6  \n4399                           18  \n4468                           14  \n4564                           14  \n4673                           77  \n4675                            7  \n4680                           63  ",
      "text/html": "<div>\n<style scoped>\n    .dataframe tbody tr th:only-of-type {\n        vertical-align: middle;\n    }\n\n    .dataframe tbody tr th {\n        vertical-align: top;\n    }\n\n    .dataframe thead th {\n        text-align: right;\n    }\n</style>\n<table border=\"1\" class=\"dataframe\">\n  <thead>\n    <tr style=\"text-align: right;\">\n      <th></th>\n      <th>declarationDate</th>\n      <th>declarationTitle</th>\n      <th>designatedArea</th>\n      <th>Affected Counties</th>\n    </tr>\n    <tr>\n      <th>disasterNumber</th>\n      <th></th>\n      <th></th>\n      <th></th>\n      <th></th>\n    </tr>\n  </thead>\n  <tbody>\n    <tr>\n      <th>1539</th>\n      <td>2004-08-13 00:00:00+00:00</td>\n      <td>TROPICAL STORM BONNIE AND HURRICANE CHARLEY</td>\n      <td>Franklin (County),Wakulla (County),Hendry (Cou...</td>\n      <td>67</td>\n    </tr>\n    <tr>\n      <th>1545</th>\n      <td>2004-09-04 00:00:00+00:00</td>\n      <td>HURRICANE FRANCES</td>\n      <td>Sarasota (County),Nassau (County),Okeechobee (...</td>\n      <td>67</td>\n    </tr>\n    <tr>\n      <th>1551</th>\n      <td>2004-09-16 00:00:00+00:00</td>\n      <td>HURRICANE IVAN</td>\n      <td>Jackson (County),Wakulla (County),Washington (...</td>\n      <td>45</td>\n    </tr>\n    <tr>\n      <th>1561</th>\n      <td>2004-09-26 00:00:00+00:00</td>\n      <td>HURRICANE JEANNE</td>\n      <td>Marion (County),Hernando (County),Palm Beach (...</td>\n      <td>53</td>\n    </tr>\n    <tr>\n      <th>1595</th>\n      <td>2005-07-10 00:00:00+00:00</td>\n      <td>HURRICANE DENNIS</td>\n      <td>Calhoun (County),Gadsden (County),Wakulla (Cou...</td>\n      <td>20</td>\n    </tr>\n    <tr>\n      <th>1602</th>\n      <td>2005-08-28 00:00:00+00:00</td>\n      <td>HURRICANE KATRINA</td>\n      <td>Santa Rosa (County),Escambia (County),Miami-Da...</td>\n      <td>11</td>\n    </tr>\n    <tr>\n      <th>1609</th>\n      <td>2005-10-24 00:00:00+00:00</td>\n      <td>HURRICANE WILMA</td>\n      <td>Brevard (County),Hendry (County),DeSoto (Count...</td>\n      <td>20</td>\n    </tr>\n    <tr>\n      <th>1806</th>\n      <td>2008-10-27 00:00:00+00:00</td>\n      <td>HURRICANE GUSTAV</td>\n      <td>Santa Rosa (County),Gulf (County),Okaloosa (Co...</td>\n      <td>6</td>\n    </tr>\n    <tr>\n      <th>4084</th>\n      <td>2012-10-18 00:00:00+00:00</td>\n      <td>HURRICANE ISAAC</td>\n      <td>Escambia (County),St. Lucie (County),Okaloosa ...</td>\n      <td>12</td>\n    </tr>\n    <tr>\n      <th>4280</th>\n      <td>2016-09-28 00:00:00+00:00</td>\n      <td>HURRICANE HERMINE</td>\n      <td>Marion (County),Levy (County),Gadsden (County)...</td>\n      <td>26</td>\n    </tr>\n    <tr>\n      <th>4283</th>\n      <td>2016-10-08 00:00:00+00:00</td>\n      <td>HURRICANE MATTHEW</td>\n      <td>Brevard (County),Flagler (County),Lake (County...</td>\n      <td>18</td>\n    </tr>\n    <tr>\n      <th>4337</th>\n      <td>2017-09-10 00:00:00+00:00</td>\n      <td>HURRICANE IRMA</td>\n      <td>Liberty (County),Lee (County),Columbia (County...</td>\n      <td>67</td>\n    </tr>\n    <tr>\n      <th>4341</th>\n      <td>2017-09-27 00:00:00+00:00</td>\n      <td>HURRICANE IRMA - SEMINOLE TRIBE OF FLORIDA</td>\n      <td>Big Cypress Indian Reservation,Hollywood India...</td>\n      <td>6</td>\n    </tr>\n    <tr>\n      <th>4399</th>\n      <td>2018-10-11 00:00:00+00:00</td>\n      <td>HURRICANE MICHAEL</td>\n      <td>Leon (County),Bay (County),Liberty (County),Ga...</td>\n      <td>18</td>\n    </tr>\n    <tr>\n      <th>4468</th>\n      <td>2019-10-21 00:00:00+00:00</td>\n      <td>HURRICANE DORIAN</td>\n      <td>Broward (County),Nassau (County),Palm Beach (C...</td>\n      <td>14</td>\n    </tr>\n    <tr>\n      <th>4564</th>\n      <td>2020-09-23 00:00:00+00:00</td>\n      <td>HURRICANE SALLY</td>\n      <td>Calhoun (County),Gadsden (County),Gulf (County...</td>\n      <td>14</td>\n    </tr>\n    <tr>\n      <th>4673</th>\n      <td>2022-09-29 00:00:00+00:00</td>\n      <td>HURRICANE IAN</td>\n      <td>Jefferson (County),Sumter (County),Gilchrist (...</td>\n      <td>77</td>\n    </tr>\n    <tr>\n      <th>4675</th>\n      <td>2022-09-30 00:00:00+00:00</td>\n      <td>HURRICANE IAN - SEMINOLE TRIBE OF FLORIDA</td>\n      <td>Big Cypress Indian Reservation,Brighton Indian...</td>\n      <td>7</td>\n    </tr>\n    <tr>\n      <th>4680</th>\n      <td>2022-12-13 00:00:00+00:00</td>\n      <td>HURRICANE NICOLE</td>\n      <td>Hendry (County),Hernando (County),Bradford (Co...</td>\n      <td>63</td>\n    </tr>\n  </tbody>\n</table>\n</div>"
     },
     "execution_count": 179,
     "metadata": {},
     "output_type": "execute_result"
    }
   ],
   "source": [
    "declarations = declarations[declarations['declarationType'] == 'DR']\n",
    "declarations.set_index('disasterNumber', inplace=True)\n",
    "declarations['Affected Counties'] = declarations['designatedArea'].str.count(',') + 1\n",
    "declarations = declarations.drop('declarationType', axis=1)\n",
    "declarations"
   ],
   "metadata": {
    "collapsed": false
   }
  },
  {
   "cell_type": "markdown",
   "source": [
    "# Getting The number of claims per zip"
   ],
   "metadata": {
    "collapsed": false
   }
  },
  {
   "cell_type": "code",
   "execution_count": 180,
   "outputs": [
    {
     "data": {
      "text/plain": "  incidentType           declarationDate  disasterNumber               county  \\\n0    Hurricane 2022-09-29 00:00:00+00:00            4673     Brevard (County)   \n1    Hurricane 2022-09-29 00:00:00+00:00            4673  Palm Beach (County)   \n2    Hurricane 2022-09-29 00:00:00+00:00            4673     Volusia (County)   \n3    Hurricane 2022-09-29 00:00:00+00:00            4673         Lee (County)   \n4    Hurricane 2022-09-29 00:00:00+00:00            4673        Polk (County)   \n\n  damagedStateAbbreviation damagedZipCode  ihpAmount  \n0                       FL          32935        0.0  \n1                       FL          33470     1000.0  \n2                       FL          32725        0.0  \n3                       FL          33903        0.0  \n4                       FL          33881      700.0  ",
      "text/html": "<div>\n<style scoped>\n    .dataframe tbody tr th:only-of-type {\n        vertical-align: middle;\n    }\n\n    .dataframe tbody tr th {\n        vertical-align: top;\n    }\n\n    .dataframe thead th {\n        text-align: right;\n    }\n</style>\n<table border=\"1\" class=\"dataframe\">\n  <thead>\n    <tr style=\"text-align: right;\">\n      <th></th>\n      <th>incidentType</th>\n      <th>declarationDate</th>\n      <th>disasterNumber</th>\n      <th>county</th>\n      <th>damagedStateAbbreviation</th>\n      <th>damagedZipCode</th>\n      <th>ihpAmount</th>\n    </tr>\n  </thead>\n  <tbody>\n    <tr>\n      <th>0</th>\n      <td>Hurricane</td>\n      <td>2022-09-29 00:00:00+00:00</td>\n      <td>4673</td>\n      <td>Brevard (County)</td>\n      <td>FL</td>\n      <td>32935</td>\n      <td>0.0</td>\n    </tr>\n    <tr>\n      <th>1</th>\n      <td>Hurricane</td>\n      <td>2022-09-29 00:00:00+00:00</td>\n      <td>4673</td>\n      <td>Palm Beach (County)</td>\n      <td>FL</td>\n      <td>33470</td>\n      <td>1000.0</td>\n    </tr>\n    <tr>\n      <th>2</th>\n      <td>Hurricane</td>\n      <td>2022-09-29 00:00:00+00:00</td>\n      <td>4673</td>\n      <td>Volusia (County)</td>\n      <td>FL</td>\n      <td>32725</td>\n      <td>0.0</td>\n    </tr>\n    <tr>\n      <th>3</th>\n      <td>Hurricane</td>\n      <td>2022-09-29 00:00:00+00:00</td>\n      <td>4673</td>\n      <td>Lee (County)</td>\n      <td>FL</td>\n      <td>33903</td>\n      <td>0.0</td>\n    </tr>\n    <tr>\n      <th>4</th>\n      <td>Hurricane</td>\n      <td>2022-09-29 00:00:00+00:00</td>\n      <td>4673</td>\n      <td>Polk (County)</td>\n      <td>FL</td>\n      <td>33881</td>\n      <td>700.0</td>\n    </tr>\n  </tbody>\n</table>\n</div>"
     },
     "execution_count": 180,
     "metadata": {},
     "output_type": "execute_result"
    }
   ],
   "source": [
    "dtypes = {\n",
    "    'incidentType': np.str_, 'county': np.str_, 'damagedStateAbbreviation': np.str_, 'damagedZipCode':np.str_,\n",
    "    'declarationsDate': np.datetime64, 'disasterNumber': np.int32, 'ihpAmount': np.float64\n",
    "}\n",
    "\n",
    "claims = pd.read_csv('gatorcain_data/hurricane_FL_data.csv',\n",
    "                     dtype=dtypes,\n",
    "                     parse_dates=['declarationDate']\n",
    ")\n",
    "claims.head()"
   ],
   "metadata": {
    "collapsed": false
   }
  },
  {
   "cell_type": "code",
   "execution_count": 181,
   "outputs": [
    {
     "name": "stdout",
     "output_type": "stream",
     "text": [
      "Name\n",
      "Irma       1020976908.08\n",
      "Ian         968508915.93\n",
      "Wilma       342259581.97\n",
      "Frances     411815685.98\n",
      "Jeanne      398618731.65\n",
      "Charley     208970753.97\n",
      "Ivan        164509853.53\n",
      "Michael     149572302.29\n",
      "Name: IHP, dtype: object\n"
     ]
    }
   ],
   "source": [
    "# Set IHP Amount\n",
    "data.loc['Irma', 'IHP'] = claims.query(\"disasterNumber == 4337 or disasterNumber == 4341\")[\"ihpAmount\"].sum().round(2)\n",
    "data.loc['Ian', 'IHP'] = claims.query(\"disasterNumber == 4673 or disasterNumber == 4675\")[\"ihpAmount\"].sum().round(2)\n",
    "data.loc['Wilma', 'IHP'] = claims.query(\"disasterNumber == 1609\")[\"ihpAmount\"].sum().round(2)\n",
    "data.loc['Frances', 'IHP'] = claims.query(\"disasterNumber == 1545\")[\"ihpAmount\"].sum().round(2)\n",
    "data.loc['Jeanne', 'IHP'] = claims.query(\"disasterNumber == 1561\")[\"ihpAmount\"].sum().round(2)\n",
    "data.loc['Charley', 'IHP'] = claims.query(\"disasterNumber == 1539\")[\"ihpAmount\"].sum().round(2)\n",
    "data.loc['Ivan', 'IHP'] = claims.query(\"disasterNumber == 1551\")[\"ihpAmount\"].sum().round(2)\n",
    "data.loc['Michael', 'IHP'] = claims.query(\"disasterNumber == 4399\")[\"ihpAmount\"].sum().round(2)\n",
    "print(data['IHP'].astype(str))"
   ],
   "metadata": {
    "collapsed": false
   }
  },
  {
   "cell_type": "code",
   "execution_count": 182,
   "outputs": [
    {
     "name": "stderr",
     "output_type": "stream",
     "text": [
      "C:\\Users\\marre\\AppData\\Local\\Temp\\ipykernel_13164\\1924545375.py:3: FutureWarning: The default value of regex will change from True to False in a future version.\n",
      "  damagedZipCodes = damagedZipCodes.astype(str).str.replace(\"[^0-9]\", \"0\")\n"
     ]
    }
   ],
   "source": [
    "# Clean zip codes columns\n",
    "damagedZipCodes = claims['damagedZipCode']\n",
    "damagedZipCodes = damagedZipCodes.astype(str).str.replace(\"[^0-9]\", \"0\")\n",
    "damagedZipCodes = damagedZipCodes.astype(int)\n",
    "claims['damagedZipCode'] = damagedZipCodes"
   ],
   "metadata": {
    "collapsed": false
   }
  },
  {
   "cell_type": "code",
   "execution_count": 183,
   "outputs": [],
   "source": [
    "#Get Zip Codes\n",
    "florida_zip_codes = [x for x in claims['damagedZipCode'].unique().astype(int) if 32000 <= x <= 34999]\n",
    "florida_zip_codes = sorted(florida_zip_codes)"
   ],
   "metadata": {
    "collapsed": false
   }
  },
  {
   "cell_type": "code",
   "execution_count": 184,
   "outputs": [
    {
     "data": {
      "text/plain": "      Irma  Ian Wilma Frances Jeanne Charley Ivan Michael\n34994  NaN  NaN   NaN     NaN    NaN     NaN  NaN     NaN\n34995  NaN  NaN   NaN     NaN    NaN     NaN  NaN     NaN\n34996  NaN  NaN   NaN     NaN    NaN     NaN  NaN     NaN\n34997  NaN  NaN   NaN     NaN    NaN     NaN  NaN     NaN\n34998  NaN  NaN   NaN     NaN    NaN     NaN  NaN     NaN",
      "text/html": "<div>\n<style scoped>\n    .dataframe tbody tr th:only-of-type {\n        vertical-align: middle;\n    }\n\n    .dataframe tbody tr th {\n        vertical-align: top;\n    }\n\n    .dataframe thead th {\n        text-align: right;\n    }\n</style>\n<table border=\"1\" class=\"dataframe\">\n  <thead>\n    <tr style=\"text-align: right;\">\n      <th></th>\n      <th>Irma</th>\n      <th>Ian</th>\n      <th>Wilma</th>\n      <th>Frances</th>\n      <th>Jeanne</th>\n      <th>Charley</th>\n      <th>Ivan</th>\n      <th>Michael</th>\n    </tr>\n  </thead>\n  <tbody>\n    <tr>\n      <th>34994</th>\n      <td>NaN</td>\n      <td>NaN</td>\n      <td>NaN</td>\n      <td>NaN</td>\n      <td>NaN</td>\n      <td>NaN</td>\n      <td>NaN</td>\n      <td>NaN</td>\n    </tr>\n    <tr>\n      <th>34995</th>\n      <td>NaN</td>\n      <td>NaN</td>\n      <td>NaN</td>\n      <td>NaN</td>\n      <td>NaN</td>\n      <td>NaN</td>\n      <td>NaN</td>\n      <td>NaN</td>\n    </tr>\n    <tr>\n      <th>34996</th>\n      <td>NaN</td>\n      <td>NaN</td>\n      <td>NaN</td>\n      <td>NaN</td>\n      <td>NaN</td>\n      <td>NaN</td>\n      <td>NaN</td>\n      <td>NaN</td>\n    </tr>\n    <tr>\n      <th>34997</th>\n      <td>NaN</td>\n      <td>NaN</td>\n      <td>NaN</td>\n      <td>NaN</td>\n      <td>NaN</td>\n      <td>NaN</td>\n      <td>NaN</td>\n      <td>NaN</td>\n    </tr>\n    <tr>\n      <th>34998</th>\n      <td>NaN</td>\n      <td>NaN</td>\n      <td>NaN</td>\n      <td>NaN</td>\n      <td>NaN</td>\n      <td>NaN</td>\n      <td>NaN</td>\n      <td>NaN</td>\n    </tr>\n  </tbody>\n</table>\n</div>"
     },
     "execution_count": 184,
     "metadata": {},
     "output_type": "execute_result"
    }
   ],
   "source": [
    "# Create Dataframe\n",
    "re_data = pd.DataFrame(columns=['Irma', 'Ian', 'Wilma', 'Frances', 'Jeanne', 'Charley', 'Ivan', 'Michael'], index=florida_zip_codes)\n",
    "re_data.tail()"
   ],
   "metadata": {
    "collapsed": false
   }
  },
  {
   "cell_type": "code",
   "execution_count": 185,
   "outputs": [],
   "source": [
    "# Populate array\n",
    "re_data['Irma'] = claims.query(\"disasterNumber == 4337 or disasterNumber == 4341\")['damagedZipCode'].value_counts()\n",
    "re_data['Ian'] = claims.query(\"disasterNumber == 4673 or disasterNumber == 4675\")['damagedZipCode'].value_counts()\n",
    "re_data['Wilma'] = claims.query(\"disasterNumber == 1609\")['damagedZipCode'].value_counts()\n",
    "re_data['Frances'] = claims.query(\"disasterNumber == 1545\")['damagedZipCode'].value_counts()\n",
    "re_data['Jeanne'] = claims.query(\"disasterNumber == 1561\")['damagedZipCode'].value_counts()\n",
    "re_data['Charley'] = claims.query(\"disasterNumber == 1539\")['damagedZipCode'].value_counts()\n",
    "re_data['Ivan'] = claims.query(\"disasterNumber == 1551\")['damagedZipCode'].value_counts()\n",
    "re_data['Michael'] = claims.query(\"disasterNumber == 1561\")['damagedZipCode'].value_counts()"
   ],
   "metadata": {
    "collapsed": false
   }
  },
  {
   "cell_type": "code",
   "execution_count": 193,
   "outputs": [
    {
     "name": "stdout",
     "output_type": "stream",
     "text": [
      "         Irma  Ian  Wilma  Frances  Jeanne  Charley  Ivan  Michael\n",
      "32002     0.0  0.0    0.0      0.0     1.0      0.0   0.0      1.0\n",
      "32003  1285.0  1.0    0.0    133.0   138.0      0.0   8.0    138.0\n",
      "32004     0.0  2.0    0.0      0.0     0.0      0.0   0.0      0.0\n",
      "32007    10.0  1.0    0.0     35.0    19.0      0.0   0.0     19.0\n",
      "32008   687.0  0.0    0.0    147.0   190.0      2.0   0.0    190.0\n"
     ]
    }
   ],
   "source": [
    "re_data.fillna(0, inplace=True)\n",
    "print(re_data.head())\n",
    "# re_data.to_csv('claims_by_zipcode.csv')"
   ],
   "metadata": {
    "collapsed": false
   }
  },
  {
   "cell_type": "markdown",
   "source": [
    "# Performing regression"
   ],
   "metadata": {
    "collapsed": false
   }
  },
  {
   "cell_type": "code",
   "execution_count": 194,
   "outputs": [
    {
     "name": "stdout",
     "output_type": "stream",
     "text": [
      "[[1388.36336194  197.91713759  339.60061059  211.42105127  101.92773028\n",
      "    88.45956491  205.56342967  101.92773028]]\n"
     ]
    },
    {
     "name": "stderr",
     "output_type": "stream",
     "text": [
      "D:\\Users\\Rayhan\\PyCharmProjects\\DATA-SCIENCE-NOTEBOOKS\\venv\\lib\\site-packages\\sklearn\\base.py:420: UserWarning: X does not have valid feature names, but LinearRegression was fitted with feature names\n",
      "  warnings.warn(\n"
     ]
    }
   ],
   "source": [
    "from sklearn.linear_model import LinearRegression\n",
    "\n",
    "# Convert the index to a column\n",
    "re_data['zipcode'] = re_data.index\n",
    "\n",
    "# Use the zipcode column as the independent variable and the rest of the columns as the dependent variable\n",
    "x = re_data[['zipcode']]\n",
    "y = re_data.drop(columns=['zipcode'])\n",
    "\n",
    "# Fit the model\n",
    "model = LinearRegression().fit(x, y)\n",
    "\n",
    "# Predict the number of claims for a new zipcode\n",
    "new_zipcode = 32000\n",
    "prediction = model.predict([[new_zipcode]])\n",
    "print(prediction)"
   ],
   "metadata": {
    "collapsed": false
   }
  },
  {
   "cell_type": "code",
   "execution_count": null,
   "outputs": [],
   "source": [],
   "metadata": {
    "collapsed": false
   }
  }
 ],
 "metadata": {
  "kernelspec": {
   "display_name": "Python 3",
   "language": "python",
   "name": "python3"
  },
  "language_info": {
   "codemirror_mode": {
    "name": "ipython",
    "version": 2
   },
   "file_extension": ".py",
   "mimetype": "text/x-python",
   "name": "python",
   "nbconvert_exporter": "python",
   "pygments_lexer": "ipython2",
   "version": "2.7.6"
  }
 },
 "nbformat": 4,
 "nbformat_minor": 0
}
