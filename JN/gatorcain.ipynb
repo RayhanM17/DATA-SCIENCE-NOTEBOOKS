{
 "cells": [
  {
   "cell_type": "code",
   "execution_count": 1,
   "outputs": [],
   "source": [
    "import pandas as pd\n",
    "import numpy as np"
   ],
   "metadata": {
    "collapsed": false
   }
  },
  {
   "cell_type": "code",
   "execution_count": 2,
   "outputs": [
    {
     "data": {
      "text/plain": "                          declarationDate  \\\ndisasterNumber                              \n1539            2004-08-13 00:00:00+00:00   \n1545            2004-09-04 00:00:00+00:00   \n1551            2004-09-16 00:00:00+00:00   \n1561            2004-09-26 00:00:00+00:00   \n1595            2005-07-10 00:00:00+00:00   \n1602            2005-08-28 00:00:00+00:00   \n1609            2005-10-24 00:00:00+00:00   \n1806            2008-10-27 00:00:00+00:00   \n4084            2012-10-18 00:00:00+00:00   \n4280            2016-09-28 00:00:00+00:00   \n4283            2016-10-08 00:00:00+00:00   \n4337            2017-09-10 00:00:00+00:00   \n4341            2017-09-27 00:00:00+00:00   \n4399            2018-10-11 00:00:00+00:00   \n4468            2019-10-21 00:00:00+00:00   \n4564            2020-09-23 00:00:00+00:00   \n4673            2022-09-29 00:00:00+00:00   \n4675            2022-09-30 00:00:00+00:00   \n4680            2022-12-13 00:00:00+00:00   \n\n                                           declarationTitle  \\\ndisasterNumber                                                \n1539            TROPICAL STORM BONNIE AND HURRICANE CHARLEY   \n1545                                      HURRICANE FRANCES   \n1551                                         HURRICANE IVAN   \n1561                                       HURRICANE JEANNE   \n1595                                       HURRICANE DENNIS   \n1602                                      HURRICANE KATRINA   \n1609                                        HURRICANE WILMA   \n1806                                       HURRICANE GUSTAV   \n4084                                        HURRICANE ISAAC   \n4280                                      HURRICANE HERMINE   \n4283                                      HURRICANE MATTHEW   \n4337                                         HURRICANE IRMA   \n4341             HURRICANE IRMA - SEMINOLE TRIBE OF FLORIDA   \n4399                                      HURRICANE MICHAEL   \n4468                                       HURRICANE DORIAN   \n4564                                        HURRICANE SALLY   \n4673                                          HURRICANE IAN   \n4675              HURRICANE IAN - SEMINOLE TRIBE OF FLORIDA   \n4680                                       HURRICANE NICOLE   \n\n                                                   designatedArea  \ndisasterNumber                                                     \n1539            Franklin (County),Wakulla (County),Hendry (Cou...  \n1545            Sarasota (County),Nassau (County),Okeechobee (...  \n1551            Jackson (County),Wakulla (County),Washington (...  \n1561            Marion (County),Hernando (County),Palm Beach (...  \n1595            Calhoun (County),Gadsden (County),Wakulla (Cou...  \n1602            Santa Rosa (County),Escambia (County),Miami-Da...  \n1609            Brevard (County),Hendry (County),DeSoto (Count...  \n1806            Santa Rosa (County),Gulf (County),Okaloosa (Co...  \n4084            Escambia (County),St. Lucie (County),Okaloosa ...  \n4280            Marion (County),Levy (County),Gadsden (County)...  \n4283            Brevard (County),Flagler (County),Lake (County...  \n4337            Liberty (County),Lee (County),Columbia (County...  \n4341            Big Cypress Indian Reservation,Hollywood India...  \n4399            Leon (County),Bay (County),Liberty (County),Ga...  \n4468            Broward (County),Nassau (County),Palm Beach (C...  \n4564            Calhoun (County),Gadsden (County),Gulf (County...  \n4673            Jefferson (County),Sumter (County),Gilchrist (...  \n4675            Big Cypress Indian Reservation,Brighton Indian...  \n4680            Hendry (County),Hernando (County),Bradford (Co...  ",
      "text/html": "<div>\n<style scoped>\n    .dataframe tbody tr th:only-of-type {\n        vertical-align: middle;\n    }\n\n    .dataframe tbody tr th {\n        vertical-align: top;\n    }\n\n    .dataframe thead th {\n        text-align: right;\n    }\n</style>\n<table border=\"1\" class=\"dataframe\">\n  <thead>\n    <tr style=\"text-align: right;\">\n      <th></th>\n      <th>declarationDate</th>\n      <th>declarationTitle</th>\n      <th>designatedArea</th>\n    </tr>\n    <tr>\n      <th>disasterNumber</th>\n      <th></th>\n      <th></th>\n      <th></th>\n    </tr>\n  </thead>\n  <tbody>\n    <tr>\n      <th>1539</th>\n      <td>2004-08-13 00:00:00+00:00</td>\n      <td>TROPICAL STORM BONNIE AND HURRICANE CHARLEY</td>\n      <td>Franklin (County),Wakulla (County),Hendry (Cou...</td>\n    </tr>\n    <tr>\n      <th>1545</th>\n      <td>2004-09-04 00:00:00+00:00</td>\n      <td>HURRICANE FRANCES</td>\n      <td>Sarasota (County),Nassau (County),Okeechobee (...</td>\n    </tr>\n    <tr>\n      <th>1551</th>\n      <td>2004-09-16 00:00:00+00:00</td>\n      <td>HURRICANE IVAN</td>\n      <td>Jackson (County),Wakulla (County),Washington (...</td>\n    </tr>\n    <tr>\n      <th>1561</th>\n      <td>2004-09-26 00:00:00+00:00</td>\n      <td>HURRICANE JEANNE</td>\n      <td>Marion (County),Hernando (County),Palm Beach (...</td>\n    </tr>\n    <tr>\n      <th>1595</th>\n      <td>2005-07-10 00:00:00+00:00</td>\n      <td>HURRICANE DENNIS</td>\n      <td>Calhoun (County),Gadsden (County),Wakulla (Cou...</td>\n    </tr>\n    <tr>\n      <th>1602</th>\n      <td>2005-08-28 00:00:00+00:00</td>\n      <td>HURRICANE KATRINA</td>\n      <td>Santa Rosa (County),Escambia (County),Miami-Da...</td>\n    </tr>\n    <tr>\n      <th>1609</th>\n      <td>2005-10-24 00:00:00+00:00</td>\n      <td>HURRICANE WILMA</td>\n      <td>Brevard (County),Hendry (County),DeSoto (Count...</td>\n    </tr>\n    <tr>\n      <th>1806</th>\n      <td>2008-10-27 00:00:00+00:00</td>\n      <td>HURRICANE GUSTAV</td>\n      <td>Santa Rosa (County),Gulf (County),Okaloosa (Co...</td>\n    </tr>\n    <tr>\n      <th>4084</th>\n      <td>2012-10-18 00:00:00+00:00</td>\n      <td>HURRICANE ISAAC</td>\n      <td>Escambia (County),St. Lucie (County),Okaloosa ...</td>\n    </tr>\n    <tr>\n      <th>4280</th>\n      <td>2016-09-28 00:00:00+00:00</td>\n      <td>HURRICANE HERMINE</td>\n      <td>Marion (County),Levy (County),Gadsden (County)...</td>\n    </tr>\n    <tr>\n      <th>4283</th>\n      <td>2016-10-08 00:00:00+00:00</td>\n      <td>HURRICANE MATTHEW</td>\n      <td>Brevard (County),Flagler (County),Lake (County...</td>\n    </tr>\n    <tr>\n      <th>4337</th>\n      <td>2017-09-10 00:00:00+00:00</td>\n      <td>HURRICANE IRMA</td>\n      <td>Liberty (County),Lee (County),Columbia (County...</td>\n    </tr>\n    <tr>\n      <th>4341</th>\n      <td>2017-09-27 00:00:00+00:00</td>\n      <td>HURRICANE IRMA - SEMINOLE TRIBE OF FLORIDA</td>\n      <td>Big Cypress Indian Reservation,Hollywood India...</td>\n    </tr>\n    <tr>\n      <th>4399</th>\n      <td>2018-10-11 00:00:00+00:00</td>\n      <td>HURRICANE MICHAEL</td>\n      <td>Leon (County),Bay (County),Liberty (County),Ga...</td>\n    </tr>\n    <tr>\n      <th>4468</th>\n      <td>2019-10-21 00:00:00+00:00</td>\n      <td>HURRICANE DORIAN</td>\n      <td>Broward (County),Nassau (County),Palm Beach (C...</td>\n    </tr>\n    <tr>\n      <th>4564</th>\n      <td>2020-09-23 00:00:00+00:00</td>\n      <td>HURRICANE SALLY</td>\n      <td>Calhoun (County),Gadsden (County),Gulf (County...</td>\n    </tr>\n    <tr>\n      <th>4673</th>\n      <td>2022-09-29 00:00:00+00:00</td>\n      <td>HURRICANE IAN</td>\n      <td>Jefferson (County),Sumter (County),Gilchrist (...</td>\n    </tr>\n    <tr>\n      <th>4675</th>\n      <td>2022-09-30 00:00:00+00:00</td>\n      <td>HURRICANE IAN - SEMINOLE TRIBE OF FLORIDA</td>\n      <td>Big Cypress Indian Reservation,Brighton Indian...</td>\n    </tr>\n    <tr>\n      <th>4680</th>\n      <td>2022-12-13 00:00:00+00:00</td>\n      <td>HURRICANE NICOLE</td>\n      <td>Hendry (County),Hernando (County),Bradford (Co...</td>\n    </tr>\n  </tbody>\n</table>\n</div>"
     },
     "execution_count": 2,
     "metadata": {},
     "output_type": "execute_result"
    }
   ],
   "source": [],
   "metadata": {
    "collapsed": false
   }
  }
 ],
 "metadata": {
  "kernelspec": {
   "display_name": "Python 3",
   "language": "python",
   "name": "python3"
  },
  "language_info": {
   "codemirror_mode": {
    "name": "ipython",
    "version": 2
   },
   "file_extension": ".py",
   "mimetype": "text/x-python",
   "name": "python",
   "nbconvert_exporter": "python",
   "pygments_lexer": "ipython2",
   "version": "2.7.6"
  }
 },
 "nbformat": 4,
 "nbformat_minor": 0
}
