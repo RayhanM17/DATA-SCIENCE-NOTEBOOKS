{
 "cells": [
  {
   "cell_type": "code",
   "execution_count": 39,
   "metadata": {
    "collapsed": true
   },
   "outputs": [],
   "source": [
    "import numpy as np\n",
    "import pandas as pd\n",
    "import matplotlib.pyplot as plt\n",
    "#import scipy.stats as stats\n",
    "\n",
    "#Important Variables\n",
    "no_show_mu = 0.02434\n",
    "no_show_sigma = 0.02436\n",
    "plane_capacity = 217\n",
    "ticket_price = 1016.94\n",
    "max_compensation = 1550\n",
    "\n",
    "#Generate no show rates\n",
    "def gen_no_show_rates(number, graph):\n",
    "    x = np.random.normal(no_show_mu, no_show_sigma, number)\n",
    "    x[x < 0] = 0\n",
    "\n",
    "    if graph:\n",
    "        plt.hist(x, bins=50)\n",
    "        plt.title(str(number) + ' no-show rates')\n",
    "        plt.show()\n",
    "    return x\n",
    "\n",
    "#Simulate attendance\n",
    "def sim_shows(probs, booked, trials, graph):\n",
    "    sim_data = np.zeros((probs.size, trials)) #2d array of zeros\n",
    "    for i in range(0, probs.size):\n",
    "        x = np.random.binomial(n=booked,  # Number of passengers booked per trial\n",
    "                                      p=1 - probs[i],  # show probability\n",
    "                                      size=trials) # number of trials\n",
    "        sim_data[i] = x\n",
    "    if graph:\n",
    "        pa = sim_data.flatten()\n",
    "        r = int((max(pa) - min(pa)))\n",
    "        plt.xlabel(\"Number of passengers arrived\")\n",
    "        plt.title(\"Attendance when \" + str(booked) + ' are booked')\n",
    "        plt.hist(pa, r)\n",
    "        plt.show()\n",
    "    return sim_data\n",
    "\n",
    "# number of overflow flights, total bumps, & bump rate\n",
    "def calc_bump(attendance, booked):\n",
    "    x = attendance[attendance > plane_capacity].size\n",
    "    y = (attendance[attendance > plane_capacity] - plane_capacity).sum()\n",
    "    z = y / (attendance.size * booked)\n",
    "    return x, y, z\n",
    "\n",
    "# calculate compensation, empty seats, opportunity lost, capacity, profit\n",
    "def calc_profit(attendance, bumps):\n",
    "    v = bumps * max_compensation\n",
    "    w = (abs(attendance[attendance < plane_capacity] - plane_capacity)).sum()\n",
    "    x = w * ticket_price\n",
    "    attendance[attendance > plane_capacity] = plane_capacity\n",
    "    y = (attendance.sum() / (attendance.size * plane_capacity)).round(4)\n",
    "    z = attendance.sum() * ticket_price - bumps * max_compensation\n",
    "\n",
    "    return v, w, x, y, z\n",
    "\n",
    "# MASTER SIM - params = number of over booking, runs, if you want to graph\n",
    "def overbooking_sim(data_points, runs, graph):\n",
    "    sim_data = pd.DataFrame(\n",
    "        {},\n",
    "        columns=np.arange(\n",
    "            (1/plane_capacity), #start\n",
    "            (data_points/plane_capacity), #stop\n",
    "            (1/plane_capacity)), #step\n",
    "        index=[\n",
    "            'overflowed flights',\n",
    "            'total bumps',\n",
    "            'bump rate',\n",
    "            'total compensation',\n",
    "            'empty seats',\n",
    "            'opportunity lost',\n",
    "            'plane capacity',\n",
    "            'profit']\n",
    "    )\n",
    "    no_show_rates = gen_no_show_rates(int(runs * 0.001), False)\n",
    "    for i in range(1, 21):\n",
    "        # calculate data\n",
    "        plane_attendance = sim_shows(no_show_rates, plane_capacity + i, int(runs * 0.0001), False)\n",
    "        overflowed_flights, bumps, bump_rate = calc_bump(plane_attendance, plane_capacity + i)\n",
    "        total_comp, empty_seats, opportunity_lost, capacity, profit = calc_profit(plane_attendance, bumps)\n",
    "\n",
    "        # store data\n",
    "        sim_data.loc[sim_data.index[0], sim_data.columns[i - 1]] = overflowed_flights\n",
    "        sim_data.loc[sim_data.index[1], sim_data.columns[i - 1]] = bumps\n",
    "        sim_data.loc[sim_data.index[2], sim_data.columns[i - 1]] = bump_rate\n",
    "        sim_data.loc[sim_data.index[3], sim_data.columns[i - 1]] = total_comp\n",
    "        sim_data.loc[sim_data.index[4], sim_data.columns[i - 1]] = empty_seats\n",
    "        sim_data.loc[sim_data.index[5], sim_data.columns[i - 1]] = opportunity_lost\n",
    "        sim_data.loc[sim_data.index[6], sim_data.columns[i - 1]] = capacity\n",
    "        sim_data.loc[sim_data.index[7], sim_data.columns[i - 1]] = profit\n",
    "\n",
    "    # Graph Profit\n",
    "    if graph:\n",
    "        profit = sim_data.loc['profit']\n",
    "        profit = profit / profit.max() * 100\n",
    "        profit.index = np.arange(1, 21)\n",
    "        plt.ylim(90, 100)\n",
    "        plt.xlabel(\"Number of extra seats sold\")\n",
    "        plt.ylabel(\"Profit (Percentiles of max)\")\n",
    "        plt.title(\"Profit Per Overbooking Rate\")\n",
    "        profit.plot.bar(rot=0)\n",
    "        plt.show()\n",
    "\n",
    "    return sim_data\n"
   ]
  },
  {
   "cell_type": "code",
   "execution_count": 40,
   "outputs": [],
   "source": [
    "# no_show_rates = gen_no_show_rates(10000, False)\n",
    "# plane_attendance = sim_shows(no_show_rates, 218, 1000, True)\n",
    "#overflow_flights, total_bumps, bump_rate = calc_bump(plane_attendance, 218)\n",
    "# total_comp, empty_seats, opportunity_lost, capacity = calc_profit(plane_attendance, total_bumps)\n",
    "sim_data = overbooking_sim(20, 10000000, False)"
   ],
   "metadata": {
    "collapsed": false
   }
  },
  {
   "cell_type": "code",
   "execution_count": null,
   "outputs": [],
   "source": [],
   "metadata": {
    "collapsed": false
   }
  },
  {
   "cell_type": "code",
   "execution_count": 63,
   "outputs": [
    {
     "data": {
      "text/plain": "<Figure size 640x480 with 1 Axes>",
      "image/png": "[encoded data removed]"
     },
     "metadata": {},
     "output_type": "display_data"
    }
   ],
   "source": [
    "tb = sim_data.loc['bump rate'] # this <<< data\n",
    "#create table\n",
    "plt.table(colLabels=tb.index, cellText=tb.values.reshape(1,20).astype(str))\n",
    "plt.show()"
   ],
   "metadata": {
    "collapsed": false
   }
  },
  {
   "cell_type": "code",
   "execution_count": null,
   "outputs": [],
   "source": [],
   "metadata": {
    "collapsed": false
   }
  }
 ],
 "metadata": {
  "kernelspec": {
   "display_name": "Python 3",
   "language": "python",
   "name": "python3"
  },
  "language_info": {
   "codemirror_mode": {
    "name": "ipython",
    "version": 2
   },
   "file_extension": ".py",
   "mimetype": "text/x-python",
   "name": "python",
   "nbconvert_exporter": "python",
   "pygments_lexer": "ipython2",
   "version": "2.7.6"
  }
 },
 "nbformat": 4,
 "nbformat_minor": 0
}
