{
 "cells": [
  {
   "cell_type": "code",
   "execution_count": 2,
   "metadata": {
    "collapsed": true
   },
   "outputs": [],
   "source": [
    "import numpy as np\n",
    "import pandas as pd"
   ]
  },
  {
   "cell_type": "code",
   "execution_count": 3,
   "outputs": [
    {
     "data": {
      "text/plain": "           MaleAR  FemaleAR\nUnder 20      132        72\n20-24          95        50\n25-29          73        38\n30-34          65        36\n35-39          53        41\n40-44          51        33\n45-49          50        36\n50-54          47        25\n55-59          47        27\n60-64          38        30\n65-69          42        19\n70-74          47        32\n75 & Over      48        35",
      "text/html": "<div>\n<style scoped>\n    .dataframe tbody tr th:only-of-type {\n        vertical-align: middle;\n    }\n\n    .dataframe tbody tr th {\n        vertical-align: top;\n    }\n\n    .dataframe thead th {\n        text-align: right;\n    }\n</style>\n<table border=\"1\" class=\"dataframe\">\n  <thead>\n    <tr style=\"text-align: right;\">\n      <th></th>\n      <th>MaleAR</th>\n      <th>FemaleAR</th>\n    </tr>\n  </thead>\n  <tbody>\n    <tr>\n      <th>Under 20</th>\n      <td>132</td>\n      <td>72</td>\n    </tr>\n    <tr>\n      <th>20-24</th>\n      <td>95</td>\n      <td>50</td>\n    </tr>\n    <tr>\n      <th>25-29</th>\n      <td>73</td>\n      <td>38</td>\n    </tr>\n    <tr>\n      <th>30-34</th>\n      <td>65</td>\n      <td>36</td>\n    </tr>\n    <tr>\n      <th>35-39</th>\n      <td>53</td>\n      <td>41</td>\n    </tr>\n    <tr>\n      <th>40-44</th>\n      <td>51</td>\n      <td>33</td>\n    </tr>\n    <tr>\n      <th>45-49</th>\n      <td>50</td>\n      <td>36</td>\n    </tr>\n    <tr>\n      <th>50-54</th>\n      <td>47</td>\n      <td>25</td>\n    </tr>\n    <tr>\n      <th>55-59</th>\n      <td>47</td>\n      <td>27</td>\n    </tr>\n    <tr>\n      <th>60-64</th>\n      <td>38</td>\n      <td>30</td>\n    </tr>\n    <tr>\n      <th>65-69</th>\n      <td>42</td>\n      <td>19</td>\n    </tr>\n    <tr>\n      <th>70-74</th>\n      <td>47</td>\n      <td>32</td>\n    </tr>\n    <tr>\n      <th>75 &amp; Over</th>\n      <td>48</td>\n      <td>35</td>\n    </tr>\n  </tbody>\n</table>\n</div>"
     },
     "execution_count": 3,
     "metadata": {},
     "output_type": "execute_result"
    }
   ],
   "source": [
    "# Auto Insurance Data\n",
    "df = pd.DataFrame({\n",
    "    'MaleAR': [\n",
    "        132,\n",
    "        95,\n",
    "        73,\n",
    "        65,\n",
    "        53,\n",
    "        51,\n",
    "        50,\n",
    "        47,\n",
    "        47,\n",
    "        38,\n",
    "        42,\n",
    "        47,\n",
    "        48\n",
    "    ],\n",
    "    'FemaleAR': [\n",
    "        72,\n",
    "        50,\n",
    "        38,\n",
    "        36,\n",
    "        41,\n",
    "        33,\n",
    "        36,\n",
    "        25,\n",
    "        27,\n",
    "        30,\n",
    "        19,\n",
    "        32,\n",
    "        35\n",
    "    ]\n",
    "}, columns=['MaleAR', 'FemaleAR'])\n",
    "\n",
    "df.index = [\n",
    "        'Under 20',\n",
    "        '20-24',\n",
    "        '25-29',\n",
    "        '30-34',\n",
    "        '35-39',\n",
    "        '40-44',\n",
    "        '45-49',\n",
    "        '50-54',\n",
    "        '55-59',\n",
    "        '60-64',\n",
    "        '65-69',\n",
    "        '70-74',\n",
    "        '75 & Over'\n",
    "    ]\n",
    "df"
   ],
   "metadata": {
    "collapsed": false
   }
  },
  {
   "cell_type": "code",
   "execution_count": 4,
   "outputs": [
    {
     "data": {
      "text/plain": "           MaleAR  FemaleAR  MalePP  FemalePP\nUnder 20      132        72   660.0     360.0\n20-24          95        50   475.0     250.0\n25-29          73        38   365.0     190.0\n30-34          65        36   325.0     180.0\n35-39          53        41   265.0     205.0\n40-44          51        33   255.0     165.0\n45-49          50        36   250.0     180.0\n50-54          47        25   235.0     125.0\n55-59          47        27   235.0     135.0\n60-64          38        30   190.0     150.0\n65-69          42        19   210.0      95.0\n70-74          47        32   235.0     160.0\n75 & Over      48        35   240.0     175.0",
      "text/html": "<div>\n<style scoped>\n    .dataframe tbody tr th:only-of-type {\n        vertical-align: middle;\n    }\n\n    .dataframe tbody tr th {\n        vertical-align: top;\n    }\n\n    .dataframe thead th {\n        text-align: right;\n    }\n</style>\n<table border=\"1\" class=\"dataframe\">\n  <thead>\n    <tr style=\"text-align: right;\">\n      <th></th>\n      <th>MaleAR</th>\n      <th>FemaleAR</th>\n      <th>MalePP</th>\n      <th>FemalePP</th>\n    </tr>\n  </thead>\n  <tbody>\n    <tr>\n      <th>Under 20</th>\n      <td>132</td>\n      <td>72</td>\n      <td>660.0</td>\n      <td>360.0</td>\n    </tr>\n    <tr>\n      <th>20-24</th>\n      <td>95</td>\n      <td>50</td>\n      <td>475.0</td>\n      <td>250.0</td>\n    </tr>\n    <tr>\n      <th>25-29</th>\n      <td>73</td>\n      <td>38</td>\n      <td>365.0</td>\n      <td>190.0</td>\n    </tr>\n    <tr>\n      <th>30-34</th>\n      <td>65</td>\n      <td>36</td>\n      <td>325.0</td>\n      <td>180.0</td>\n    </tr>\n    <tr>\n      <th>35-39</th>\n      <td>53</td>\n      <td>41</td>\n      <td>265.0</td>\n      <td>205.0</td>\n    </tr>\n    <tr>\n      <th>40-44</th>\n      <td>51</td>\n      <td>33</td>\n      <td>255.0</td>\n      <td>165.0</td>\n    </tr>\n    <tr>\n      <th>45-49</th>\n      <td>50</td>\n      <td>36</td>\n      <td>250.0</td>\n      <td>180.0</td>\n    </tr>\n    <tr>\n      <th>50-54</th>\n      <td>47</td>\n      <td>25</td>\n      <td>235.0</td>\n      <td>125.0</td>\n    </tr>\n    <tr>\n      <th>55-59</th>\n      <td>47</td>\n      <td>27</td>\n      <td>235.0</td>\n      <td>135.0</td>\n    </tr>\n    <tr>\n      <th>60-64</th>\n      <td>38</td>\n      <td>30</td>\n      <td>190.0</td>\n      <td>150.0</td>\n    </tr>\n    <tr>\n      <th>65-69</th>\n      <td>42</td>\n      <td>19</td>\n      <td>210.0</td>\n      <td>95.0</td>\n    </tr>\n    <tr>\n      <th>70-74</th>\n      <td>47</td>\n      <td>32</td>\n      <td>235.0</td>\n      <td>160.0</td>\n    </tr>\n    <tr>\n      <th>75 &amp; Over</th>\n      <td>48</td>\n      <td>35</td>\n      <td>240.0</td>\n      <td>175.0</td>\n    </tr>\n  </tbody>\n</table>\n</div>"
     },
     "execution_count": 4,
     "metadata": {},
     "output_type": "execute_result"
    }
   ],
   "source": [
    "# Insurance Premium Form (avg cost * rate) / exposure units\n",
    "df['MalePP'] = (df.MaleAR * 5000) / 1000\n",
    "df['FemalePP'] = (df.FemaleAR * 5000) / 1000\n",
    "df"
   ],
   "metadata": {
    "collapsed": false
   }
  }
 ],
 "metadata": {
  "kernelspec": {
   "display_name": "Python 3",
   "language": "python",
   "name": "python3"
  },
  "language_info": {
   "codemirror_mode": {
    "name": "ipython",
    "version": 2
   },
   "file_extension": ".py",
   "mimetype": "text/x-python",
   "name": "python",
   "nbconvert_exporter": "python",
   "pygments_lexer": "ipython2",
   "version": "2.7.6"
  }
 },
 "nbformat": 4,
 "nbformat_minor": 0
}
