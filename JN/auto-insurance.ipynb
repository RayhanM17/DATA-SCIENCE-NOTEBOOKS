{
 "cells": [
  {
   "cell_type": "code",
   "execution_count": 85,
   "metadata": {
    "collapsed": true
   },
   "outputs": [],
   "source": [
    "import numpy as np\n",
    "import pandas as pd\n",
    "import matplotlib.pyplot as plt\n",
    "import scipy.stats as stats"
   ]
  },
  {
   "cell_type": "code",
   "execution_count": 62,
   "outputs": [
    {
     "data": {
      "text/plain": "           MaleAR  FemaleAR\nUnder 20      132        72\n20-24          95        50\n25-29          73        38\n30-34          65        36\n35-39          53        41\n40-44          51        33\n45-49          50        36\n50-54          47        25\n55-59          47        27\n60-64          38        30\n65-69          42        19\n70-74          47        32\n75 & Over      48        35",
      "text/html": "<div>\n<style scoped>\n    .dataframe tbody tr th:only-of-type {\n        vertical-align: middle;\n    }\n\n    .dataframe tbody tr th {\n        vertical-align: top;\n    }\n\n    .dataframe thead th {\n        text-align: right;\n    }\n</style>\n<table border=\"1\" class=\"dataframe\">\n  <thead>\n    <tr style=\"text-align: right;\">\n      <th></th>\n      <th>MaleAR</th>\n      <th>FemaleAR</th>\n    </tr>\n  </thead>\n  <tbody>\n    <tr>\n      <th>Under 20</th>\n      <td>132</td>\n      <td>72</td>\n    </tr>\n    <tr>\n      <th>20-24</th>\n      <td>95</td>\n      <td>50</td>\n    </tr>\n    <tr>\n      <th>25-29</th>\n      <td>73</td>\n      <td>38</td>\n    </tr>\n    <tr>\n      <th>30-34</th>\n      <td>65</td>\n      <td>36</td>\n    </tr>\n    <tr>\n      <th>35-39</th>\n      <td>53</td>\n      <td>41</td>\n    </tr>\n    <tr>\n      <th>40-44</th>\n      <td>51</td>\n      <td>33</td>\n    </tr>\n    <tr>\n      <th>45-49</th>\n      <td>50</td>\n      <td>36</td>\n    </tr>\n    <tr>\n      <th>50-54</th>\n      <td>47</td>\n      <td>25</td>\n    </tr>\n    <tr>\n      <th>55-59</th>\n      <td>47</td>\n      <td>27</td>\n    </tr>\n    <tr>\n      <th>60-64</th>\n      <td>38</td>\n      <td>30</td>\n    </tr>\n    <tr>\n      <th>65-69</th>\n      <td>42</td>\n      <td>19</td>\n    </tr>\n    <tr>\n      <th>70-74</th>\n      <td>47</td>\n      <td>32</td>\n    </tr>\n    <tr>\n      <th>75 &amp; Over</th>\n      <td>48</td>\n      <td>35</td>\n    </tr>\n  </tbody>\n</table>\n</div>"
     },
     "execution_count": 62,
     "metadata": {},
     "output_type": "execute_result"
    }
   ],
   "source": [
    "# Auto Insurance Data\n",
    "df = pd.DataFrame({\n",
    "    'MaleAR': [\n",
    "        132,\n",
    "        95,\n",
    "        73,\n",
    "        65,\n",
    "        53,\n",
    "        51,\n",
    "        50,\n",
    "        47,\n",
    "        47,\n",
    "        38,\n",
    "        42,\n",
    "        47,\n",
    "        48\n",
    "    ],\n",
    "    'FemaleAR': [\n",
    "        72,\n",
    "        50,\n",
    "        38,\n",
    "        36,\n",
    "        41,\n",
    "        33,\n",
    "        36,\n",
    "        25,\n",
    "        27,\n",
    "        30,\n",
    "        19,\n",
    "        32,\n",
    "        35\n",
    "    ]\n",
    "}, columns=['MaleAR', 'FemaleAR'])\n",
    "\n",
    "df.index = [\n",
    "        'Under 20',\n",
    "        '20-24',\n",
    "        '25-29',\n",
    "        '30-34',\n",
    "        '35-39',\n",
    "        '40-44',\n",
    "        '45-49',\n",
    "        '50-54',\n",
    "        '55-59',\n",
    "        '60-64',\n",
    "        '65-69',\n",
    "        '70-74',\n",
    "        '75 & Over'\n",
    "    ]\n",
    "df"
   ],
   "metadata": {
    "collapsed": false
   }
  },
  {
   "cell_type": "code",
   "execution_count": 63,
   "outputs": [
    {
     "data": {
      "text/plain": "           MaleAR  FemaleAR  MalePP  FemalePP\nUnder 20      132        72   660.0     360.0\n20-24          95        50   475.0     250.0\n25-29          73        38   365.0     190.0\n30-34          65        36   325.0     180.0\n35-39          53        41   265.0     205.0\n40-44          51        33   255.0     165.0\n45-49          50        36   250.0     180.0\n50-54          47        25   235.0     125.0\n55-59          47        27   235.0     135.0\n60-64          38        30   190.0     150.0\n65-69          42        19   210.0      95.0\n70-74          47        32   235.0     160.0\n75 & Over      48        35   240.0     175.0",
      "text/html": "<div>\n<style scoped>\n    .dataframe tbody tr th:only-of-type {\n        vertical-align: middle;\n    }\n\n    .dataframe tbody tr th {\n        vertical-align: top;\n    }\n\n    .dataframe thead th {\n        text-align: right;\n    }\n</style>\n<table border=\"1\" class=\"dataframe\">\n  <thead>\n    <tr style=\"text-align: right;\">\n      <th></th>\n      <th>MaleAR</th>\n      <th>FemaleAR</th>\n      <th>MalePP</th>\n      <th>FemalePP</th>\n    </tr>\n  </thead>\n  <tbody>\n    <tr>\n      <th>Under 20</th>\n      <td>132</td>\n      <td>72</td>\n      <td>660.0</td>\n      <td>360.0</td>\n    </tr>\n    <tr>\n      <th>20-24</th>\n      <td>95</td>\n      <td>50</td>\n      <td>475.0</td>\n      <td>250.0</td>\n    </tr>\n    <tr>\n      <th>25-29</th>\n      <td>73</td>\n      <td>38</td>\n      <td>365.0</td>\n      <td>190.0</td>\n    </tr>\n    <tr>\n      <th>30-34</th>\n      <td>65</td>\n      <td>36</td>\n      <td>325.0</td>\n      <td>180.0</td>\n    </tr>\n    <tr>\n      <th>35-39</th>\n      <td>53</td>\n      <td>41</td>\n      <td>265.0</td>\n      <td>205.0</td>\n    </tr>\n    <tr>\n      <th>40-44</th>\n      <td>51</td>\n      <td>33</td>\n      <td>255.0</td>\n      <td>165.0</td>\n    </tr>\n    <tr>\n      <th>45-49</th>\n      <td>50</td>\n      <td>36</td>\n      <td>250.0</td>\n      <td>180.0</td>\n    </tr>\n    <tr>\n      <th>50-54</th>\n      <td>47</td>\n      <td>25</td>\n      <td>235.0</td>\n      <td>125.0</td>\n    </tr>\n    <tr>\n      <th>55-59</th>\n      <td>47</td>\n      <td>27</td>\n      <td>235.0</td>\n      <td>135.0</td>\n    </tr>\n    <tr>\n      <th>60-64</th>\n      <td>38</td>\n      <td>30</td>\n      <td>190.0</td>\n      <td>150.0</td>\n    </tr>\n    <tr>\n      <th>65-69</th>\n      <td>42</td>\n      <td>19</td>\n      <td>210.0</td>\n      <td>95.0</td>\n    </tr>\n    <tr>\n      <th>70-74</th>\n      <td>47</td>\n      <td>32</td>\n      <td>235.0</td>\n      <td>160.0</td>\n    </tr>\n    <tr>\n      <th>75 &amp; Over</th>\n      <td>48</td>\n      <td>35</td>\n      <td>240.0</td>\n      <td>175.0</td>\n    </tr>\n  </tbody>\n</table>\n</div>"
     },
     "execution_count": 63,
     "metadata": {},
     "output_type": "execute_result"
    }
   ],
   "source": [
    "# Insurance Premium Form (avg cost * rate) / exposure units\n",
    "df['MalePP'] = (df.MaleAR * 5000) / 1000\n",
    "df['FemalePP'] = (df.FemaleAR * 5000) / 1000\n",
    "df"
   ],
   "metadata": {
    "collapsed": false
   }
  },
  {
   "cell_type": "code",
   "execution_count": 64,
   "outputs": [
    {
     "data": {
      "text/plain": "           MaleAR  FemaleAR  MalePP  FemalePP  MaleGP  FemaleGP\nUnder 20      132        72   660.0     360.0   867.0     491.0\n20-24          95        50   475.0     250.0   635.0     353.0\n25-29          73        38   365.0     190.0   497.0     278.0\n30-34          65        36   325.0     180.0   447.0     265.0\n35-39          53        41   265.0     205.0   372.0     297.0\n40-44          51        33   255.0     165.0   359.0     247.0\n45-49          50        36   250.0     180.0   353.0     265.0\n50-54          47        25   235.0     125.0   334.0     197.0\n55-59          47        27   235.0     135.0   334.0     209.0\n60-64          38        30   190.0     150.0   278.0     228.0\n65-69          42        19   210.0      95.0   303.0     159.0\n70-74          47        32   235.0     160.0   334.0     240.0\n75 & Over      48        35   240.0     175.0   341.0     259.0",
      "text/html": "<div>\n<style scoped>\n    .dataframe tbody tr th:only-of-type {\n        vertical-align: middle;\n    }\n\n    .dataframe tbody tr th {\n        vertical-align: top;\n    }\n\n    .dataframe thead th {\n        text-align: right;\n    }\n</style>\n<table border=\"1\" class=\"dataframe\">\n  <thead>\n    <tr style=\"text-align: right;\">\n      <th></th>\n      <th>MaleAR</th>\n      <th>FemaleAR</th>\n      <th>MalePP</th>\n      <th>FemalePP</th>\n      <th>MaleGP</th>\n      <th>FemaleGP</th>\n    </tr>\n  </thead>\n  <tbody>\n    <tr>\n      <th>Under 20</th>\n      <td>132</td>\n      <td>72</td>\n      <td>660.0</td>\n      <td>360.0</td>\n      <td>867.0</td>\n      <td>491.0</td>\n    </tr>\n    <tr>\n      <th>20-24</th>\n      <td>95</td>\n      <td>50</td>\n      <td>475.0</td>\n      <td>250.0</td>\n      <td>635.0</td>\n      <td>353.0</td>\n    </tr>\n    <tr>\n      <th>25-29</th>\n      <td>73</td>\n      <td>38</td>\n      <td>365.0</td>\n      <td>190.0</td>\n      <td>497.0</td>\n      <td>278.0</td>\n    </tr>\n    <tr>\n      <th>30-34</th>\n      <td>65</td>\n      <td>36</td>\n      <td>325.0</td>\n      <td>180.0</td>\n      <td>447.0</td>\n      <td>265.0</td>\n    </tr>\n    <tr>\n      <th>35-39</th>\n      <td>53</td>\n      <td>41</td>\n      <td>265.0</td>\n      <td>205.0</td>\n      <td>372.0</td>\n      <td>297.0</td>\n    </tr>\n    <tr>\n      <th>40-44</th>\n      <td>51</td>\n      <td>33</td>\n      <td>255.0</td>\n      <td>165.0</td>\n      <td>359.0</td>\n      <td>247.0</td>\n    </tr>\n    <tr>\n      <th>45-49</th>\n      <td>50</td>\n      <td>36</td>\n      <td>250.0</td>\n      <td>180.0</td>\n      <td>353.0</td>\n      <td>265.0</td>\n    </tr>\n    <tr>\n      <th>50-54</th>\n      <td>47</td>\n      <td>25</td>\n      <td>235.0</td>\n      <td>125.0</td>\n      <td>334.0</td>\n      <td>197.0</td>\n    </tr>\n    <tr>\n      <th>55-59</th>\n      <td>47</td>\n      <td>27</td>\n      <td>235.0</td>\n      <td>135.0</td>\n      <td>334.0</td>\n      <td>209.0</td>\n    </tr>\n    <tr>\n      <th>60-64</th>\n      <td>38</td>\n      <td>30</td>\n      <td>190.0</td>\n      <td>150.0</td>\n      <td>278.0</td>\n      <td>228.0</td>\n    </tr>\n    <tr>\n      <th>65-69</th>\n      <td>42</td>\n      <td>19</td>\n      <td>210.0</td>\n      <td>95.0</td>\n      <td>303.0</td>\n      <td>159.0</td>\n    </tr>\n    <tr>\n      <th>70-74</th>\n      <td>47</td>\n      <td>32</td>\n      <td>235.0</td>\n      <td>160.0</td>\n      <td>334.0</td>\n      <td>240.0</td>\n    </tr>\n    <tr>\n      <th>75 &amp; Over</th>\n      <td>48</td>\n      <td>35</td>\n      <td>240.0</td>\n      <td>175.0</td>\n      <td>341.0</td>\n      <td>259.0</td>\n    </tr>\n  </tbody>\n</table>\n</div>"
     },
     "execution_count": 64,
     "metadata": {},
     "output_type": "execute_result"
    }
   ],
   "source": [
    "# Gross Premium Formula (pure premium + expenses + cost per claim) / (1 - (tax + risk))\n",
    "df['MaleGP']= ((df.MalePP + 20 + 12 + df.MaleAR * 0.01) / (1 - 0.2)).round()\n",
    "df['FemaleGP']= ((df.FemalePP + 20 + 12 + df.FemaleAR * 0.01) / (1 - 0.2)).round()\n",
    "df"
   ],
   "metadata": {
    "collapsed": false
   }
  },
  {
   "cell_type": "code",
   "execution_count": 65,
   "outputs": [
    {
     "data": {
      "text/plain": "           MaleAR  FemaleAR  MalePP  FemalePP  MaleGP  FemaleGP  MaleSTD  \\\nUnder 20      132        72   660.0     360.0   867.0     491.0  10.7040   \n20-24          95        50   475.0     250.0   635.0     353.0   9.2723   \n25-29          73        38   365.0     190.0   497.0     278.0   8.2262   \n30-34          65        36   325.0     180.0   447.0     265.0   7.7958   \n35-39          53        41   265.0     205.0   372.0     297.0   7.0846   \n40-44          51        33   255.0     165.0   359.0     247.0   6.9569   \n45-49          50        36   250.0     180.0   353.0     265.0   6.8920   \n50-54          47        25   235.0     125.0   334.0     197.0   6.6926   \n55-59          47        27   235.0     135.0   334.0     209.0   6.6926   \n60-64          38        30   190.0     150.0   278.0     228.0   6.0462   \n65-69          42        19   210.0      95.0   303.0     159.0   6.3432   \n70-74          47        32   235.0     160.0   334.0     240.0   6.6926   \n75 & Over      48        35   240.0     175.0   341.0     259.0   6.7599   \n\n           FemaleSTD  \nUnder 20      8.1741  \n20-24         6.8920  \n25-29         6.0462  \n30-34         5.8910  \n35-39         6.2705  \n40-44         5.6490  \n45-49         5.8910  \n50-54         4.9371  \n55-59         5.1255  \n60-64         5.3944  \n65-69         4.3173  \n70-74         5.5656  \n75 & Over     5.8116  ",
      "text/html": "<div>\n<style scoped>\n    .dataframe tbody tr th:only-of-type {\n        vertical-align: middle;\n    }\n\n    .dataframe tbody tr th {\n        vertical-align: top;\n    }\n\n    .dataframe thead th {\n        text-align: right;\n    }\n</style>\n<table border=\"1\" class=\"dataframe\">\n  <thead>\n    <tr style=\"text-align: right;\">\n      <th></th>\n      <th>MaleAR</th>\n      <th>FemaleAR</th>\n      <th>MalePP</th>\n      <th>FemalePP</th>\n      <th>MaleGP</th>\n      <th>FemaleGP</th>\n      <th>MaleSTD</th>\n      <th>FemaleSTD</th>\n    </tr>\n  </thead>\n  <tbody>\n    <tr>\n      <th>Under 20</th>\n      <td>132</td>\n      <td>72</td>\n      <td>660.0</td>\n      <td>360.0</td>\n      <td>867.0</td>\n      <td>491.0</td>\n      <td>10.7040</td>\n      <td>8.1741</td>\n    </tr>\n    <tr>\n      <th>20-24</th>\n      <td>95</td>\n      <td>50</td>\n      <td>475.0</td>\n      <td>250.0</td>\n      <td>635.0</td>\n      <td>353.0</td>\n      <td>9.2723</td>\n      <td>6.8920</td>\n    </tr>\n    <tr>\n      <th>25-29</th>\n      <td>73</td>\n      <td>38</td>\n      <td>365.0</td>\n      <td>190.0</td>\n      <td>497.0</td>\n      <td>278.0</td>\n      <td>8.2262</td>\n      <td>6.0462</td>\n    </tr>\n    <tr>\n      <th>30-34</th>\n      <td>65</td>\n      <td>36</td>\n      <td>325.0</td>\n      <td>180.0</td>\n      <td>447.0</td>\n      <td>265.0</td>\n      <td>7.7958</td>\n      <td>5.8910</td>\n    </tr>\n    <tr>\n      <th>35-39</th>\n      <td>53</td>\n      <td>41</td>\n      <td>265.0</td>\n      <td>205.0</td>\n      <td>372.0</td>\n      <td>297.0</td>\n      <td>7.0846</td>\n      <td>6.2705</td>\n    </tr>\n    <tr>\n      <th>40-44</th>\n      <td>51</td>\n      <td>33</td>\n      <td>255.0</td>\n      <td>165.0</td>\n      <td>359.0</td>\n      <td>247.0</td>\n      <td>6.9569</td>\n      <td>5.6490</td>\n    </tr>\n    <tr>\n      <th>45-49</th>\n      <td>50</td>\n      <td>36</td>\n      <td>250.0</td>\n      <td>180.0</td>\n      <td>353.0</td>\n      <td>265.0</td>\n      <td>6.8920</td>\n      <td>5.8910</td>\n    </tr>\n    <tr>\n      <th>50-54</th>\n      <td>47</td>\n      <td>25</td>\n      <td>235.0</td>\n      <td>125.0</td>\n      <td>334.0</td>\n      <td>197.0</td>\n      <td>6.6926</td>\n      <td>4.9371</td>\n    </tr>\n    <tr>\n      <th>55-59</th>\n      <td>47</td>\n      <td>27</td>\n      <td>235.0</td>\n      <td>135.0</td>\n      <td>334.0</td>\n      <td>209.0</td>\n      <td>6.6926</td>\n      <td>5.1255</td>\n    </tr>\n    <tr>\n      <th>60-64</th>\n      <td>38</td>\n      <td>30</td>\n      <td>190.0</td>\n      <td>150.0</td>\n      <td>278.0</td>\n      <td>228.0</td>\n      <td>6.0462</td>\n      <td>5.3944</td>\n    </tr>\n    <tr>\n      <th>65-69</th>\n      <td>42</td>\n      <td>19</td>\n      <td>210.0</td>\n      <td>95.0</td>\n      <td>303.0</td>\n      <td>159.0</td>\n      <td>6.3432</td>\n      <td>4.3173</td>\n    </tr>\n    <tr>\n      <th>70-74</th>\n      <td>47</td>\n      <td>32</td>\n      <td>235.0</td>\n      <td>160.0</td>\n      <td>334.0</td>\n      <td>240.0</td>\n      <td>6.6926</td>\n      <td>5.5656</td>\n    </tr>\n    <tr>\n      <th>75 &amp; Over</th>\n      <td>48</td>\n      <td>35</td>\n      <td>240.0</td>\n      <td>175.0</td>\n      <td>341.0</td>\n      <td>259.0</td>\n      <td>6.7599</td>\n      <td>5.8116</td>\n    </tr>\n  </tbody>\n</table>\n</div>"
     },
     "execution_count": 65,
     "metadata": {},
     "output_type": "execute_result"
    }
   ],
   "source": [
    "# Standard Deviation Formula sqrt(AR * (1 - AR) * 1000)\n",
    "df['MaleSTD'] = (np.sqrt(df['MaleAR']/1000 * (1 - df['MaleAR']/1000) * 1000)).round(4)\n",
    "df['FemaleSTD'] = (np.sqrt(df['FemaleAR']/1000 * (1 - df['FemaleAR']/1000) * 1000)).round(4)\n",
    "df"
   ],
   "metadata": {
    "collapsed": false
   }
  },
  {
   "cell_type": "markdown",
   "source": [
    "## Problem 3 - Simulation"
   ],
   "metadata": {
    "collapsed": false
   }
  },
  {
   "cell_type": "markdown",
   "source": [
    "## Relative probability distribution formula"
   ],
   "metadata": {
    "collapsed": false
   }
  },
  {
   "cell_type": "code",
   "execution_count": 157,
   "outputs": [
    {
     "name": "stdout",
     "output_type": "stream",
     "text": [
      "Mean: 5204.724157250431\n",
      "STD: 5139.615745869738\n"
     ]
    },
    {
     "data": {
      "text/plain": "<Figure size 640x480 with 1 Axes>",
      "image/png": "[encoded data removed]"
     },
     "metadata": {},
     "output_type": "display_data"
    }
   ],
   "source": [
    "# severity model - gamma(alpha, 1/beta, size)\n",
    "severity = np.random.gamma(1, 1/0.0002, 1000)\n",
    "m = max(severity)\n",
    "dist = [x/m for x in severity]\n",
    "dist.sort()\n",
    "pdf = [0]*100\n",
    "for l in range(0, 100):\n",
    "    for x in dist:\n",
    "        if x < l/100 and x >= (l-1)/100:\n",
    "            pdf[l] += 1\n",
    "for x in range(99, -1, -1):\n",
    "    if pdf[x]==0:\n",
    "        pdf.pop(x)\n",
    "plt.scatter([x/len(pdf) for x in range(len(pdf))], pdf)\n",
    "print(\"Mean: \" + str(severity.mean()))\n",
    "print(\"STD: \" + str(severity.std()))"
   ],
   "metadata": {
    "collapsed": false
   }
  },
  {
   "cell_type": "code",
   "execution_count": 152,
   "outputs": [
    {
     "data": {
      "text/plain": "(array([515., 273., 118.,  49.,  26.,  12.,   2.,   2.,   2.,   1.]),\n array([5.71174562e+00, 3.95023704e+03, 7.89476233e+03, 1.18392876e+04,\n        1.57838129e+04, 1.97283382e+04, 2.36728635e+04, 2.76173888e+04,\n        3.15619141e+04, 3.55064394e+04, 3.94509646e+04]),\n <BarContainer object of 10 artists>)"
     },
     "execution_count": 152,
     "metadata": {},
     "output_type": "execute_result"
    },
    {
     "data": {
      "text/plain": "<Figure size 640x480 with 1 Axes>",
      "image/png": "[encoded data removed]"
     },
     "metadata": {},
     "output_type": "display_data"
    }
   ],
   "source": [
    "plt.hist(severity, rwidth=0.5)\n"
   ],
   "metadata": {
    "collapsed": false
   }
  },
  {
   "cell_type": "code",
   "execution_count": 166,
   "outputs": [
    {
     "data": {
      "text/plain": "(array([ 19.,  50., 144., 183., 258., 176., 104.,  41.,  22.,   3.]),\n array([103. , 109.5, 116. , 122.5, 129. , 135.5, 142. , 148.5, 155. ,\n        161.5, 168. ]),\n <BarContainer object of 10 artists>)"
     },
     "execution_count": 166,
     "metadata": {},
     "output_type": "execute_result"
    },
    {
     "data": {
      "text/plain": "<Figure size 640x480 with 1 Axes>",
      "image/png": "[encoded data removed]"
     },
     "metadata": {},
     "output_type": "display_data"
    }
   ],
   "source": [
    "# Model frequency\n",
    "\n",
    "#frequency = np.random.binomial(1000, 132/1000, 1000)\n",
    "def bin_pdf(n, p):\n",
    "    return"
   ],
   "metadata": {
    "collapsed": false
   }
  },
  {
   "cell_type": "code",
   "execution_count": null,
   "outputs": [],
   "source": [],
   "metadata": {
    "collapsed": false
   }
  }
 ],
 "metadata": {
  "kernelspec": {
   "display_name": "Python 3",
   "language": "python",
   "name": "python3"
  },
  "language_info": {
   "codemirror_mode": {
    "name": "ipython",
    "version": 2
   },
   "file_extension": ".py",
   "mimetype": "text/x-python",
   "name": "python",
   "nbconvert_exporter": "python",
   "pygments_lexer": "ipython2",
   "version": "2.7.6"
  }
 },
 "nbformat": 4,
 "nbformat_minor": 0
}
