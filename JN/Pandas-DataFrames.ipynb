{
 "cells": [
  {
   "cell_type": "code",
   "execution_count": 6,
   "metadata": {
    "collapsed": true
   },
   "outputs": [],
   "source": [
    "import numpy as np\n",
    "import pandas as pd"
   ]
  },
  {
   "cell_type": "markdown",
   "source": [
    "# Pandas DataFrames"
   ],
   "metadata": {
    "collapsed": false
   }
  },
  {
   "cell_type": "code",
   "execution_count": 7,
   "outputs": [
    {
     "data": {
      "text/plain": "   Population       GDP  Surface Area    HDI Continent\n0      35.467   1785387       9984670  0.913   America\n1      63.951   2833687        640679  0.888    Europe\n2      80.940   3874437        357114  0.916    Europe\n3      60.665   2167744        301336  0.873    Europe\n4     127.061   4602367        377930  0.891      Asia\n5      64.511   2950039        242495  0.907    Europe\n6     318.523  17348075       9525067  0.915   America",
      "text/html": "<div>\n<style scoped>\n    .dataframe tbody tr th:only-of-type {\n        vertical-align: middle;\n    }\n\n    .dataframe tbody tr th {\n        vertical-align: top;\n    }\n\n    .dataframe thead th {\n        text-align: right;\n    }\n</style>\n<table border=\"1\" class=\"dataframe\">\n  <thead>\n    <tr style=\"text-align: right;\">\n      <th></th>\n      <th>Population</th>\n      <th>GDP</th>\n      <th>Surface Area</th>\n      <th>HDI</th>\n      <th>Continent</th>\n    </tr>\n  </thead>\n  <tbody>\n    <tr>\n      <th>0</th>\n      <td>35.467</td>\n      <td>1785387</td>\n      <td>9984670</td>\n      <td>0.913</td>\n      <td>America</td>\n    </tr>\n    <tr>\n      <th>1</th>\n      <td>63.951</td>\n      <td>2833687</td>\n      <td>640679</td>\n      <td>0.888</td>\n      <td>Europe</td>\n    </tr>\n    <tr>\n      <th>2</th>\n      <td>80.940</td>\n      <td>3874437</td>\n      <td>357114</td>\n      <td>0.916</td>\n      <td>Europe</td>\n    </tr>\n    <tr>\n      <th>3</th>\n      <td>60.665</td>\n      <td>2167744</td>\n      <td>301336</td>\n      <td>0.873</td>\n      <td>Europe</td>\n    </tr>\n    <tr>\n      <th>4</th>\n      <td>127.061</td>\n      <td>4602367</td>\n      <td>377930</td>\n      <td>0.891</td>\n      <td>Asia</td>\n    </tr>\n    <tr>\n      <th>5</th>\n      <td>64.511</td>\n      <td>2950039</td>\n      <td>242495</td>\n      <td>0.907</td>\n      <td>Europe</td>\n    </tr>\n    <tr>\n      <th>6</th>\n      <td>318.523</td>\n      <td>17348075</td>\n      <td>9525067</td>\n      <td>0.915</td>\n      <td>America</td>\n    </tr>\n  </tbody>\n</table>\n</div>"
     },
     "execution_count": 7,
     "metadata": {},
     "output_type": "execute_result"
    }
   ],
   "source": [
    "df = pd.DataFrame({\n",
    "    'Population': [35.467, 63.951, 80.94 , 60.665, 127.061, 64.511, 318.523],\n",
    "    'GDP': [\n",
    "        1785387,\n",
    "        2833687,\n",
    "        3874437,\n",
    "        2167744,\n",
    "        4602367,\n",
    "        2950039,\n",
    "        17348075\n",
    "    ],\n",
    "    'Surface Area': [\n",
    "        9984670,\n",
    "        640679,\n",
    "        357114,\n",
    "        301336,\n",
    "        377930,\n",
    "        242495,\n",
    "        9525067\n",
    "    ],\n",
    "    'HDI': [\n",
    "        0.913,\n",
    "        0.888,\n",
    "        0.916,\n",
    "        0.873,\n",
    "        0.891,\n",
    "        0.907,\n",
    "        0.915\n",
    "    ],\n",
    "    'Continent': [\n",
    "        'America',\n",
    "        'Europe',\n",
    "        'Europe',\n",
    "        'Europe',\n",
    "        'Asia',\n",
    "        'Europe',\n",
    "        'America'\n",
    "    ]\n",
    "}, columns=['Population', 'GDP', 'Surface Area', 'HDI', 'Continent'])\n",
    "df"
   ],
   "metadata": {
    "collapsed": false
   }
  },
  {
   "cell_type": "code",
   "execution_count": 8,
   "outputs": [
    {
     "data": {
      "text/plain": "                Population       GDP  Surface Area    HDI Continent\nCanada              35.467   1785387       9984670  0.913   America\nFrance              63.951   2833687        640679  0.888    Europe\nGermany             80.940   3874437        357114  0.916    Europe\nItaly               60.665   2167744        301336  0.873    Europe\nJapan              127.061   4602367        377930  0.891      Asia\nUnited Kingdom      64.511   2950039        242495  0.907    Europe\nUnited States      318.523  17348075       9525067  0.915   America",
      "text/html": "<div>\n<style scoped>\n    .dataframe tbody tr th:only-of-type {\n        vertical-align: middle;\n    }\n\n    .dataframe tbody tr th {\n        vertical-align: top;\n    }\n\n    .dataframe thead th {\n        text-align: right;\n    }\n</style>\n<table border=\"1\" class=\"dataframe\">\n  <thead>\n    <tr style=\"text-align: right;\">\n      <th></th>\n      <th>Population</th>\n      <th>GDP</th>\n      <th>Surface Area</th>\n      <th>HDI</th>\n      <th>Continent</th>\n    </tr>\n  </thead>\n  <tbody>\n    <tr>\n      <th>Canada</th>\n      <td>35.467</td>\n      <td>1785387</td>\n      <td>9984670</td>\n      <td>0.913</td>\n      <td>America</td>\n    </tr>\n    <tr>\n      <th>France</th>\n      <td>63.951</td>\n      <td>2833687</td>\n      <td>640679</td>\n      <td>0.888</td>\n      <td>Europe</td>\n    </tr>\n    <tr>\n      <th>Germany</th>\n      <td>80.940</td>\n      <td>3874437</td>\n      <td>357114</td>\n      <td>0.916</td>\n      <td>Europe</td>\n    </tr>\n    <tr>\n      <th>Italy</th>\n      <td>60.665</td>\n      <td>2167744</td>\n      <td>301336</td>\n      <td>0.873</td>\n      <td>Europe</td>\n    </tr>\n    <tr>\n      <th>Japan</th>\n      <td>127.061</td>\n      <td>4602367</td>\n      <td>377930</td>\n      <td>0.891</td>\n      <td>Asia</td>\n    </tr>\n    <tr>\n      <th>United Kingdom</th>\n      <td>64.511</td>\n      <td>2950039</td>\n      <td>242495</td>\n      <td>0.907</td>\n      <td>Europe</td>\n    </tr>\n    <tr>\n      <th>United States</th>\n      <td>318.523</td>\n      <td>17348075</td>\n      <td>9525067</td>\n      <td>0.915</td>\n      <td>America</td>\n    </tr>\n  </tbody>\n</table>\n</div>"
     },
     "execution_count": 8,
     "metadata": {},
     "output_type": "execute_result"
    }
   ],
   "source": [
    "df.index = [\n",
    "    'Canada',\n",
    "    'France',\n",
    "    'Germany',\n",
    "    'Italy',\n",
    "    'Japan',\n",
    "    'United Kingdom',\n",
    "    'United States'\n",
    "]\n",
    "df"
   ],
   "metadata": {
    "collapsed": false
   }
  },
  {
   "cell_type": "code",
   "execution_count": 9,
   "outputs": [
    {
     "name": "stdout",
     "output_type": "stream",
     "text": [
      "Index(['Population', 'GDP', 'Surface Area', 'HDI', 'Continent'], dtype='object')\n",
      "Index(['Canada', 'France', 'Germany', 'Italy', 'Japan', 'United Kingdom',\n",
      "       'United States'],\n",
      "      dtype='object')\n"
     ]
    }
   ],
   "source": [
    "print(df.columns)\n",
    "print(df.index)"
   ],
   "metadata": {
    "collapsed": false
   }
  },
  {
   "cell_type": "code",
   "execution_count": 10,
   "outputs": [
    {
     "name": "stdout",
     "output_type": "stream",
     "text": [
      "<class 'pandas.core.frame.DataFrame'>\n",
      "Index: 7 entries, Canada to United States\n",
      "Data columns (total 5 columns):\n",
      " #   Column        Non-Null Count  Dtype  \n",
      "---  ------        --------------  -----  \n",
      " 0   Population    7 non-null      float64\n",
      " 1   GDP           7 non-null      int64  \n",
      " 2   Surface Area  7 non-null      int64  \n",
      " 3   HDI           7 non-null      float64\n",
      " 4   Continent     7 non-null      object \n",
      "dtypes: float64(2), int64(2), object(1)\n",
      "memory usage: 336.0+ bytes\n"
     ]
    }
   ],
   "source": [
    "df.info()"
   ],
   "metadata": {
    "collapsed": false
   }
  },
  {
   "cell_type": "code",
   "execution_count": 11,
   "outputs": [
    {
     "name": "stdout",
     "output_type": "stream",
     "text": [
      "35\n",
      "(7, 5)\n"
     ]
    }
   ],
   "source": [
    "print(df.size)\n",
    "print(df.shape)"
   ],
   "metadata": {
    "collapsed": false
   }
  },
  {
   "cell_type": "code",
   "execution_count": 12,
   "outputs": [
    {
     "data": {
      "text/plain": "       Population           GDP  Surface Area       HDI\ncount    7.000000  7.000000e+00  7.000000e+00  7.000000\nmean   107.302571  5.080248e+06  3.061327e+06  0.900429\nstd     97.249970  5.494020e+06  4.576187e+06  0.016592\nmin     35.467000  1.785387e+06  2.424950e+05  0.873000\n25%     62.308000  2.500716e+06  3.292250e+05  0.889500\n50%     64.511000  2.950039e+06  3.779300e+05  0.907000\n75%    104.000500  4.238402e+06  5.082873e+06  0.914000\nmax    318.523000  1.734808e+07  9.984670e+06  0.916000",
      "text/html": "<div>\n<style scoped>\n    .dataframe tbody tr th:only-of-type {\n        vertical-align: middle;\n    }\n\n    .dataframe tbody tr th {\n        vertical-align: top;\n    }\n\n    .dataframe thead th {\n        text-align: right;\n    }\n</style>\n<table border=\"1\" class=\"dataframe\">\n  <thead>\n    <tr style=\"text-align: right;\">\n      <th></th>\n      <th>Population</th>\n      <th>GDP</th>\n      <th>Surface Area</th>\n      <th>HDI</th>\n    </tr>\n  </thead>\n  <tbody>\n    <tr>\n      <th>count</th>\n      <td>7.000000</td>\n      <td>7.000000e+00</td>\n      <td>7.000000e+00</td>\n      <td>7.000000</td>\n    </tr>\n    <tr>\n      <th>mean</th>\n      <td>107.302571</td>\n      <td>5.080248e+06</td>\n      <td>3.061327e+06</td>\n      <td>0.900429</td>\n    </tr>\n    <tr>\n      <th>std</th>\n      <td>97.249970</td>\n      <td>5.494020e+06</td>\n      <td>4.576187e+06</td>\n      <td>0.016592</td>\n    </tr>\n    <tr>\n      <th>min</th>\n      <td>35.467000</td>\n      <td>1.785387e+06</td>\n      <td>2.424950e+05</td>\n      <td>0.873000</td>\n    </tr>\n    <tr>\n      <th>25%</th>\n      <td>62.308000</td>\n      <td>2.500716e+06</td>\n      <td>3.292250e+05</td>\n      <td>0.889500</td>\n    </tr>\n    <tr>\n      <th>50%</th>\n      <td>64.511000</td>\n      <td>2.950039e+06</td>\n      <td>3.779300e+05</td>\n      <td>0.907000</td>\n    </tr>\n    <tr>\n      <th>75%</th>\n      <td>104.000500</td>\n      <td>4.238402e+06</td>\n      <td>5.082873e+06</td>\n      <td>0.914000</td>\n    </tr>\n    <tr>\n      <th>max</th>\n      <td>318.523000</td>\n      <td>1.734808e+07</td>\n      <td>9.984670e+06</td>\n      <td>0.916000</td>\n    </tr>\n  </tbody>\n</table>\n</div>"
     },
     "execution_count": 12,
     "metadata": {},
     "output_type": "execute_result"
    }
   ],
   "source": [
    "df.describe()"
   ],
   "metadata": {
    "collapsed": false
   }
  },
  {
   "cell_type": "code",
   "execution_count": 13,
   "outputs": [
    {
     "data": {
      "text/plain": "Population      float64\nGDP               int64\nSurface Area      int64\nHDI             float64\nContinent        object\ndtype: object"
     },
     "execution_count": 13,
     "metadata": {},
     "output_type": "execute_result"
    }
   ],
   "source": [
    "df.dtypes"
   ],
   "metadata": {
    "collapsed": false
   }
  },
  {
   "cell_type": "code",
   "execution_count": 14,
   "outputs": [
    {
     "data": {
      "text/plain": "float64    2\nint64      2\nobject     1\ndtype: int64"
     },
     "execution_count": 14,
     "metadata": {},
     "output_type": "execute_result"
    }
   ],
   "source": [
    "df.dtypes.value_counts()"
   ],
   "metadata": {
    "collapsed": false
   }
  },
  {
   "cell_type": "markdown",
   "source": [
    "# Indexing, Slicing, and Selection"
   ],
   "metadata": {
    "collapsed": false
   }
  },
  {
   "cell_type": "code",
   "execution_count": 17,
   "outputs": [
    {
     "data": {
      "text/plain": "                Population       GDP  Surface Area    HDI Continent\nCanada              35.467   1785387       9984670  0.913   America\nFrance              63.951   2833687        640679  0.888    Europe\nGermany             80.940   3874437        357114  0.916    Europe\nItaly               60.665   2167744        301336  0.873    Europe\nJapan              127.061   4602367        377930  0.891      Asia\nUnited Kingdom      64.511   2950039        242495  0.907    Europe\nUnited States      318.523  17348075       9525067  0.915   America",
      "text/html": "<div>\n<style scoped>\n    .dataframe tbody tr th:only-of-type {\n        vertical-align: middle;\n    }\n\n    .dataframe tbody tr th {\n        vertical-align: top;\n    }\n\n    .dataframe thead th {\n        text-align: right;\n    }\n</style>\n<table border=\"1\" class=\"dataframe\">\n  <thead>\n    <tr style=\"text-align: right;\">\n      <th></th>\n      <th>Population</th>\n      <th>GDP</th>\n      <th>Surface Area</th>\n      <th>HDI</th>\n      <th>Continent</th>\n    </tr>\n  </thead>\n  <tbody>\n    <tr>\n      <th>Canada</th>\n      <td>35.467</td>\n      <td>1785387</td>\n      <td>9984670</td>\n      <td>0.913</td>\n      <td>America</td>\n    </tr>\n    <tr>\n      <th>France</th>\n      <td>63.951</td>\n      <td>2833687</td>\n      <td>640679</td>\n      <td>0.888</td>\n      <td>Europe</td>\n    </tr>\n    <tr>\n      <th>Germany</th>\n      <td>80.940</td>\n      <td>3874437</td>\n      <td>357114</td>\n      <td>0.916</td>\n      <td>Europe</td>\n    </tr>\n    <tr>\n      <th>Italy</th>\n      <td>60.665</td>\n      <td>2167744</td>\n      <td>301336</td>\n      <td>0.873</td>\n      <td>Europe</td>\n    </tr>\n    <tr>\n      <th>Japan</th>\n      <td>127.061</td>\n      <td>4602367</td>\n      <td>377930</td>\n      <td>0.891</td>\n      <td>Asia</td>\n    </tr>\n    <tr>\n      <th>United Kingdom</th>\n      <td>64.511</td>\n      <td>2950039</td>\n      <td>242495</td>\n      <td>0.907</td>\n      <td>Europe</td>\n    </tr>\n    <tr>\n      <th>United States</th>\n      <td>318.523</td>\n      <td>17348075</td>\n      <td>9525067</td>\n      <td>0.915</td>\n      <td>America</td>\n    </tr>\n  </tbody>\n</table>\n</div>"
     },
     "execution_count": 17,
     "metadata": {},
     "output_type": "execute_result"
    }
   ],
   "source": [
    "df"
   ],
   "metadata": {
    "collapsed": false
   }
  },
  {
   "cell_type": "code",
   "execution_count": 19,
   "outputs": [
    {
     "data": {
      "text/plain": "Population       35.467\nGDP             1785387\nSurface Area    9984670\nHDI               0.913\nContinent       America\nName: Canada, dtype: object"
     },
     "execution_count": 19,
     "metadata": {},
     "output_type": "execute_result"
    }
   ],
   "source": [
    "# access individual rows by index\n",
    "df.loc['Canada']"
   ],
   "metadata": {
    "collapsed": false
   }
  },
  {
   "cell_type": "code",
   "execution_count": 20,
   "outputs": [
    {
     "data": {
      "text/plain": "Population       318.523\nGDP             17348075\nSurface Area     9525067\nHDI                0.915\nContinent        America\nName: United States, dtype: object"
     },
     "execution_count": 20,
     "metadata": {},
     "output_type": "execute_result"
    }
   ],
   "source": [
    "# Select row by sequential position\n",
    "df.iloc[-1]"
   ],
   "metadata": {
    "collapsed": false
   }
  },
  {
   "cell_type": "code",
   "execution_count": 21,
   "outputs": [
    {
     "data": {
      "text/plain": "Canada             35.467\nFrance             63.951\nGermany            80.940\nItaly              60.665\nJapan             127.061\nUnited Kingdom     64.511\nUnited States     318.523\nName: Population, dtype: float64"
     },
     "execution_count": 21,
     "metadata": {},
     "output_type": "execute_result"
    }
   ],
   "source": [
    "# select by column\n",
    "df['Population']"
   ],
   "metadata": {
    "collapsed": false
   }
  },
  {
   "cell_type": "code",
   "execution_count": 22,
   "outputs": [
    {
     "data": {
      "text/plain": "         Population      GDP  Surface Area    HDI Continent\nFrance       63.951  2833687        640679  0.888    Europe\nGermany      80.940  3874437        357114  0.916    Europe\nItaly        60.665  2167744        301336  0.873    Europe",
      "text/html": "<div>\n<style scoped>\n    .dataframe tbody tr th:only-of-type {\n        vertical-align: middle;\n    }\n\n    .dataframe tbody tr th {\n        vertical-align: top;\n    }\n\n    .dataframe thead th {\n        text-align: right;\n    }\n</style>\n<table border=\"1\" class=\"dataframe\">\n  <thead>\n    <tr style=\"text-align: right;\">\n      <th></th>\n      <th>Population</th>\n      <th>GDP</th>\n      <th>Surface Area</th>\n      <th>HDI</th>\n      <th>Continent</th>\n    </tr>\n  </thead>\n  <tbody>\n    <tr>\n      <th>France</th>\n      <td>63.951</td>\n      <td>2833687</td>\n      <td>640679</td>\n      <td>0.888</td>\n      <td>Europe</td>\n    </tr>\n    <tr>\n      <th>Germany</th>\n      <td>80.940</td>\n      <td>3874437</td>\n      <td>357114</td>\n      <td>0.916</td>\n      <td>Europe</td>\n    </tr>\n    <tr>\n      <th>Italy</th>\n      <td>60.665</td>\n      <td>2167744</td>\n      <td>301336</td>\n      <td>0.873</td>\n      <td>Europe</td>\n    </tr>\n  </tbody>\n</table>\n</div>"
     },
     "execution_count": 22,
     "metadata": {},
     "output_type": "execute_result"
    }
   ],
   "source": [
    "# direct slicing\n",
    "df.loc['France' : 'Italy']"
   ],
   "metadata": {
    "collapsed": false
   }
  },
  {
   "cell_type": "code",
   "execution_count": 24,
   "outputs": [
    {
     "name": "stdout",
     "output_type": "stream",
     "text": [
      "France     63.951\n",
      "Germany    80.940\n",
      "Italy      60.665\n",
      "Name: Population, dtype: float64\n",
      "         Population      GDP\n",
      "France       63.951  2833687\n",
      "Germany      80.940  3874437\n",
      "Italy        60.665  2167744\n"
     ]
    }
   ],
   "source": [
    "# as a second arg you can pass the col\n",
    "print(df.loc['France' : 'Italy', 'Population'])\n",
    "print(df.loc['France' : 'Italy', ['Population', 'GDP']])"
   ],
   "metadata": {
    "collapsed": false
   }
  },
  {
   "cell_type": "code",
   "execution_count": 25,
   "outputs": [
    {
     "name": "stdout",
     "output_type": "stream",
     "text": [
      "France     0.888\n",
      "Germany    0.916\n",
      "Name: HDI, dtype: float64\n",
      "         Population    HDI\n",
      "France       63.951  0.888\n",
      "Germany      80.940  0.916\n",
      "             GDP  Surface Area\n",
      "France   2833687        640679\n",
      "Germany  3874437        357114\n"
     ]
    }
   ],
   "source": [
    "print(df.iloc[1 : 3, 3])\n",
    "print(df.iloc[1 : 3, [0, 3]])\n",
    "print(df.iloc[1 : 3, 1 : 3])"
   ],
   "metadata": {
    "collapsed": false
   }
  },
  {
   "cell_type": "markdown",
   "source": [
    "# Conditional selection (Bolean arrays)"
   ],
   "metadata": {
    "collapsed": false
   }
  },
  {
   "cell_type": "code",
   "execution_count": 26,
   "outputs": [
    {
     "data": {
      "text/plain": "                Population       GDP  Surface Area    HDI Continent\nCanada              35.467   1785387       9984670  0.913   America\nFrance              63.951   2833687        640679  0.888    Europe\nGermany             80.940   3874437        357114  0.916    Europe\nItaly               60.665   2167744        301336  0.873    Europe\nJapan              127.061   4602367        377930  0.891      Asia\nUnited Kingdom      64.511   2950039        242495  0.907    Europe\nUnited States      318.523  17348075       9525067  0.915   America",
      "text/html": "<div>\n<style scoped>\n    .dataframe tbody tr th:only-of-type {\n        vertical-align: middle;\n    }\n\n    .dataframe tbody tr th {\n        vertical-align: top;\n    }\n\n    .dataframe thead th {\n        text-align: right;\n    }\n</style>\n<table border=\"1\" class=\"dataframe\">\n  <thead>\n    <tr style=\"text-align: right;\">\n      <th></th>\n      <th>Population</th>\n      <th>GDP</th>\n      <th>Surface Area</th>\n      <th>HDI</th>\n      <th>Continent</th>\n    </tr>\n  </thead>\n  <tbody>\n    <tr>\n      <th>Canada</th>\n      <td>35.467</td>\n      <td>1785387</td>\n      <td>9984670</td>\n      <td>0.913</td>\n      <td>America</td>\n    </tr>\n    <tr>\n      <th>France</th>\n      <td>63.951</td>\n      <td>2833687</td>\n      <td>640679</td>\n      <td>0.888</td>\n      <td>Europe</td>\n    </tr>\n    <tr>\n      <th>Germany</th>\n      <td>80.940</td>\n      <td>3874437</td>\n      <td>357114</td>\n      <td>0.916</td>\n      <td>Europe</td>\n    </tr>\n    <tr>\n      <th>Italy</th>\n      <td>60.665</td>\n      <td>2167744</td>\n      <td>301336</td>\n      <td>0.873</td>\n      <td>Europe</td>\n    </tr>\n    <tr>\n      <th>Japan</th>\n      <td>127.061</td>\n      <td>4602367</td>\n      <td>377930</td>\n      <td>0.891</td>\n      <td>Asia</td>\n    </tr>\n    <tr>\n      <th>United Kingdom</th>\n      <td>64.511</td>\n      <td>2950039</td>\n      <td>242495</td>\n      <td>0.907</td>\n      <td>Europe</td>\n    </tr>\n    <tr>\n      <th>United States</th>\n      <td>318.523</td>\n      <td>17348075</td>\n      <td>9525067</td>\n      <td>0.915</td>\n      <td>America</td>\n    </tr>\n  </tbody>\n</table>\n</div>"
     },
     "execution_count": 26,
     "metadata": {},
     "output_type": "execute_result"
    }
   ],
   "source": [
    "df"
   ],
   "metadata": {
    "collapsed": false
   }
  },
  {
   "cell_type": "code",
   "execution_count": 27,
   "outputs": [
    {
     "data": {
      "text/plain": "Canada            False\nFrance            False\nGermany            True\nItaly             False\nJapan              True\nUnited Kingdom    False\nUnited States      True\nName: Population, dtype: bool"
     },
     "execution_count": 27,
     "metadata": {},
     "output_type": "execute_result"
    }
   ],
   "source": [
    "df['Population'] > 70"
   ],
   "metadata": {
    "collapsed": false
   }
  },
  {
   "cell_type": "code",
   "execution_count": 28,
   "outputs": [
    {
     "data": {
      "text/plain": "               Population       GDP  Surface Area    HDI Continent\nGermany            80.940   3874437        357114  0.916    Europe\nJapan             127.061   4602367        377930  0.891      Asia\nUnited States     318.523  17348075       9525067  0.915   America",
      "text/html": "<div>\n<style scoped>\n    .dataframe tbody tr th:only-of-type {\n        vertical-align: middle;\n    }\n\n    .dataframe tbody tr th {\n        vertical-align: top;\n    }\n\n    .dataframe thead th {\n        text-align: right;\n    }\n</style>\n<table border=\"1\" class=\"dataframe\">\n  <thead>\n    <tr style=\"text-align: right;\">\n      <th></th>\n      <th>Population</th>\n      <th>GDP</th>\n      <th>Surface Area</th>\n      <th>HDI</th>\n      <th>Continent</th>\n    </tr>\n  </thead>\n  <tbody>\n    <tr>\n      <th>Germany</th>\n      <td>80.940</td>\n      <td>3874437</td>\n      <td>357114</td>\n      <td>0.916</td>\n      <td>Europe</td>\n    </tr>\n    <tr>\n      <th>Japan</th>\n      <td>127.061</td>\n      <td>4602367</td>\n      <td>377930</td>\n      <td>0.891</td>\n      <td>Asia</td>\n    </tr>\n    <tr>\n      <th>United States</th>\n      <td>318.523</td>\n      <td>17348075</td>\n      <td>9525067</td>\n      <td>0.915</td>\n      <td>America</td>\n    </tr>\n  </tbody>\n</table>\n</div>"
     },
     "execution_count": 28,
     "metadata": {},
     "output_type": "execute_result"
    }
   ],
   "source": [
    "df.loc[df['Population'] > 70]"
   ],
   "metadata": {
    "collapsed": false
   }
  },
  {
   "cell_type": "code",
   "execution_count": 29,
   "outputs": [
    {
     "name": "stdout",
     "output_type": "stream",
     "text": [
      "Germany           80.940\n",
      "Japan            127.061\n",
      "United States    318.523\n",
      "Name: Population, dtype: float64\n",
      "               Population       GDP\n",
      "Germany            80.940   3874437\n",
      "Japan             127.061   4602367\n",
      "United States     318.523  17348075\n"
     ]
    }
   ],
   "source": [
    "print(df.loc[df['Population'] > 70, 'Population'])\n",
    "print(df.loc[df['Population'] > 70, ['Population', 'GDP']])"
   ],
   "metadata": {
    "collapsed": false
   }
  },
  {
   "cell_type": "markdown",
   "source": [
    "# dropping stuff"
   ],
   "metadata": {
    "collapsed": false
   }
  },
  {
   "cell_type": "code",
   "execution_count": 30,
   "outputs": [
    {
     "data": {
      "text/plain": "                Population       GDP  Surface Area    HDI Continent\nCanada              35.467   1785387       9984670  0.913   America\nFrance              63.951   2833687        640679  0.888    Europe\nGermany             80.940   3874437        357114  0.916    Europe\nItaly               60.665   2167744        301336  0.873    Europe\nJapan              127.061   4602367        377930  0.891      Asia\nUnited Kingdom      64.511   2950039        242495  0.907    Europe\nUnited States      318.523  17348075       9525067  0.915   America",
      "text/html": "<div>\n<style scoped>\n    .dataframe tbody tr th:only-of-type {\n        vertical-align: middle;\n    }\n\n    .dataframe tbody tr th {\n        vertical-align: top;\n    }\n\n    .dataframe thead th {\n        text-align: right;\n    }\n</style>\n<table border=\"1\" class=\"dataframe\">\n  <thead>\n    <tr style=\"text-align: right;\">\n      <th></th>\n      <th>Population</th>\n      <th>GDP</th>\n      <th>Surface Area</th>\n      <th>HDI</th>\n      <th>Continent</th>\n    </tr>\n  </thead>\n  <tbody>\n    <tr>\n      <th>Canada</th>\n      <td>35.467</td>\n      <td>1785387</td>\n      <td>9984670</td>\n      <td>0.913</td>\n      <td>America</td>\n    </tr>\n    <tr>\n      <th>France</th>\n      <td>63.951</td>\n      <td>2833687</td>\n      <td>640679</td>\n      <td>0.888</td>\n      <td>Europe</td>\n    </tr>\n    <tr>\n      <th>Germany</th>\n      <td>80.940</td>\n      <td>3874437</td>\n      <td>357114</td>\n      <td>0.916</td>\n      <td>Europe</td>\n    </tr>\n    <tr>\n      <th>Italy</th>\n      <td>60.665</td>\n      <td>2167744</td>\n      <td>301336</td>\n      <td>0.873</td>\n      <td>Europe</td>\n    </tr>\n    <tr>\n      <th>Japan</th>\n      <td>127.061</td>\n      <td>4602367</td>\n      <td>377930</td>\n      <td>0.891</td>\n      <td>Asia</td>\n    </tr>\n    <tr>\n      <th>United Kingdom</th>\n      <td>64.511</td>\n      <td>2950039</td>\n      <td>242495</td>\n      <td>0.907</td>\n      <td>Europe</td>\n    </tr>\n    <tr>\n      <th>United States</th>\n      <td>318.523</td>\n      <td>17348075</td>\n      <td>9525067</td>\n      <td>0.915</td>\n      <td>America</td>\n    </tr>\n  </tbody>\n</table>\n</div>"
     },
     "execution_count": 30,
     "metadata": {},
     "output_type": "execute_result"
    }
   ],
   "source": [
    "df"
   ],
   "metadata": {
    "collapsed": false
   }
  },
  {
   "cell_type": "code",
   "execution_count": 31,
   "outputs": [
    {
     "data": {
      "text/plain": "                Population       GDP  Surface Area    HDI Continent\nFrance              63.951   2833687        640679  0.888    Europe\nGermany             80.940   3874437        357114  0.916    Europe\nItaly               60.665   2167744        301336  0.873    Europe\nJapan              127.061   4602367        377930  0.891      Asia\nUnited Kingdom      64.511   2950039        242495  0.907    Europe\nUnited States      318.523  17348075       9525067  0.915   America",
      "text/html": "<div>\n<style scoped>\n    .dataframe tbody tr th:only-of-type {\n        vertical-align: middle;\n    }\n\n    .dataframe tbody tr th {\n        vertical-align: top;\n    }\n\n    .dataframe thead th {\n        text-align: right;\n    }\n</style>\n<table border=\"1\" class=\"dataframe\">\n  <thead>\n    <tr style=\"text-align: right;\">\n      <th></th>\n      <th>Population</th>\n      <th>GDP</th>\n      <th>Surface Area</th>\n      <th>HDI</th>\n      <th>Continent</th>\n    </tr>\n  </thead>\n  <tbody>\n    <tr>\n      <th>France</th>\n      <td>63.951</td>\n      <td>2833687</td>\n      <td>640679</td>\n      <td>0.888</td>\n      <td>Europe</td>\n    </tr>\n    <tr>\n      <th>Germany</th>\n      <td>80.940</td>\n      <td>3874437</td>\n      <td>357114</td>\n      <td>0.916</td>\n      <td>Europe</td>\n    </tr>\n    <tr>\n      <th>Italy</th>\n      <td>60.665</td>\n      <td>2167744</td>\n      <td>301336</td>\n      <td>0.873</td>\n      <td>Europe</td>\n    </tr>\n    <tr>\n      <th>Japan</th>\n      <td>127.061</td>\n      <td>4602367</td>\n      <td>377930</td>\n      <td>0.891</td>\n      <td>Asia</td>\n    </tr>\n    <tr>\n      <th>United Kingdom</th>\n      <td>64.511</td>\n      <td>2950039</td>\n      <td>242495</td>\n      <td>0.907</td>\n      <td>Europe</td>\n    </tr>\n    <tr>\n      <th>United States</th>\n      <td>318.523</td>\n      <td>17348075</td>\n      <td>9525067</td>\n      <td>0.915</td>\n      <td>America</td>\n    </tr>\n  </tbody>\n</table>\n</div>"
     },
     "execution_count": 31,
     "metadata": {},
     "output_type": "execute_result"
    }
   ],
   "source": [
    "df.drop('Canada')"
   ],
   "metadata": {
    "collapsed": false
   }
  },
  {
   "cell_type": "code",
   "execution_count": 32,
   "outputs": [
    {
     "data": {
      "text/plain": "                Population       GDP  Surface Area    HDI Continent\nFrance              63.951   2833687        640679  0.888    Europe\nGermany             80.940   3874437        357114  0.916    Europe\nItaly               60.665   2167744        301336  0.873    Europe\nUnited Kingdom      64.511   2950039        242495  0.907    Europe\nUnited States      318.523  17348075       9525067  0.915   America",
      "text/html": "<div>\n<style scoped>\n    .dataframe tbody tr th:only-of-type {\n        vertical-align: middle;\n    }\n\n    .dataframe tbody tr th {\n        vertical-align: top;\n    }\n\n    .dataframe thead th {\n        text-align: right;\n    }\n</style>\n<table border=\"1\" class=\"dataframe\">\n  <thead>\n    <tr style=\"text-align: right;\">\n      <th></th>\n      <th>Population</th>\n      <th>GDP</th>\n      <th>Surface Area</th>\n      <th>HDI</th>\n      <th>Continent</th>\n    </tr>\n  </thead>\n  <tbody>\n    <tr>\n      <th>France</th>\n      <td>63.951</td>\n      <td>2833687</td>\n      <td>640679</td>\n      <td>0.888</td>\n      <td>Europe</td>\n    </tr>\n    <tr>\n      <th>Germany</th>\n      <td>80.940</td>\n      <td>3874437</td>\n      <td>357114</td>\n      <td>0.916</td>\n      <td>Europe</td>\n    </tr>\n    <tr>\n      <th>Italy</th>\n      <td>60.665</td>\n      <td>2167744</td>\n      <td>301336</td>\n      <td>0.873</td>\n      <td>Europe</td>\n    </tr>\n    <tr>\n      <th>United Kingdom</th>\n      <td>64.511</td>\n      <td>2950039</td>\n      <td>242495</td>\n      <td>0.907</td>\n      <td>Europe</td>\n    </tr>\n    <tr>\n      <th>United States</th>\n      <td>318.523</td>\n      <td>17348075</td>\n      <td>9525067</td>\n      <td>0.915</td>\n      <td>America</td>\n    </tr>\n  </tbody>\n</table>\n</div>"
     },
     "execution_count": 32,
     "metadata": {},
     "output_type": "execute_result"
    }
   ],
   "source": [
    "df.drop(['Canada', 'Japan'])"
   ],
   "metadata": {
    "collapsed": false
   }
  },
  {
   "cell_type": "code",
   "execution_count": 33,
   "outputs": [
    {
     "data": {
      "text/plain": "                     GDP  Surface Area Continent\nCanada           1785387       9984670   America\nFrance           2833687        640679    Europe\nGermany          3874437        357114    Europe\nItaly            2167744        301336    Europe\nJapan            4602367        377930      Asia\nUnited Kingdom   2950039        242495    Europe\nUnited States   17348075       9525067   America",
      "text/html": "<div>\n<style scoped>\n    .dataframe tbody tr th:only-of-type {\n        vertical-align: middle;\n    }\n\n    .dataframe tbody tr th {\n        vertical-align: top;\n    }\n\n    .dataframe thead th {\n        text-align: right;\n    }\n</style>\n<table border=\"1\" class=\"dataframe\">\n  <thead>\n    <tr style=\"text-align: right;\">\n      <th></th>\n      <th>GDP</th>\n      <th>Surface Area</th>\n      <th>Continent</th>\n    </tr>\n  </thead>\n  <tbody>\n    <tr>\n      <th>Canada</th>\n      <td>1785387</td>\n      <td>9984670</td>\n      <td>America</td>\n    </tr>\n    <tr>\n      <th>France</th>\n      <td>2833687</td>\n      <td>640679</td>\n      <td>Europe</td>\n    </tr>\n    <tr>\n      <th>Germany</th>\n      <td>3874437</td>\n      <td>357114</td>\n      <td>Europe</td>\n    </tr>\n    <tr>\n      <th>Italy</th>\n      <td>2167744</td>\n      <td>301336</td>\n      <td>Europe</td>\n    </tr>\n    <tr>\n      <th>Japan</th>\n      <td>4602367</td>\n      <td>377930</td>\n      <td>Asia</td>\n    </tr>\n    <tr>\n      <th>United Kingdom</th>\n      <td>2950039</td>\n      <td>242495</td>\n      <td>Europe</td>\n    </tr>\n    <tr>\n      <th>United States</th>\n      <td>17348075</td>\n      <td>9525067</td>\n      <td>America</td>\n    </tr>\n  </tbody>\n</table>\n</div>"
     },
     "execution_count": 33,
     "metadata": {},
     "output_type": "execute_result"
    }
   ],
   "source": [
    "df.drop(columns=['Population', 'HDI'])"
   ],
   "metadata": {
    "collapsed": false
   }
  },
  {
   "cell_type": "code",
   "execution_count": 34,
   "outputs": [
    {
     "data": {
      "text/plain": "                Population       GDP  Surface Area    HDI Continent\nFrance              63.951   2833687        640679  0.888    Europe\nGermany             80.940   3874437        357114  0.916    Europe\nJapan              127.061   4602367        377930  0.891      Asia\nUnited Kingdom      64.511   2950039        242495  0.907    Europe\nUnited States      318.523  17348075       9525067  0.915   America",
      "text/html": "<div>\n<style scoped>\n    .dataframe tbody tr th:only-of-type {\n        vertical-align: middle;\n    }\n\n    .dataframe tbody tr th {\n        vertical-align: top;\n    }\n\n    .dataframe thead th {\n        text-align: right;\n    }\n</style>\n<table border=\"1\" class=\"dataframe\">\n  <thead>\n    <tr style=\"text-align: right;\">\n      <th></th>\n      <th>Population</th>\n      <th>GDP</th>\n      <th>Surface Area</th>\n      <th>HDI</th>\n      <th>Continent</th>\n    </tr>\n  </thead>\n  <tbody>\n    <tr>\n      <th>France</th>\n      <td>63.951</td>\n      <td>2833687</td>\n      <td>640679</td>\n      <td>0.888</td>\n      <td>Europe</td>\n    </tr>\n    <tr>\n      <th>Germany</th>\n      <td>80.940</td>\n      <td>3874437</td>\n      <td>357114</td>\n      <td>0.916</td>\n      <td>Europe</td>\n    </tr>\n    <tr>\n      <th>Japan</th>\n      <td>127.061</td>\n      <td>4602367</td>\n      <td>377930</td>\n      <td>0.891</td>\n      <td>Asia</td>\n    </tr>\n    <tr>\n      <th>United Kingdom</th>\n      <td>64.511</td>\n      <td>2950039</td>\n      <td>242495</td>\n      <td>0.907</td>\n      <td>Europe</td>\n    </tr>\n    <tr>\n      <th>United States</th>\n      <td>318.523</td>\n      <td>17348075</td>\n      <td>9525067</td>\n      <td>0.915</td>\n      <td>America</td>\n    </tr>\n  </tbody>\n</table>\n</div>"
     },
     "execution_count": 34,
     "metadata": {},
     "output_type": "execute_result"
    }
   ],
   "source": [
    "df.drop(['Italy', 'Canada'], axis=0)"
   ],
   "metadata": {
    "collapsed": false
   }
  },
  {
   "cell_type": "markdown",
   "source": [
    "# Operations"
   ],
   "metadata": {
    "collapsed": false
   }
  },
  {
   "cell_type": "code",
   "execution_count": 35,
   "outputs": [
    {
     "data": {
      "text/plain": "GDP   -1000000.0\nHDI         -0.3\ndtype: float64"
     },
     "execution_count": 35,
     "metadata": {},
     "output_type": "execute_result"
    }
   ],
   "source": [
    "crisis = pd.Series([-1_000_000, -0.3], index=['GDP', 'HDI'])\n",
    "crisis"
   ],
   "metadata": {
    "collapsed": false
   }
  },
  {
   "cell_type": "code",
   "execution_count": 36,
   "outputs": [
    {
     "data": {
      "text/plain": "                     GDP    HDI\nCanada           1785387  0.913\nFrance           2833687  0.888\nGermany          3874437  0.916\nItaly            2167744  0.873\nJapan            4602367  0.891\nUnited Kingdom   2950039  0.907\nUnited States   17348075  0.915",
      "text/html": "<div>\n<style scoped>\n    .dataframe tbody tr th:only-of-type {\n        vertical-align: middle;\n    }\n\n    .dataframe tbody tr th {\n        vertical-align: top;\n    }\n\n    .dataframe thead th {\n        text-align: right;\n    }\n</style>\n<table border=\"1\" class=\"dataframe\">\n  <thead>\n    <tr style=\"text-align: right;\">\n      <th></th>\n      <th>GDP</th>\n      <th>HDI</th>\n    </tr>\n  </thead>\n  <tbody>\n    <tr>\n      <th>Canada</th>\n      <td>1785387</td>\n      <td>0.913</td>\n    </tr>\n    <tr>\n      <th>France</th>\n      <td>2833687</td>\n      <td>0.888</td>\n    </tr>\n    <tr>\n      <th>Germany</th>\n      <td>3874437</td>\n      <td>0.916</td>\n    </tr>\n    <tr>\n      <th>Italy</th>\n      <td>2167744</td>\n      <td>0.873</td>\n    </tr>\n    <tr>\n      <th>Japan</th>\n      <td>4602367</td>\n      <td>0.891</td>\n    </tr>\n    <tr>\n      <th>United Kingdom</th>\n      <td>2950039</td>\n      <td>0.907</td>\n    </tr>\n    <tr>\n      <th>United States</th>\n      <td>17348075</td>\n      <td>0.915</td>\n    </tr>\n  </tbody>\n</table>\n</div>"
     },
     "execution_count": 36,
     "metadata": {},
     "output_type": "execute_result"
    }
   ],
   "source": [
    "df[['GDP', 'HDI']]"
   ],
   "metadata": {
    "collapsed": false
   }
  },
  {
   "cell_type": "code",
   "execution_count": 37,
   "outputs": [
    {
     "data": {
      "text/plain": "                       GDP    HDI\nCanada            785387.0  0.613\nFrance           1833687.0  0.588\nGermany          2874437.0  0.616\nItaly            1167744.0  0.573\nJapan            3602367.0  0.591\nUnited Kingdom   1950039.0  0.607\nUnited States   16348075.0  0.615",
      "text/html": "<div>\n<style scoped>\n    .dataframe tbody tr th:only-of-type {\n        vertical-align: middle;\n    }\n\n    .dataframe tbody tr th {\n        vertical-align: top;\n    }\n\n    .dataframe thead th {\n        text-align: right;\n    }\n</style>\n<table border=\"1\" class=\"dataframe\">\n  <thead>\n    <tr style=\"text-align: right;\">\n      <th></th>\n      <th>GDP</th>\n      <th>HDI</th>\n    </tr>\n  </thead>\n  <tbody>\n    <tr>\n      <th>Canada</th>\n      <td>785387.0</td>\n      <td>0.613</td>\n    </tr>\n    <tr>\n      <th>France</th>\n      <td>1833687.0</td>\n      <td>0.588</td>\n    </tr>\n    <tr>\n      <th>Germany</th>\n      <td>2874437.0</td>\n      <td>0.616</td>\n    </tr>\n    <tr>\n      <th>Italy</th>\n      <td>1167744.0</td>\n      <td>0.573</td>\n    </tr>\n    <tr>\n      <th>Japan</th>\n      <td>3602367.0</td>\n      <td>0.591</td>\n    </tr>\n    <tr>\n      <th>United Kingdom</th>\n      <td>1950039.0</td>\n      <td>0.607</td>\n    </tr>\n    <tr>\n      <th>United States</th>\n      <td>16348075.0</td>\n      <td>0.615</td>\n    </tr>\n  </tbody>\n</table>\n</div>"
     },
     "execution_count": 37,
     "metadata": {},
     "output_type": "execute_result"
    }
   ],
   "source": [
    "df[['GDP', 'HDI']] + crisis"
   ],
   "metadata": {
    "collapsed": false
   }
  },
  {
   "cell_type": "markdown",
   "source": [
    "# Modifying Dataframes"
   ],
   "metadata": {
    "collapsed": false
   }
  },
  {
   "cell_type": "code",
   "execution_count": 38,
   "outputs": [],
   "source": [
    "# Adding a new column\n",
    "langs = pd.Series(\n",
    "    ['French', 'German', 'Italian'],\n",
    "    index=['France', 'Germany', 'Italy'],\n",
    "    name='Language'\n",
    ")"
   ],
   "metadata": {
    "collapsed": false
   }
  },
  {
   "cell_type": "code",
   "execution_count": 39,
   "outputs": [],
   "source": [
    "df['Language'] = langs"
   ],
   "metadata": {
    "collapsed": false
   }
  },
  {
   "cell_type": "code",
   "execution_count": 40,
   "outputs": [
    {
     "data": {
      "text/plain": "                Population       GDP  Surface Area    HDI Continent Language\nCanada              35.467   1785387       9984670  0.913   America      NaN\nFrance              63.951   2833687        640679  0.888    Europe   French\nGermany             80.940   3874437        357114  0.916    Europe   German\nItaly               60.665   2167744        301336  0.873    Europe  Italian\nJapan              127.061   4602367        377930  0.891      Asia      NaN\nUnited Kingdom      64.511   2950039        242495  0.907    Europe      NaN\nUnited States      318.523  17348075       9525067  0.915   America      NaN",
      "text/html": "<div>\n<style scoped>\n    .dataframe tbody tr th:only-of-type {\n        vertical-align: middle;\n    }\n\n    .dataframe tbody tr th {\n        vertical-align: top;\n    }\n\n    .dataframe thead th {\n        text-align: right;\n    }\n</style>\n<table border=\"1\" class=\"dataframe\">\n  <thead>\n    <tr style=\"text-align: right;\">\n      <th></th>\n      <th>Population</th>\n      <th>GDP</th>\n      <th>Surface Area</th>\n      <th>HDI</th>\n      <th>Continent</th>\n      <th>Language</th>\n    </tr>\n  </thead>\n  <tbody>\n    <tr>\n      <th>Canada</th>\n      <td>35.467</td>\n      <td>1785387</td>\n      <td>9984670</td>\n      <td>0.913</td>\n      <td>America</td>\n      <td>NaN</td>\n    </tr>\n    <tr>\n      <th>France</th>\n      <td>63.951</td>\n      <td>2833687</td>\n      <td>640679</td>\n      <td>0.888</td>\n      <td>Europe</td>\n      <td>French</td>\n    </tr>\n    <tr>\n      <th>Germany</th>\n      <td>80.940</td>\n      <td>3874437</td>\n      <td>357114</td>\n      <td>0.916</td>\n      <td>Europe</td>\n      <td>German</td>\n    </tr>\n    <tr>\n      <th>Italy</th>\n      <td>60.665</td>\n      <td>2167744</td>\n      <td>301336</td>\n      <td>0.873</td>\n      <td>Europe</td>\n      <td>Italian</td>\n    </tr>\n    <tr>\n      <th>Japan</th>\n      <td>127.061</td>\n      <td>4602367</td>\n      <td>377930</td>\n      <td>0.891</td>\n      <td>Asia</td>\n      <td>NaN</td>\n    </tr>\n    <tr>\n      <th>United Kingdom</th>\n      <td>64.511</td>\n      <td>2950039</td>\n      <td>242495</td>\n      <td>0.907</td>\n      <td>Europe</td>\n      <td>NaN</td>\n    </tr>\n    <tr>\n      <th>United States</th>\n      <td>318.523</td>\n      <td>17348075</td>\n      <td>9525067</td>\n      <td>0.915</td>\n      <td>America</td>\n      <td>NaN</td>\n    </tr>\n  </tbody>\n</table>\n</div>"
     },
     "execution_count": 40,
     "metadata": {},
     "output_type": "execute_result"
    }
   ],
   "source": [
    "df"
   ],
   "metadata": {
    "collapsed": false
   }
  },
  {
   "cell_type": "code",
   "execution_count": 41,
   "outputs": [],
   "source": [
    "# replacing vals per col\n",
    "df['Language'] = 'English'"
   ],
   "metadata": {
    "collapsed": false
   }
  },
  {
   "cell_type": "code",
   "execution_count": 42,
   "outputs": [
    {
     "data": {
      "text/plain": "                Population       GDP  Surface Area    HDI Continent Language\nCanada              35.467   1785387       9984670  0.913   America  English\nFrance              63.951   2833687        640679  0.888    Europe  English\nGermany             80.940   3874437        357114  0.916    Europe  English\nItaly               60.665   2167744        301336  0.873    Europe  English\nJapan              127.061   4602367        377930  0.891      Asia  English\nUnited Kingdom      64.511   2950039        242495  0.907    Europe  English\nUnited States      318.523  17348075       9525067  0.915   America  English",
      "text/html": "<div>\n<style scoped>\n    .dataframe tbody tr th:only-of-type {\n        vertical-align: middle;\n    }\n\n    .dataframe tbody tr th {\n        vertical-align: top;\n    }\n\n    .dataframe thead th {\n        text-align: right;\n    }\n</style>\n<table border=\"1\" class=\"dataframe\">\n  <thead>\n    <tr style=\"text-align: right;\">\n      <th></th>\n      <th>Population</th>\n      <th>GDP</th>\n      <th>Surface Area</th>\n      <th>HDI</th>\n      <th>Continent</th>\n      <th>Language</th>\n    </tr>\n  </thead>\n  <tbody>\n    <tr>\n      <th>Canada</th>\n      <td>35.467</td>\n      <td>1785387</td>\n      <td>9984670</td>\n      <td>0.913</td>\n      <td>America</td>\n      <td>English</td>\n    </tr>\n    <tr>\n      <th>France</th>\n      <td>63.951</td>\n      <td>2833687</td>\n      <td>640679</td>\n      <td>0.888</td>\n      <td>Europe</td>\n      <td>English</td>\n    </tr>\n    <tr>\n      <th>Germany</th>\n      <td>80.940</td>\n      <td>3874437</td>\n      <td>357114</td>\n      <td>0.916</td>\n      <td>Europe</td>\n      <td>English</td>\n    </tr>\n    <tr>\n      <th>Italy</th>\n      <td>60.665</td>\n      <td>2167744</td>\n      <td>301336</td>\n      <td>0.873</td>\n      <td>Europe</td>\n      <td>English</td>\n    </tr>\n    <tr>\n      <th>Japan</th>\n      <td>127.061</td>\n      <td>4602367</td>\n      <td>377930</td>\n      <td>0.891</td>\n      <td>Asia</td>\n      <td>English</td>\n    </tr>\n    <tr>\n      <th>United Kingdom</th>\n      <td>64.511</td>\n      <td>2950039</td>\n      <td>242495</td>\n      <td>0.907</td>\n      <td>Europe</td>\n      <td>English</td>\n    </tr>\n    <tr>\n      <th>United States</th>\n      <td>318.523</td>\n      <td>17348075</td>\n      <td>9525067</td>\n      <td>0.915</td>\n      <td>America</td>\n      <td>English</td>\n    </tr>\n  </tbody>\n</table>\n</div>"
     },
     "execution_count": 42,
     "metadata": {},
     "output_type": "execute_result"
    }
   ],
   "source": [
    "df"
   ],
   "metadata": {
    "collapsed": false
   }
  },
  {
   "cell_type": "code",
   "execution_count": 43,
   "outputs": [
    {
     "data": {
      "text/plain": "         Population       GDP  Surface Area  Human Development Index  \\\nCanada       35.467   1785387       9984670                    0.913   \nFrance       63.951   2833687        640679                    0.888   \nGermany      80.940   3874437        357114                    0.916   \nItaly        60.665   2167744        301336                    0.873   \nJapan       127.061   4602367        377930                    0.891   \nUK           64.511   2950039        242495                    0.907   \nUSA         318.523  17348075       9525067                    0.915   \n\n        Continent Language  \nCanada    America  English  \nFrance     Europe  English  \nGermany    Europe  English  \nItaly      Europe  English  \nJapan        Asia  English  \nUK         Europe  English  \nUSA       America  English  ",
      "text/html": "<div>\n<style scoped>\n    .dataframe tbody tr th:only-of-type {\n        vertical-align: middle;\n    }\n\n    .dataframe tbody tr th {\n        vertical-align: top;\n    }\n\n    .dataframe thead th {\n        text-align: right;\n    }\n</style>\n<table border=\"1\" class=\"dataframe\">\n  <thead>\n    <tr style=\"text-align: right;\">\n      <th></th>\n      <th>Population</th>\n      <th>GDP</th>\n      <th>Surface Area</th>\n      <th>Human Development Index</th>\n      <th>Continent</th>\n      <th>Language</th>\n    </tr>\n  </thead>\n  <tbody>\n    <tr>\n      <th>Canada</th>\n      <td>35.467</td>\n      <td>1785387</td>\n      <td>9984670</td>\n      <td>0.913</td>\n      <td>America</td>\n      <td>English</td>\n    </tr>\n    <tr>\n      <th>France</th>\n      <td>63.951</td>\n      <td>2833687</td>\n      <td>640679</td>\n      <td>0.888</td>\n      <td>Europe</td>\n      <td>English</td>\n    </tr>\n    <tr>\n      <th>Germany</th>\n      <td>80.940</td>\n      <td>3874437</td>\n      <td>357114</td>\n      <td>0.916</td>\n      <td>Europe</td>\n      <td>English</td>\n    </tr>\n    <tr>\n      <th>Italy</th>\n      <td>60.665</td>\n      <td>2167744</td>\n      <td>301336</td>\n      <td>0.873</td>\n      <td>Europe</td>\n      <td>English</td>\n    </tr>\n    <tr>\n      <th>Japan</th>\n      <td>127.061</td>\n      <td>4602367</td>\n      <td>377930</td>\n      <td>0.891</td>\n      <td>Asia</td>\n      <td>English</td>\n    </tr>\n    <tr>\n      <th>UK</th>\n      <td>64.511</td>\n      <td>2950039</td>\n      <td>242495</td>\n      <td>0.907</td>\n      <td>Europe</td>\n      <td>English</td>\n    </tr>\n    <tr>\n      <th>USA</th>\n      <td>318.523</td>\n      <td>17348075</td>\n      <td>9525067</td>\n      <td>0.915</td>\n      <td>America</td>\n      <td>English</td>\n    </tr>\n  </tbody>\n</table>\n</div>"
     },
     "execution_count": 43,
     "metadata": {},
     "output_type": "execute_result"
    }
   ],
   "source": [
    "# renaming cols\n",
    "df.rename(\n",
    "    columns={\n",
    "        'HDI' : 'Human Development Index',\n",
    "        'Anual Popcorn Consumption' : 'APC'\n",
    "    }, index={\n",
    "        \"United States\": \"USA\",\n",
    "        \"United Kingdom\": \"UK\",\n",
    "        \"Argentina\": 'AR'\n",
    "    }\n",
    ")"
   ],
   "metadata": {
    "collapsed": false
   }
  },
  {
   "cell_type": "code",
   "execution_count": 44,
   "outputs": [
    {
     "data": {
      "text/plain": "                Population       GDP  Surface Area    HDI Continent Language\nCANADA              35.467   1785387       9984670  0.913   America  English\nFRANCE              63.951   2833687        640679  0.888    Europe  English\nGERMANY             80.940   3874437        357114  0.916    Europe  English\nITALY               60.665   2167744        301336  0.873    Europe  English\nJAPAN              127.061   4602367        377930  0.891      Asia  English\nUNITED KINGDOM      64.511   2950039        242495  0.907    Europe  English\nUNITED STATES      318.523  17348075       9525067  0.915   America  English",
      "text/html": "<div>\n<style scoped>\n    .dataframe tbody tr th:only-of-type {\n        vertical-align: middle;\n    }\n\n    .dataframe tbody tr th {\n        vertical-align: top;\n    }\n\n    .dataframe thead th {\n        text-align: right;\n    }\n</style>\n<table border=\"1\" class=\"dataframe\">\n  <thead>\n    <tr style=\"text-align: right;\">\n      <th></th>\n      <th>Population</th>\n      <th>GDP</th>\n      <th>Surface Area</th>\n      <th>HDI</th>\n      <th>Continent</th>\n      <th>Language</th>\n    </tr>\n  </thead>\n  <tbody>\n    <tr>\n      <th>CANADA</th>\n      <td>35.467</td>\n      <td>1785387</td>\n      <td>9984670</td>\n      <td>0.913</td>\n      <td>America</td>\n      <td>English</td>\n    </tr>\n    <tr>\n      <th>FRANCE</th>\n      <td>63.951</td>\n      <td>2833687</td>\n      <td>640679</td>\n      <td>0.888</td>\n      <td>Europe</td>\n      <td>English</td>\n    </tr>\n    <tr>\n      <th>GERMANY</th>\n      <td>80.940</td>\n      <td>3874437</td>\n      <td>357114</td>\n      <td>0.916</td>\n      <td>Europe</td>\n      <td>English</td>\n    </tr>\n    <tr>\n      <th>ITALY</th>\n      <td>60.665</td>\n      <td>2167744</td>\n      <td>301336</td>\n      <td>0.873</td>\n      <td>Europe</td>\n      <td>English</td>\n    </tr>\n    <tr>\n      <th>JAPAN</th>\n      <td>127.061</td>\n      <td>4602367</td>\n      <td>377930</td>\n      <td>0.891</td>\n      <td>Asia</td>\n      <td>English</td>\n    </tr>\n    <tr>\n      <th>UNITED KINGDOM</th>\n      <td>64.511</td>\n      <td>2950039</td>\n      <td>242495</td>\n      <td>0.907</td>\n      <td>Europe</td>\n      <td>English</td>\n    </tr>\n    <tr>\n      <th>UNITED STATES</th>\n      <td>318.523</td>\n      <td>17348075</td>\n      <td>9525067</td>\n      <td>0.915</td>\n      <td>America</td>\n      <td>English</td>\n    </tr>\n  </tbody>\n</table>\n</div>"
     },
     "execution_count": 44,
     "metadata": {},
     "output_type": "execute_result"
    }
   ],
   "source": [
    "df.rename(index=str.upper)"
   ],
   "metadata": {
    "collapsed": false
   }
  },
  {
   "cell_type": "code",
   "execution_count": 45,
   "outputs": [
    {
     "data": {
      "text/plain": "                Population       GDP  Surface Area    HDI Continent Language\ncanada              35.467   1785387       9984670  0.913   America  English\nfrance              63.951   2833687        640679  0.888    Europe  English\ngermany             80.940   3874437        357114  0.916    Europe  English\nitaly               60.665   2167744        301336  0.873    Europe  English\njapan              127.061   4602367        377930  0.891      Asia  English\nunited kingdom      64.511   2950039        242495  0.907    Europe  English\nunited states      318.523  17348075       9525067  0.915   America  English",
      "text/html": "<div>\n<style scoped>\n    .dataframe tbody tr th:only-of-type {\n        vertical-align: middle;\n    }\n\n    .dataframe tbody tr th {\n        vertical-align: top;\n    }\n\n    .dataframe thead th {\n        text-align: right;\n    }\n</style>\n<table border=\"1\" class=\"dataframe\">\n  <thead>\n    <tr style=\"text-align: right;\">\n      <th></th>\n      <th>Population</th>\n      <th>GDP</th>\n      <th>Surface Area</th>\n      <th>HDI</th>\n      <th>Continent</th>\n      <th>Language</th>\n    </tr>\n  </thead>\n  <tbody>\n    <tr>\n      <th>canada</th>\n      <td>35.467</td>\n      <td>1785387</td>\n      <td>9984670</td>\n      <td>0.913</td>\n      <td>America</td>\n      <td>English</td>\n    </tr>\n    <tr>\n      <th>france</th>\n      <td>63.951</td>\n      <td>2833687</td>\n      <td>640679</td>\n      <td>0.888</td>\n      <td>Europe</td>\n      <td>English</td>\n    </tr>\n    <tr>\n      <th>germany</th>\n      <td>80.940</td>\n      <td>3874437</td>\n      <td>357114</td>\n      <td>0.916</td>\n      <td>Europe</td>\n      <td>English</td>\n    </tr>\n    <tr>\n      <th>italy</th>\n      <td>60.665</td>\n      <td>2167744</td>\n      <td>301336</td>\n      <td>0.873</td>\n      <td>Europe</td>\n      <td>English</td>\n    </tr>\n    <tr>\n      <th>japan</th>\n      <td>127.061</td>\n      <td>4602367</td>\n      <td>377930</td>\n      <td>0.891</td>\n      <td>Asia</td>\n      <td>English</td>\n    </tr>\n    <tr>\n      <th>united kingdom</th>\n      <td>64.511</td>\n      <td>2950039</td>\n      <td>242495</td>\n      <td>0.907</td>\n      <td>Europe</td>\n      <td>English</td>\n    </tr>\n    <tr>\n      <th>united states</th>\n      <td>318.523</td>\n      <td>17348075</td>\n      <td>9525067</td>\n      <td>0.915</td>\n      <td>America</td>\n      <td>English</td>\n    </tr>\n  </tbody>\n</table>\n</div>"
     },
     "execution_count": 45,
     "metadata": {},
     "output_type": "execute_result"
    }
   ],
   "source": [
    "df.rename(index=lambda x: x.lower())"
   ],
   "metadata": {
    "collapsed": false
   }
  },
  {
   "cell_type": "markdown",
   "source": [
    "# Creating cols from other cols"
   ],
   "metadata": {
    "collapsed": false
   }
  },
  {
   "cell_type": "code",
   "execution_count": 49,
   "outputs": [],
   "source": [
    "# \"GDP per capita\" is GDP/Population"
   ],
   "metadata": {
    "collapsed": false
   }
  },
  {
   "cell_type": "code",
   "execution_count": 48,
   "outputs": [
    {
     "data": {
      "text/plain": "                Population       GDP\nCanada              35.467   1785387\nFrance              63.951   2833687\nGermany             80.940   3874437\nItaly               60.665   2167744\nJapan              127.061   4602367\nUnited Kingdom      64.511   2950039\nUnited States      318.523  17348075",
      "text/html": "<div>\n<style scoped>\n    .dataframe tbody tr th:only-of-type {\n        vertical-align: middle;\n    }\n\n    .dataframe tbody tr th {\n        vertical-align: top;\n    }\n\n    .dataframe thead th {\n        text-align: right;\n    }\n</style>\n<table border=\"1\" class=\"dataframe\">\n  <thead>\n    <tr style=\"text-align: right;\">\n      <th></th>\n      <th>Population</th>\n      <th>GDP</th>\n    </tr>\n  </thead>\n  <tbody>\n    <tr>\n      <th>Canada</th>\n      <td>35.467</td>\n      <td>1785387</td>\n    </tr>\n    <tr>\n      <th>France</th>\n      <td>63.951</td>\n      <td>2833687</td>\n    </tr>\n    <tr>\n      <th>Germany</th>\n      <td>80.940</td>\n      <td>3874437</td>\n    </tr>\n    <tr>\n      <th>Italy</th>\n      <td>60.665</td>\n      <td>2167744</td>\n    </tr>\n    <tr>\n      <th>Japan</th>\n      <td>127.061</td>\n      <td>4602367</td>\n    </tr>\n    <tr>\n      <th>United Kingdom</th>\n      <td>64.511</td>\n      <td>2950039</td>\n    </tr>\n    <tr>\n      <th>United States</th>\n      <td>318.523</td>\n      <td>17348075</td>\n    </tr>\n  </tbody>\n</table>\n</div>"
     },
     "execution_count": 48,
     "metadata": {},
     "output_type": "execute_result"
    }
   ],
   "source": [
    "df[['Population', 'GDP']]"
   ],
   "metadata": {
    "collapsed": false
   }
  },
  {
   "cell_type": "code",
   "execution_count": 51,
   "outputs": [],
   "source": [
    "df['GDP Per Capita'] = df['GDP'] / df['Population']"
   ],
   "metadata": {
    "collapsed": false
   }
  },
  {
   "cell_type": "code",
   "execution_count": 52,
   "outputs": [
    {
     "data": {
      "text/plain": "                Population       GDP  Surface Area    HDI Continent Language  \\\nCanada              35.467   1785387       9984670  0.913   America  English   \nFrance              63.951   2833687        640679  0.888    Europe  English   \nGermany             80.940   3874437        357114  0.916    Europe  English   \nItaly               60.665   2167744        301336  0.873    Europe  English   \nJapan              127.061   4602367        377930  0.891      Asia  English   \nUnited Kingdom      64.511   2950039        242495  0.907    Europe  English   \nUnited States      318.523  17348075       9525067  0.915   America  English   \n\n                GDP Per Capita  \nCanada            50339.385908  \nFrance            44310.284437  \nGermany           47868.013343  \nItaly             35733.025633  \nJapan             36221.712406  \nUnited Kingdom    45729.239975  \nUnited States     54464.120330  ",
      "text/html": "<div>\n<style scoped>\n    .dataframe tbody tr th:only-of-type {\n        vertical-align: middle;\n    }\n\n    .dataframe tbody tr th {\n        vertical-align: top;\n    }\n\n    .dataframe thead th {\n        text-align: right;\n    }\n</style>\n<table border=\"1\" class=\"dataframe\">\n  <thead>\n    <tr style=\"text-align: right;\">\n      <th></th>\n      <th>Population</th>\n      <th>GDP</th>\n      <th>Surface Area</th>\n      <th>HDI</th>\n      <th>Continent</th>\n      <th>Language</th>\n      <th>GDP Per Capita</th>\n    </tr>\n  </thead>\n  <tbody>\n    <tr>\n      <th>Canada</th>\n      <td>35.467</td>\n      <td>1785387</td>\n      <td>9984670</td>\n      <td>0.913</td>\n      <td>America</td>\n      <td>English</td>\n      <td>50339.385908</td>\n    </tr>\n    <tr>\n      <th>France</th>\n      <td>63.951</td>\n      <td>2833687</td>\n      <td>640679</td>\n      <td>0.888</td>\n      <td>Europe</td>\n      <td>English</td>\n      <td>44310.284437</td>\n    </tr>\n    <tr>\n      <th>Germany</th>\n      <td>80.940</td>\n      <td>3874437</td>\n      <td>357114</td>\n      <td>0.916</td>\n      <td>Europe</td>\n      <td>English</td>\n      <td>47868.013343</td>\n    </tr>\n    <tr>\n      <th>Italy</th>\n      <td>60.665</td>\n      <td>2167744</td>\n      <td>301336</td>\n      <td>0.873</td>\n      <td>Europe</td>\n      <td>English</td>\n      <td>35733.025633</td>\n    </tr>\n    <tr>\n      <th>Japan</th>\n      <td>127.061</td>\n      <td>4602367</td>\n      <td>377930</td>\n      <td>0.891</td>\n      <td>Asia</td>\n      <td>English</td>\n      <td>36221.712406</td>\n    </tr>\n    <tr>\n      <th>United Kingdom</th>\n      <td>64.511</td>\n      <td>2950039</td>\n      <td>242495</td>\n      <td>0.907</td>\n      <td>Europe</td>\n      <td>English</td>\n      <td>45729.239975</td>\n    </tr>\n    <tr>\n      <th>United States</th>\n      <td>318.523</td>\n      <td>17348075</td>\n      <td>9525067</td>\n      <td>0.915</td>\n      <td>America</td>\n      <td>English</td>\n      <td>54464.120330</td>\n    </tr>\n  </tbody>\n</table>\n</div>"
     },
     "execution_count": 52,
     "metadata": {},
     "output_type": "execute_result"
    }
   ],
   "source": [
    "df"
   ],
   "metadata": {
    "collapsed": false
   }
  },
  {
   "cell_type": "markdown",
   "source": [
    "# Statistical information"
   ],
   "metadata": {
    "collapsed": false
   }
  },
  {
   "cell_type": "code",
   "execution_count": 53,
   "outputs": [
    {
     "data": {
      "text/plain": "         Population      GDP  Surface Area    HDI Continent Language  \\\nCanada       35.467  1785387       9984670  0.913   America  English   \nFrance       63.951  2833687        640679  0.888    Europe  English   \nGermany      80.940  3874437        357114  0.916    Europe  English   \nItaly        60.665  2167744        301336  0.873    Europe  English   \nJapan       127.061  4602367        377930  0.891      Asia  English   \n\n         GDP Per Capita  \nCanada     50339.385908  \nFrance     44310.284437  \nGermany    47868.013343  \nItaly      35733.025633  \nJapan      36221.712406  ",
      "text/html": "<div>\n<style scoped>\n    .dataframe tbody tr th:only-of-type {\n        vertical-align: middle;\n    }\n\n    .dataframe tbody tr th {\n        vertical-align: top;\n    }\n\n    .dataframe thead th {\n        text-align: right;\n    }\n</style>\n<table border=\"1\" class=\"dataframe\">\n  <thead>\n    <tr style=\"text-align: right;\">\n      <th></th>\n      <th>Population</th>\n      <th>GDP</th>\n      <th>Surface Area</th>\n      <th>HDI</th>\n      <th>Continent</th>\n      <th>Language</th>\n      <th>GDP Per Capita</th>\n    </tr>\n  </thead>\n  <tbody>\n    <tr>\n      <th>Canada</th>\n      <td>35.467</td>\n      <td>1785387</td>\n      <td>9984670</td>\n      <td>0.913</td>\n      <td>America</td>\n      <td>English</td>\n      <td>50339.385908</td>\n    </tr>\n    <tr>\n      <th>France</th>\n      <td>63.951</td>\n      <td>2833687</td>\n      <td>640679</td>\n      <td>0.888</td>\n      <td>Europe</td>\n      <td>English</td>\n      <td>44310.284437</td>\n    </tr>\n    <tr>\n      <th>Germany</th>\n      <td>80.940</td>\n      <td>3874437</td>\n      <td>357114</td>\n      <td>0.916</td>\n      <td>Europe</td>\n      <td>English</td>\n      <td>47868.013343</td>\n    </tr>\n    <tr>\n      <th>Italy</th>\n      <td>60.665</td>\n      <td>2167744</td>\n      <td>301336</td>\n      <td>0.873</td>\n      <td>Europe</td>\n      <td>English</td>\n      <td>35733.025633</td>\n    </tr>\n    <tr>\n      <th>Japan</th>\n      <td>127.061</td>\n      <td>4602367</td>\n      <td>377930</td>\n      <td>0.891</td>\n      <td>Asia</td>\n      <td>English</td>\n      <td>36221.712406</td>\n    </tr>\n  </tbody>\n</table>\n</div>"
     },
     "execution_count": 53,
     "metadata": {},
     "output_type": "execute_result"
    }
   ],
   "source": [
    "df.head()"
   ],
   "metadata": {
    "collapsed": false
   }
  },
  {
   "cell_type": "code",
   "execution_count": 54,
   "outputs": [],
   "source": [
    "population = df['Population']"
   ],
   "metadata": {
    "collapsed": false
   }
  },
  {
   "cell_type": "code",
   "execution_count": 55,
   "outputs": [
    {
     "data": {
      "text/plain": "62.308"
     },
     "execution_count": 55,
     "metadata": {},
     "output_type": "execute_result"
    }
   ],
   "source": [
    "population.quantile(.25)"
   ],
   "metadata": {
    "collapsed": false
   }
  },
  {
   "cell_type": "code",
   "execution_count": null,
   "outputs": [],
   "source": [],
   "metadata": {
    "collapsed": false
   }
  }
 ],
 "metadata": {
  "kernelspec": {
   "display_name": "Python 3",
   "language": "python",
   "name": "python3"
  },
  "language_info": {
   "codemirror_mode": {
    "name": "ipython",
    "version": 2
   },
   "file_extension": ".py",
   "mimetype": "text/x-python",
   "name": "python",
   "nbconvert_exporter": "python",
   "pygments_lexer": "ipython2",
   "version": "2.7.6"
  }
 },
 "nbformat": 4,
 "nbformat_minor": 0
}
